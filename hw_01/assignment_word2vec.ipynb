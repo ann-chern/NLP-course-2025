{
  "cells": [
    {
      "cell_type": "markdown",
      "metadata": {
        "id": "nTSf4ro-qU0d"
      },
      "source": [
        "## Бонусное задание: word2vec на PyTorch\n",
        "\n",
        "Как вы уже могли заметить, идея, лежащая в основе [word2vec](https://arxiv.org/pdf/1310.4546), достаточно общая. В данном задании вы реализуете его самостоятельно.\n",
        "\n",
        "Дисклеймер: не стоит удивляться тому, что реализация от `gensim` (или аналоги) обучается быстрее и работает точнее. Она использует множество доработок и ускорений, а также достаточно эффективный код. Ваша задача добиться промежуточных результатов за разумное время.\n",
        "\n",
        "P.s. Как ни странно, GPU в этом задании нам не потребуется."
      ]
    },
    {
      "cell_type": "markdown",
      "metadata": {
        "id": "JCrsn5VHE1gW"
      },
      "source": [
        "__Requirements:__ if you're running locally, in the selected environment run the following command:\n",
        "\n",
        "```pip install --upgrade nltk bokeh umap-learn```\n"
      ]
    },
    {
      "cell_type": "code",
      "execution_count": 1,
      "metadata": {
        "id": "Oipe2DU8qfm7"
      },
      "outputs": [],
      "source": [
        "#%pip install --upgrade nltk bokeh umap-learn"
      ]
    },
    {
      "cell_type": "code",
      "execution_count": 2,
      "metadata": {
        "id": "pqPU4Lu2qU0h"
      },
      "outputs": [
        {
          "name": "stderr",
          "output_type": "stream",
          "text": [
            "c:\\Users\\Anna\\Desktop\\NLP_course\\hw_1\\.venv\\Lib\\site-packages\\tqdm\\auto.py:21: TqdmWarning: IProgress not found. Please update jupyter and ipywidgets. See https://ipywidgets.readthedocs.io/en/stable/user_install.html\n",
            "  from .autonotebook import tqdm as notebook_tqdm\n"
          ]
        }
      ],
      "source": [
        "import itertools\n",
        "import random\n",
        "import string\n",
        "from collections import Counter\n",
        "from itertools import chain\n",
        "\n",
        "import matplotlib.pyplot as plt\n",
        "import numpy as np\n",
        "import torch\n",
        "import torch.autograd as autograd\n",
        "import torch.nn as nn\n",
        "import torch.nn.functional as F\n",
        "import torch.optim as optim\n",
        "import umap\n",
        "from IPython.display import clear_output\n",
        "from matplotlib import pyplot as plt\n",
        "from nltk.tokenize import WordPunctTokenizer\n",
        "from torch.optim.lr_scheduler import ReduceLROnPlateau, StepLR\n",
        "from tqdm.auto import tqdm as tqdma"
      ]
    },
    {
      "cell_type": "code",
      "execution_count": 3,
      "metadata": {
        "id": "8Fbx57z3qU0i"
      },
      "outputs": [],
      "source": [
        "# download the data:\n",
        "#!wget https://www.dropbox.com/s/obaitrix9jyu84r/quora.txt?dl=1 -O ./quora.txt -nc\n",
        "# alternative download link: https://yadi.sk/i/BPQrUu1NaTduEw"
      ]
    },
    {
      "cell_type": "code",
      "execution_count": 4,
      "metadata": {
        "id": "8EYy5dQpqU0i",
        "scrolled": false
      },
      "outputs": [
        {
          "data": {
            "text/plain": [
              "\"What TV shows or books help you read people's body language?\\n\""
            ]
          },
          "execution_count": 4,
          "metadata": {},
          "output_type": "execute_result"
        }
      ],
      "source": [
        "data = list(open(\"./quora.txt\", encoding=\"utf-8\"))\n",
        "data[50]"
      ]
    },
    {
      "cell_type": "markdown",
      "metadata": {
        "id": "feBEGI2eqU0j"
      },
      "source": [
        "Токенизация – первый шаг.\n",
        "Тексты, с которыми мы работаем, включают в себя пунктуацию, смайлики и прочие нестандартные токены, так что простой `str.split` не подойдет.\n",
        "\n",
        "Обратимся к `nltk` - библиотеку, нашла широкое применеие в области NLP."
      ]
    },
    {
      "cell_type": "code",
      "execution_count": 5,
      "metadata": {
        "id": "7mWTvm50qU0j"
      },
      "outputs": [
        {
          "name": "stdout",
          "output_type": "stream",
          "text": [
            "['What', 'TV', 'shows', 'or', 'books', 'help', 'you', 'read', 'people', \"'\", 's', 'body', 'language', '?']\n"
          ]
        }
      ],
      "source": [
        "tokenizer = WordPunctTokenizer()\n",
        "\n",
        "print(tokenizer.tokenize(data[50]))"
      ]
    },
    {
      "cell_type": "code",
      "execution_count": 6,
      "metadata": {
        "id": "HzC05EHWqU0j"
      },
      "outputs": [],
      "source": [
        "data_tok = [\n",
        "    tokenizer.tokenize(\n",
        "        line.translate(str.maketrans(\"\", \"\", string.punctuation)).lower()\n",
        "    )\n",
        "    for line in data\n",
        "]\n",
        "data_tok = [x for x in data_tok if len(x) >= 3]"
      ]
    },
    {
      "cell_type": "markdown",
      "metadata": {
        "id": "6azRAgHIqU0k"
      },
      "source": [
        "Несколько проверок:"
      ]
    },
    {
      "cell_type": "code",
      "execution_count": 7,
      "metadata": {
        "id": "Cp8UpxdWqU0k"
      },
      "outputs": [],
      "source": [
        "assert all(\n",
        "    isinstance(row, (list, tuple)) for row in data_tok\n",
        "), \"please convert each line into a list of tokens (strings)\"\n",
        "assert all(\n",
        "    all(isinstance(tok, str) for tok in row) for row in data_tok\n",
        "), \"please convert each line into a list of tokens (strings)\"\n",
        "is_latin = lambda tok: all(\"a\" <= x.lower() <= \"z\" for x in tok)\n",
        "assert all(\n",
        "    map(lambda l: not is_latin(l) or l.islower(), map(\" \".join, data_tok))\n",
        "), \"please make sure to lowercase the data\""
      ]
    },
    {
      "cell_type": "markdown",
      "metadata": {
        "id": "37e7-MIhqU0x"
      },
      "source": [
        "Ниже заданы константы ширины окна контекста и проведена предобработка для построения skip-gram модели."
      ]
    },
    {
      "cell_type": "code",
      "execution_count": 8,
      "metadata": {
        "id": "fugc1IomqU0x"
      },
      "outputs": [],
      "source": [
        "min_count = 5\n",
        "window_radius = 5"
      ]
    },
    {
      "cell_type": "code",
      "execution_count": 9,
      "metadata": {
        "id": "ttInY-2GE1ge"
      },
      "outputs": [],
      "source": [
        "vocabulary_with_counter = Counter(chain.from_iterable(data_tok))\n",
        "\n",
        "word_count_dict = dict()\n",
        "for word, counter in vocabulary_with_counter.items():\n",
        "    if counter >= min_count:\n",
        "        word_count_dict[word] = counter\n",
        "\n",
        "vocabulary = set(word_count_dict.keys())\n",
        "del vocabulary_with_counter"
      ]
    },
    {
      "cell_type": "code",
      "execution_count": 10,
      "metadata": {
        "id": "DU6ClgUcE1ge"
      },
      "outputs": [],
      "source": [
        "word_to_index = {word: index for index, word in enumerate(vocabulary)}\n",
        "index_to_word = {index: word for word, index in word_to_index.items()}"
      ]
    },
    {
      "cell_type": "markdown",
      "metadata": {
        "id": "4Y8rlBfqqU0x"
      },
      "source": [
        "Пары `(слово, контекст)` на основе доступного датасета сгенерированы ниже."
      ]
    },
    {
      "cell_type": "code",
      "execution_count": 11,
      "metadata": {
        "id": "h2-aqyyaqU0x"
      },
      "outputs": [
        {
          "name": "stdout",
          "output_type": "stream",
          "text": [
            "Generated 40220313 pairs of target and context words.\n"
          ]
        }
      ],
      "source": [
        "context_pairs = []\n",
        "\n",
        "for text in data_tok:\n",
        "    for i, central_word in enumerate(text):\n",
        "        context_indices = range(\n",
        "            max(0, i - window_radius), min(i + window_radius, len(text))\n",
        "        )\n",
        "        for j in context_indices:\n",
        "            if j == i:\n",
        "                continue\n",
        "            context_word = text[j]\n",
        "            if central_word in vocabulary and context_word in vocabulary:\n",
        "                context_pairs.append(\n",
        "                    (word_to_index[central_word], word_to_index[context_word])\n",
        "                )\n",
        "\n",
        "print(f\"Generated {len(context_pairs)} pairs of target and context words.\")"
      ]
    },
    {
      "cell_type": "markdown",
      "metadata": {
        "id": "2I7fszn_E1gf"
      },
      "source": [
        "#### Подзадача №1: subsampling\n",
        "Для того, чтобы сгладить разницу в частоте встречаемсости слов, необходимо реализовать механизм subsampling'а.\n",
        "Для этого вам необходимо реализовать функцию ниже.\n",
        "\n",
        "Вероятность **исключить** слово из обучения (на фиксированном шаге) вычисляется как\n",
        "$$\n",
        "P_\\text{drop}(w_i)=1 - \\sqrt{\\frac{t}{f(w_i)}},\n",
        "$$\n",
        "где $f(w_i)$ – нормированная частота встречаемости слова, а $t$ – заданный порог (threshold)."
      ]
    },
    {
      "cell_type": "code",
      "execution_count": 12,
      "metadata": {
        "id": "2n66ioIzE1gf"
      },
      "outputs": [],
      "source": [
        "def subsample_frequent_words(word_count_dict, threshold=1e-5):\n",
        "    \"\"\"\n",
        "    Calculates the subsampling probabilities for words based on their frequencies.\n",
        "\n",
        "    This function is used to determine the probability of keeping a word in the dataset\n",
        "    when subsampling frequent words. The method used is inspired by the subsampling approach\n",
        "    in Word2Vec, where each word's frequency affects its probability of being kept.\n",
        "\n",
        "    Parameters:\n",
        "    - word_count_dict (dict): A dictionary where keys are words and values are the counts of those words.\n",
        "    - threshold (float, optional): A threshold parameter used to adjust the frequency of word subsampling.\n",
        "                                   Defaults to 1e-5.\n",
        "\n",
        "    Returns:\n",
        "    - dict: A dictionary where keys are words and values are the probabilities of keeping each word.\n",
        "\n",
        "    Example:\n",
        "    >>> word_counts = {'the': 5000, 'is': 1000, 'apple': 50}\n",
        "    >>> subsample_frequent_words(word_counts)\n",
        "    {'the': 0.028, 'is': 0.223, 'apple': 1.0}\n",
        "    \"\"\"\n",
        "\n",
        "    ### YOUR CODE HERE\n",
        "    keep_prob_dict = {\n",
        "        word: 0 for word in word_count_dict.keys()\n",
        "    }  # THIS IS A PLACEHOLDER!\n",
        "    total_counts = sum(word_count_dict.values())\n",
        "    for word, count in word_count_dict.items():\n",
        "        freq = count / total_counts\n",
        "        keep_prob = np.sqrt(threshold / freq)\n",
        "        keep_prob = min(keep_prob, 1.0)  # Ensure probability does not exceed 1\n",
        "        keep_prob_dict[word] = keep_prob\n",
        "    return keep_prob_dict"
      ]
    },
    {
      "cell_type": "markdown",
      "metadata": {
        "id": "QpWKW5kVE1gf"
      },
      "source": [
        "#### Подзадача №2: negative sampling\n",
        "Для более эффективного обучения необходимо не только предсказывать высокие вероятности для слов из контекста, но и предсказывать низкие для слов, не встреченных в контексте. Для этого вам необходимо вычислить вероятност использовать слово в качестве negative sample, реализовав функцию ниже.\n",
        "\n",
        "В оригинальной статье предлагается оценивать вероятность слов выступать в качестве negative sample согласно распределению $P_n(w)$\n",
        "$$\n",
        "P_n(w) = \\frac{U(w)^{3/4}}{Z},\n",
        "$$\n",
        "\n",
        "где $U(w)$ распределение слов по частоте (или, как его еще называют, по униграммам), а $Z$ – нормировочная константа, чтобы общая мера была равна $1$."
      ]
    },
    {
      "cell_type": "code",
      "execution_count": 13,
      "metadata": {
        "id": "bljJGGYiE1gf"
      },
      "outputs": [],
      "source": [
        "def get_negative_sampling_prob(word_count_dict):\n",
        "    \"\"\"\n",
        "    Calculates the negative sampling probabilities for words based on their frequencies.\n",
        "\n",
        "    This function adjusts the frequency of each word raised to the power of 0.75, which is\n",
        "    commonly used in algorithms like Word2Vec to moderate the influence of very frequent words.\n",
        "    It then normalizes these adjusted frequencies to ensure they sum to 1, forming a probability\n",
        "    distribution used for negative sampling.\n",
        "\n",
        "    Parameters:\n",
        "    - word_count_dict (dict): A dictionary where keys are words and values are the counts of those words.\n",
        "\n",
        "    Returns:\n",
        "    - dict: A dictionary where keys are words and values are the probabilities of selecting each word\n",
        "            for negative sampling.\n",
        "\n",
        "    Example:\n",
        "    >>> word_counts = {'the': 5000, 'is': 1000, 'apple': 50}\n",
        "    >>> get_negative_sampling_prob(word_counts)\n",
        "    {'the': 0.298, 'is': 0.160, 'apple': 0.042}\n",
        "    \"\"\"\n",
        "\n",
        "    ### YOUR CODE HERE\n",
        "    negative_sampling_prob_dict = {\n",
        "        word: 0 for word in word_count_dict.keys()\n",
        "    }  # THIS IS A PLACEHOLDER!\n",
        "    total_counts = sum(word_count_dict.values())\n",
        "    u_w = {word: count / total_counts for word, count in word_count_dict.items()}\n",
        "    adjusted = {word: (freq ** 0.75) for word, freq in u_w.items()}\n",
        "    z = sum(adjusted.values())\n",
        "    negative_sampling_prob_dict = {word: (value / z) for word, value in adjusted.items()}\n",
        "    return negative_sampling_prob_dict"
      ]
    },
    {
      "cell_type": "markdown",
      "metadata": {
        "id": "I2qomhLTE1gf"
      },
      "source": [
        "Для удобства, преобразуем полученные словари в массивы (т.к. все слова все равно уже пронумерованы)."
      ]
    },
    {
      "cell_type": "code",
      "execution_count": 14,
      "metadata": {
        "id": "7I5OGleyE1gf"
      },
      "outputs": [],
      "source": [
        "keep_prob_dict = subsample_frequent_words(word_count_dict)\n",
        "assert keep_prob_dict.keys() == word_count_dict.keys()"
      ]
    },
    {
      "cell_type": "code",
      "execution_count": 15,
      "metadata": {
        "id": "irM2fwJkE1gg"
      },
      "outputs": [],
      "source": [
        "negative_sampling_prob_dict = get_negative_sampling_prob(word_count_dict)\n",
        "assert negative_sampling_prob_dict.keys() == negative_sampling_prob_dict.keys()\n",
        "assert np.allclose(sum(negative_sampling_prob_dict.values()), 1)"
      ]
    },
    {
      "cell_type": "code",
      "execution_count": 16,
      "metadata": {
        "id": "KmxfXmxQE1gg"
      },
      "outputs": [],
      "source": [
        "keep_prob_array = np.array(\n",
        "    [keep_prob_dict[index_to_word[idx]] for idx in range(len(word_to_index))]\n",
        ")\n",
        "negative_sampling_prob_array = np.array(\n",
        "    [\n",
        "        negative_sampling_prob_dict[index_to_word[idx]]\n",
        "        for idx in range(len(word_to_index))\n",
        "    ]\n",
        ")"
      ]
    },
    {
      "cell_type": "markdown",
      "metadata": {
        "id": "CT_mUiv5E1gg"
      },
      "source": [
        "Если все прошло успешно, функция ниже поможет вам с генерацией подвыборок (батчей)."
      ]
    },
    {
      "cell_type": "code",
      "execution_count": 17,
      "metadata": {
        "id": "oBpfG00PE1gg"
      },
      "outputs": [],
      "source": [
        "def generate_batch_with_neg_samples(\n",
        "    context_pairs,\n",
        "    batch_size,\n",
        "    keep_prob_array,\n",
        "    word_to_index,\n",
        "    num_negatives,\n",
        "    negative_sampling_prob_array,\n",
        "):\n",
        "    batch = []\n",
        "    neg_samples = []\n",
        "    negative_sampling_prob_array_len = len(negative_sampling_prob_array)\n",
        "    while len(batch) < batch_size:\n",
        "        center, context = random.choice(context_pairs)\n",
        "        if random.random() < keep_prob_array[center]:\n",
        "            batch.append((center, context))\n",
        "            neg_sample = np.random.choice(\n",
        "                np.arange(negative_sampling_prob_array_len), # instead of range(len(negative_sampling_prob_array)),\n",
        "                size=num_negatives,\n",
        "                p=negative_sampling_prob_array,\n",
        "            )\n",
        "            neg_samples.append(neg_sample)\n",
        "    batch = np.array(batch)\n",
        "    neg_samples = np.vstack(neg_samples)\n",
        "    return batch, neg_samples"
      ]
    },
    {
      "cell_type": "code",
      "execution_count": 18,
      "metadata": {
        "id": "bHiJRQVcE1gg"
      },
      "outputs": [],
      "source": [
        "batch_size = 4\n",
        "num_negatives = 15\n",
        "batch, neg_samples = generate_batch_with_neg_samples(\n",
        "    context_pairs,\n",
        "    batch_size,\n",
        "    keep_prob_array,\n",
        "    word_to_index,\n",
        "    num_negatives,\n",
        "    negative_sampling_prob_array,\n",
        ")"
      ]
    },
    {
      "cell_type": "markdown",
      "metadata": {
        "id": "NBFutWEvE1gg"
      },
      "source": [
        "Наконец, время реализовать модель. Обращаем ваше внимание, использование линейных слоев (`nn.Linear`) далеко не всегда оправданно!\n",
        "\n",
        "Напомним, что в случае negative sampling решается задача максимизации следующего функционала:\n",
        "\n",
        "$$\n",
        "\\mathcal{L} = \\log \\sigma({\\mathbf{v}'_{w_O}}^\\top \\mathbf{v}_{w_I}) + \\sum_{i=1}^{k} \\mathbb{E}_{w_i \\sim P_n(w)} \\left[ \\log \\sigma({-\\mathbf{v}'_{w_i}}^\\top \\mathbf{v}_{w_I}) \\right],\n",
        "$$\n",
        "\n",
        "где:\n",
        "- $\\mathbf{v}_{w_I}$ – вектор центрального слова $w_I$,\n",
        "- $\\mathbf{v}'_{w_O}$ – вектор слова из контекста $w_O$,\n",
        "- $k$ – число negative samples,\n",
        "- $P_n(w)$ – распределение negative samples, заданное выше,\n",
        "- $\\sigma$ – сигмоида."
      ]
    },
    {
      "cell_type": "code",
      "execution_count": 19,
      "metadata": {
        "id": "ZTUWuF2jE1gg"
      },
      "outputs": [],
      "source": [
        "class SkipGramModelWithNegSampling(nn.Module):\n",
        "    def __init__(self, vocab_size, embedding_dim):\n",
        "        super().__init__()\n",
        "        self.center_embeddings = nn.Embedding(vocab_size, embedding_dim)  # YOUR CODE HERE\n",
        "        self.context_embeddings = nn.Embedding(vocab_size, embedding_dim)  # YOUR CODE HERE\n",
        "        \n",
        "        # Веса инициализируются по схеме, предложенной в Word2Vec\n",
        "        #init_range = 0.5 / embedding_dim\n",
        "        #self.center_embeddings.weight.data.uniform_(-init_range, init_range)\n",
        "        #self.context_embeddings.weight.data.uniform_(0, 0)  # Контекстные эмбеддинги инициализируются нулями\n",
        "\n",
        "    def forward(self, center_words, pos_context_words, neg_context_words):\n",
        "        # YOUR CODE HERE\n",
        "        center_emb = self.center_embeddings(center_words)  # [batch_size, embedding_dim]\n",
        "        pos_emb = self.context_embeddings(pos_context_words)  # [batch_size, embedding_dim]\n",
        "        neg_emb = self.context_embeddings(neg_context_words)  # [batch_size, num_negatives, embedding_dim]\n",
        "        \n",
        "        # Вычисляем скоры для позитивных пар: v_{w_I} * v'_{w_O}\n",
        "        pos_scores = torch.sum(center_emb * pos_emb, dim=1)  # [batch_size]\n",
        "        # Вычисляем скоры для негативных пар: v_{w_I} * v'_{w_i}\n",
        "        center_expanded = center_emb.unsqueeze(1)  # [batch_size, 1, embedding_dim]\n",
        "        neg_scores = torch.sum(center_expanded * neg_emb, dim=2)  # [batch_size, num_negatives]\n",
        "\n",
        "        return pos_scores, neg_scores\n"
      ]
    },
    {
      "cell_type": "code",
      "execution_count": 20,
      "metadata": {
        "id": "3wBiJGcfE1gg"
      },
      "outputs": [],
      "source": [
        "device = torch.device(\"cpu\")"
      ]
    },
    {
      "cell_type": "code",
      "execution_count": 21,
      "metadata": {
        "id": "NNbavO0jE1gh"
      },
      "outputs": [],
      "source": [
        "vocab_size = len(word_to_index)\n",
        "embedding_dim = 32\n",
        "num_negatives = 15\n",
        "\n",
        "model = SkipGramModelWithNegSampling(vocab_size, embedding_dim).to(device)\n",
        "optimizer = optim.Adam(model.parameters(), lr=0.05)\n",
        "lr_scheduler = ReduceLROnPlateau(optimizer, factor=0.5, patience=150)\n",
        "criterion = nn.BCEWithLogitsLoss()"
      ]
    },
    {
      "cell_type": "code",
      "execution_count": 22,
      "metadata": {
        "id": "BRgHAX_FE1gh"
      },
      "outputs": [],
      "source": [
        "params_counter = 0\n",
        "for weights in model.parameters():\n",
        "    params_counter += weights.shape.numel()\n",
        "assert params_counter == len(word_to_index) * embedding_dim * 2"
      ]
    },
    {
      "cell_type": "code",
      "execution_count": 23,
      "metadata": {
        "id": "i5seNAZYE1gh"
      },
      "outputs": [],
      "source": [
        "def train_skipgram_with_neg_sampling(\n",
        "    model,\n",
        "    context_pairs,\n",
        "    keep_prob_array,\n",
        "    word_to_index,\n",
        "    batch_size,\n",
        "    num_negatives,\n",
        "    negative_sampling_prob_array,\n",
        "    steps,\n",
        "    optimizer=optimizer,\n",
        "    lr_scheduler=lr_scheduler,\n",
        "    device=device,\n",
        "):\n",
        "    pos_labels = torch.ones(batch_size).to(device)\n",
        "    neg_labels = torch.zeros(batch_size, num_negatives).to(device)\n",
        "    loss_history = []\n",
        "    for step in tqdma(range(steps)):\n",
        "        batch, neg_samples = generate_batch_with_neg_samples(\n",
        "            context_pairs,\n",
        "            batch_size,\n",
        "            keep_prob_array,\n",
        "            word_to_index,\n",
        "            num_negatives,\n",
        "            negative_sampling_prob_array,\n",
        "        )\n",
        "        center_words = torch.tensor([pair[0] for pair in batch], dtype=torch.long).to(\n",
        "            device\n",
        "        )\n",
        "        pos_context_words = torch.tensor(\n",
        "            [pair[1] for pair in batch], dtype=torch.long\n",
        "        ).to(device)\n",
        "        neg_context_words = torch.tensor(neg_samples, dtype=torch.long).to(device)\n",
        "\n",
        "        optimizer.zero_grad()\n",
        "        pos_scores, neg_scores = model(\n",
        "            center_words, pos_context_words, neg_context_words\n",
        "        )\n",
        "\n",
        "        loss_pos = criterion(pos_scores, pos_labels)\n",
        "        loss_neg = criterion(neg_scores, neg_labels)\n",
        "\n",
        "        loss = loss_pos + loss_neg\n",
        "        loss.backward()\n",
        "        optimizer.step()\n",
        "\n",
        "        loss_history.append(loss.item())\n",
        "        lr_scheduler.step(loss_history[-1])\n",
        "\n",
        "        if step % 100 == 0:\n",
        "            print(\n",
        "                f\"Step {step}, Loss: {np.mean(loss_history[-100:])}, learning rate: {lr_scheduler._last_lr}\"\n",
        "            )"
      ]
    },
    {
      "cell_type": "code",
      "execution_count": 24,
      "metadata": {
        "id": "P-rL1MJFE1gh"
      },
      "outputs": [
        {
          "name": "stderr",
          "output_type": "stream",
          "text": [
            "  0%|          | 2/2500 [00:00<04:24,  9.46it/s]"
          ]
        },
        {
          "name": "stdout",
          "output_type": "stream",
          "text": [
            "Step 0, Loss: 4.731989860534668, learning rate: [0.05]\n"
          ]
        },
        {
          "name": "stderr",
          "output_type": "stream",
          "text": [
            "  4%|▍         | 103/2500 [00:10<04:11,  9.54it/s]"
          ]
        },
        {
          "name": "stdout",
          "output_type": "stream",
          "text": [
            "Step 100, Loss: 3.4520102953910827, learning rate: [0.05]\n"
          ]
        },
        {
          "name": "stderr",
          "output_type": "stream",
          "text": [
            "  8%|▊         | 203/2500 [00:21<03:59,  9.58it/s]"
          ]
        },
        {
          "name": "stdout",
          "output_type": "stream",
          "text": [
            "Step 200, Loss: 2.576108229160309, learning rate: [0.05]\n"
          ]
        },
        {
          "name": "stderr",
          "output_type": "stream",
          "text": [
            " 12%|█▏        | 302/2500 [00:31<03:51,  9.50it/s]"
          ]
        },
        {
          "name": "stdout",
          "output_type": "stream",
          "text": [
            "Step 300, Loss: 2.279088728427887, learning rate: [0.05]\n"
          ]
        },
        {
          "name": "stderr",
          "output_type": "stream",
          "text": [
            " 16%|█▌        | 402/2500 [00:41<03:38,  9.62it/s]"
          ]
        },
        {
          "name": "stdout",
          "output_type": "stream",
          "text": [
            "Step 400, Loss: 2.114406722784042, learning rate: [0.05]\n"
          ]
        },
        {
          "name": "stderr",
          "output_type": "stream",
          "text": [
            " 20%|██        | 502/2500 [00:52<03:30,  9.50it/s]"
          ]
        },
        {
          "name": "stdout",
          "output_type": "stream",
          "text": [
            "Step 500, Loss: 2.0568139863014223, learning rate: [0.05]\n"
          ]
        },
        {
          "name": "stderr",
          "output_type": "stream",
          "text": [
            " 24%|██▍       | 603/2500 [01:02<03:18,  9.55it/s]"
          ]
        },
        {
          "name": "stdout",
          "output_type": "stream",
          "text": [
            "Step 600, Loss: 2.0396774756908416, learning rate: [0.05]\n"
          ]
        },
        {
          "name": "stderr",
          "output_type": "stream",
          "text": [
            " 28%|██▊       | 703/2500 [01:13<03:05,  9.66it/s]"
          ]
        },
        {
          "name": "stdout",
          "output_type": "stream",
          "text": [
            "Step 700, Loss: 2.0512569332122803, learning rate: [0.025]\n"
          ]
        },
        {
          "name": "stderr",
          "output_type": "stream",
          "text": [
            " 32%|███▏      | 803/2500 [01:23<02:59,  9.46it/s]"
          ]
        },
        {
          "name": "stdout",
          "output_type": "stream",
          "text": [
            "Step 800, Loss: 1.9424542486667633, learning rate: [0.025]\n"
          ]
        },
        {
          "name": "stderr",
          "output_type": "stream",
          "text": [
            " 36%|███▌      | 903/2500 [01:34<02:48,  9.48it/s]"
          ]
        },
        {
          "name": "stdout",
          "output_type": "stream",
          "text": [
            "Step 900, Loss: 1.8624325609207153, learning rate: [0.025]\n"
          ]
        },
        {
          "name": "stderr",
          "output_type": "stream",
          "text": [
            " 40%|████      | 1002/2500 [01:48<05:04,  4.92it/s]"
          ]
        },
        {
          "name": "stdout",
          "output_type": "stream",
          "text": [
            "Step 1000, Loss: 1.8091385412216185, learning rate: [0.025]\n"
          ]
        },
        {
          "name": "stderr",
          "output_type": "stream",
          "text": [
            " 44%|████▍     | 1102/2500 [02:08<04:43,  4.93it/s]"
          ]
        },
        {
          "name": "stdout",
          "output_type": "stream",
          "text": [
            "Step 1100, Loss: 1.7676259064674378, learning rate: [0.025]\n"
          ]
        },
        {
          "name": "stderr",
          "output_type": "stream",
          "text": [
            " 48%|████▊     | 1202/2500 [02:28<04:23,  4.93it/s]"
          ]
        },
        {
          "name": "stdout",
          "output_type": "stream",
          "text": [
            "Step 1200, Loss: 1.7552702021598816, learning rate: [0.025]\n"
          ]
        },
        {
          "name": "stderr",
          "output_type": "stream",
          "text": [
            " 52%|█████▏    | 1302/2500 [02:49<04:02,  4.95it/s]"
          ]
        },
        {
          "name": "stdout",
          "output_type": "stream",
          "text": [
            "Step 1300, Loss: 1.7331617057323456, learning rate: [0.025]\n"
          ]
        },
        {
          "name": "stderr",
          "output_type": "stream",
          "text": [
            " 56%|█████▌    | 1402/2500 [03:09<03:40,  4.98it/s]"
          ]
        },
        {
          "name": "stdout",
          "output_type": "stream",
          "text": [
            "Step 1400, Loss: 1.6935039162635803, learning rate: [0.0125]\n"
          ]
        },
        {
          "name": "stderr",
          "output_type": "stream",
          "text": [
            " 60%|██████    | 1502/2500 [03:30<03:22,  4.93it/s]"
          ]
        },
        {
          "name": "stdout",
          "output_type": "stream",
          "text": [
            "Step 1500, Loss: 1.6625013053417206, learning rate: [0.00625]\n"
          ]
        },
        {
          "name": "stderr",
          "output_type": "stream",
          "text": [
            " 64%|██████▍   | 1601/2500 [03:50<03:05,  4.85it/s]"
          ]
        },
        {
          "name": "stdout",
          "output_type": "stream",
          "text": [
            "Step 1600, Loss: 1.6210906207561493, learning rate: [0.00625]\n"
          ]
        },
        {
          "name": "stderr",
          "output_type": "stream",
          "text": [
            " 68%|██████▊   | 1701/2500 [04:10<02:41,  4.95it/s]"
          ]
        },
        {
          "name": "stdout",
          "output_type": "stream",
          "text": [
            "Step 1700, Loss: 1.614012722969055, learning rate: [0.00625]\n"
          ]
        },
        {
          "name": "stderr",
          "output_type": "stream",
          "text": [
            " 72%|███████▏  | 1801/2500 [04:31<02:22,  4.90it/s]"
          ]
        },
        {
          "name": "stdout",
          "output_type": "stream",
          "text": [
            "Step 1800, Loss: 1.5944335055351258, learning rate: [0.00625]\n"
          ]
        },
        {
          "name": "stderr",
          "output_type": "stream",
          "text": [
            " 76%|███████▌  | 1902/2500 [04:51<02:01,  4.93it/s]"
          ]
        },
        {
          "name": "stdout",
          "output_type": "stream",
          "text": [
            "Step 1900, Loss: 1.5810504531860352, learning rate: [0.00625]\n"
          ]
        },
        {
          "name": "stderr",
          "output_type": "stream",
          "text": [
            " 80%|████████  | 2001/2500 [05:11<01:42,  4.89it/s]"
          ]
        },
        {
          "name": "stdout",
          "output_type": "stream",
          "text": [
            "Step 2000, Loss: 1.5603547585010529, learning rate: [0.00625]\n"
          ]
        },
        {
          "name": "stderr",
          "output_type": "stream",
          "text": [
            " 84%|████████▍ | 2101/2500 [05:32<01:21,  4.92it/s]"
          ]
        },
        {
          "name": "stdout",
          "output_type": "stream",
          "text": [
            "Step 2100, Loss: 1.5283499896526336, learning rate: [0.00625]\n"
          ]
        },
        {
          "name": "stderr",
          "output_type": "stream",
          "text": [
            " 88%|████████▊ | 2201/2500 [05:52<01:01,  4.88it/s]"
          ]
        },
        {
          "name": "stdout",
          "output_type": "stream",
          "text": [
            "Step 2200, Loss: 1.5274114084243775, learning rate: [0.003125]\n"
          ]
        },
        {
          "name": "stderr",
          "output_type": "stream",
          "text": [
            " 92%|█████████▏| 2302/2500 [06:13<00:40,  4.89it/s]"
          ]
        },
        {
          "name": "stdout",
          "output_type": "stream",
          "text": [
            "Step 2300, Loss: 1.5212469708919525, learning rate: [0.0015625]\n"
          ]
        },
        {
          "name": "stderr",
          "output_type": "stream",
          "text": [
            " 96%|█████████▌| 2402/2500 [06:33<00:19,  4.91it/s]"
          ]
        },
        {
          "name": "stdout",
          "output_type": "stream",
          "text": [
            "Step 2400, Loss: 1.5097588765621186, learning rate: [0.0015625]\n"
          ]
        },
        {
          "name": "stderr",
          "output_type": "stream",
          "text": [
            "100%|██████████| 2500/2500 [06:53<00:00,  6.04it/s]\n"
          ]
        }
      ],
      "source": [
        "steps = 2500\n",
        "batch_size = 512\n",
        "train_skipgram_with_neg_sampling(\n",
        "    model,\n",
        "    context_pairs,\n",
        "    keep_prob_array,\n",
        "    word_to_index,\n",
        "    batch_size,\n",
        "    num_negatives,\n",
        "    negative_sampling_prob_array,\n",
        "    steps,\n",
        ")"
      ]
    },
    {
      "cell_type": "markdown",
      "metadata": {
        "id": "HwgoMCS2E1gh"
      },
      "source": [
        "Наконец, используйте полученную матрицу весов в качестве матрицы в векторными представлениями слов. Рекомендуем использовать для сдачи матрицу, которая отвечала за слова из контекста (т.е. декодера)."
      ]
    },
    {
      "cell_type": "code",
      "execution_count": 25,
      "metadata": {
        "id": "IRSQSNxaE1gh"
      },
      "outputs": [],
      "source": [
        "_model_parameters = model.parameters()\n",
        "embedding_matrix_center = next(\n",
        "    _model_parameters\n",
        ").detach()  # Assuming that first matrix was for central word\n",
        "embedding_matrix_context = next(\n",
        "    _model_parameters\n",
        ").detach()  # Assuming that second matrix was for context word"
      ]
    },
    {
      "cell_type": "code",
      "execution_count": 26,
      "metadata": {
        "id": "gPQJkpecE1gh"
      },
      "outputs": [],
      "source": [
        "def get_word_vector(word, embedding_matrix, word_to_index=word_to_index):\n",
        "    return embedding_matrix[word_to_index[word]]"
      ]
    },
    {
      "cell_type": "markdown",
      "metadata": {
        "id": "FF-Zto1kE1gh"
      },
      "source": [
        "Простые проверки:"
      ]
    },
    {
      "cell_type": "code",
      "execution_count": 27,
      "metadata": {
        "id": "tV1OkSBhE1gn"
      },
      "outputs": [],
      "source": [
        "similarity_1 = F.cosine_similarity(\n",
        "    get_word_vector(\"iphone\", embedding_matrix_context)[None, :],\n",
        "    get_word_vector(\"apple\", embedding_matrix_context)[None, :],\n",
        ")\n",
        "similarity_2 = F.cosine_similarity(\n",
        "    get_word_vector(\"iphone\", embedding_matrix_context)[None, :],\n",
        "    get_word_vector(\"dell\", embedding_matrix_context)[None, :],\n",
        ")\n",
        "assert similarity_1 > similarity_2"
      ]
    },
    {
      "cell_type": "code",
      "execution_count": 28,
      "metadata": {
        "id": "xIO-hwTeE1gn"
      },
      "outputs": [],
      "source": [
        "similarity_1 = F.cosine_similarity(\n",
        "    get_word_vector(\"windows\", embedding_matrix_context)[None, :],\n",
        "    get_word_vector(\"laptop\", embedding_matrix_context)[None, :],\n",
        ")\n",
        "similarity_2 = F.cosine_similarity(\n",
        "    get_word_vector(\"windows\", embedding_matrix_context)[None, :],\n",
        "    get_word_vector(\"macbook\", embedding_matrix_context)[None, :],\n",
        ")\n",
        "assert similarity_1 > similarity_2"
      ]
    },
    {
      "cell_type": "markdown",
      "metadata": {
        "id": "CLOqHkEME1gn"
      },
      "source": [
        "Наконец, взглянем на ближайшие по косинусной мере слова. Функция реализована ниже."
      ]
    },
    {
      "cell_type": "code",
      "execution_count": 29,
      "metadata": {
        "id": "dA0V6rOYtsLk"
      },
      "outputs": [],
      "source": [
        "def find_nearest(word, embedding_matrix, word_to_index=word_to_index, k=10):\n",
        "    word_vector = get_word_vector(word, embedding_matrix)[None, :]\n",
        "    dists = F.cosine_similarity(embedding_matrix, word_vector)\n",
        "    index_sorted = torch.argsort(dists)\n",
        "    top_k = index_sorted[-k:]\n",
        "    return [(index_to_word[x], dists[x].item()) for x in top_k.numpy()]"
      ]
    },
    {
      "cell_type": "code",
      "execution_count": 30,
      "metadata": {
        "id": "IDwazltwE1go"
      },
      "outputs": [
        {
          "data": {
            "text/plain": [
              "[('comcast', 0.6238028407096863),\n",
              " ('psychopathsociopath', 0.6260553598403931),\n",
              " ('silverlight', 0.6264230012893677),\n",
              " ('seo', 0.6268171668052673),\n",
              " ('keeping', 0.6339191794395447),\n",
              " ('ravindrababu', 0.6343736052513123),\n",
              " ('supplier', 0.6383460760116577),\n",
              " ('keto', 0.6726246476173401),\n",
              " ('barriers', 0.6902700662612915),\n",
              " ('python', 0.9999999403953552)]"
            ]
          },
          "execution_count": 30,
          "metadata": {},
          "output_type": "execute_result"
        }
      ],
      "source": [
        "find_nearest(\"python\", embedding_matrix_context, k=10)"
      ]
    },
    {
      "cell_type": "markdown",
      "metadata": {
        "id": "XR6Kvb5qE1go"
      },
      "source": [
        "Также вы можете визуально проверить, как представлены в латентном пространстве часто встречающиеся слова."
      ]
    },
    {
      "cell_type": "code",
      "execution_count": 31,
      "metadata": {
        "id": "qd28gHNBE1go"
      },
      "outputs": [],
      "source": [
        "top_k = 5000\n",
        "_top_words = sorted([x for x in word_count_dict.items()], key=lambda x: x[1])[\n",
        "    -top_k - 100 : -100\n",
        "]  # ignoring 100 most frequent words\n",
        "top_words = [x[0] for x in _top_words]\n",
        "del _top_words"
      ]
    },
    {
      "cell_type": "code",
      "execution_count": 32,
      "metadata": {
        "id": "ttKuuMgHE1go"
      },
      "outputs": [],
      "source": [
        "word_embeddings = torch.cat(\n",
        "    [embedding_matrix_context[word_to_index[x]][None, :] for x in top_words], dim=0\n",
        ").numpy()"
      ]
    },
    {
      "cell_type": "code",
      "execution_count": 33,
      "metadata": {
        "id": "MSTe3P2VE1go"
      },
      "outputs": [
        {
          "data": {
            "text/html": [
              "    <style>\n",
              "        .bk-notebook-logo {\n",
              "            display: block;\n",
              "            width: 20px;\n",
              "            height: 20px;\n",
              "            background-image: url(data:image/png;base64,iVBORw0KGgoAAAANSUhEUgAAABQAAAAUCAYAAACNiR0NAAAABHNCSVQICAgIfAhkiAAAAAlwSFlzAAALEgAACxIB0t1+/AAAABx0RVh0U29mdHdhcmUAQWRvYmUgRmlyZXdvcmtzIENTNui8sowAAAOkSURBVDiNjZRtaJVlGMd/1/08zzln5zjP1LWcU9N0NkN8m2CYjpgQYQXqSs0I84OLIC0hkEKoPtiH3gmKoiJDU7QpLgoLjLIQCpEsNJ1vqUOdO7ppbuec5+V+rj4ctwzd8IIbbi6u+8f1539dt3A78eXC7QizUF7gyV1fD1Yqg4JWz84yffhm0qkFqBogB9rM8tZdtwVsPUhWhGcFJngGeWrPzHm5oaMmkfEg1usvLFyc8jLRqDOMru7AyC8saQr7GG7f5fvDeH7Ej8CM66nIF+8yngt6HWaKh7k49Soy9nXurCi1o3qUbS3zWfrYeQDTB/Qj6kX6Ybhw4B+bOYoLKCC9H3Nu/leUTZ1JdRWkkn2ldcCamzrcf47KKXdAJllSlxAOkRgyHsGC/zRday5Qld9DyoM4/q/rUoy/CXh3jzOu3bHUVZeU+DEn8FInkPBFlu3+nW3Nw0mk6vCDiWg8CeJaxEwuHS3+z5RgY+YBR6V1Z1nxSOfoaPa4LASWxxdNp+VWTk7+4vzaou8v8PN+xo+KY2xsw6une2frhw05CTYOmQvsEhjhWjn0bmXPjpE1+kplmmkP3suftwTubK9Vq22qKmrBhpY4jvd5afdRA3wGjFAgcnTK2s4hY0/GPNIb0nErGMCRxWOOX64Z8RAC4oCXdklmEvcL8o0BfkNK4lUg9HTl+oPlQxdNo3Mg4Nv175e/1LDGzZen30MEjRUtmXSfiTVu1kK8W4txyV6BMKlbgk3lMwYCiusNy9fVfvvwMxv8Ynl6vxoByANLTWplvuj/nF9m2+PDtt1eiHPBr1oIfhCChQMBw6Aw0UulqTKZdfVvfG7VcfIqLG9bcldL/+pdWTLxLUy8Qq38heUIjh4XlzZxzQm19lLFlr8vdQ97rjZVOLf8nclzckbcD4wxXMidpX30sFd37Fv/GtwwhzhxGVAprjbg0gCAEeIgwCZyTV2Z1REEW8O4py0wsjeloKoMr6iCY6dP92H6Vw/oTyICIthibxjm/DfN9lVz8IqtqKYLUXfoKVMVQVVJOElGjrnnUt9T9wbgp8AyYKaGlqingHZU/uG2NTZSVqwHQTWkx9hxjkpWDaCg6Ckj5qebgBVbT3V3NNXMSiWSDdGV3hrtzla7J+duwPOToIg42ChPQOQjspnSlp1V+Gjdged7+8UN5CRAV7a5EdFNwCjEaBR27b3W890TE7g24NAP/mMDXRWrGoFPQI9ls/MWO2dWFAar/xcOIImbbpA3zgAAAABJRU5ErkJggg==);\n",
              "        }\n",
              "    </style>\n",
              "    <div>\n",
              "        <a href=\"https://bokeh.org\" target=\"_blank\" class=\"bk-notebook-logo\"></a>\n",
              "        <span id=\"aa4ed48f-a2f7-4f0c-9089-be7418000967\">Loading BokehJS ...</span>\n",
              "    </div>\n"
            ]
          },
          "metadata": {},
          "output_type": "display_data"
        },
        {
          "data": {
            "application/javascript": "'use strict';\n(function(root) {\n  function now() {\n    return new Date();\n  }\n\n  const force = true;\n\n  if (typeof root._bokeh_onload_callbacks === \"undefined\" || force === true) {\n    root._bokeh_onload_callbacks = [];\n    root._bokeh_is_loading = undefined;\n  }\n\nconst JS_MIME_TYPE = 'application/javascript';\n  const HTML_MIME_TYPE = 'text/html';\n  const EXEC_MIME_TYPE = 'application/vnd.bokehjs_exec.v0+json';\n  const CLASS_NAME = 'output_bokeh rendered_html';\n\n  /**\n   * Render data to the DOM node\n   */\n  function render(props, node) {\n    const script = document.createElement(\"script\");\n    node.appendChild(script);\n  }\n\n  /**\n   * Handle when an output is cleared or removed\n   */\n  function handleClearOutput(event, handle) {\n    function drop(id) {\n      const view = Bokeh.index.get_by_id(id)\n      if (view != null) {\n        view.model.document.clear()\n        Bokeh.index.delete(view)\n      }\n    }\n\n    const cell = handle.cell;\n\n    const id = cell.output_area._bokeh_element_id;\n    const server_id = cell.output_area._bokeh_server_id;\n\n    // Clean up Bokeh references\n    if (id != null) {\n      drop(id)\n    }\n\n    if (server_id !== undefined) {\n      // Clean up Bokeh references\n      const cmd_clean = \"from bokeh.io.state import curstate; print(curstate().uuid_to_server['\" + server_id + \"'].get_sessions()[0].document.roots[0]._id)\";\n      cell.notebook.kernel.execute(cmd_clean, {\n        iopub: {\n          output: function(msg) {\n            const id = msg.content.text.trim()\n            drop(id)\n          }\n        }\n      });\n      // Destroy server and session\n      const cmd_destroy = \"import bokeh.io.notebook as ion; ion.destroy_server('\" + server_id + \"')\";\n      cell.notebook.kernel.execute(cmd_destroy);\n    }\n  }\n\n  /**\n   * Handle when a new output is added\n   */\n  function handleAddOutput(event, handle) {\n    const output_area = handle.output_area;\n    const output = handle.output;\n\n    // limit handleAddOutput to display_data with EXEC_MIME_TYPE content only\n    if ((output.output_type != \"display_data\") || (!Object.prototype.hasOwnProperty.call(output.data, EXEC_MIME_TYPE))) {\n      return\n    }\n\n    const toinsert = output_area.element.find(\".\" + CLASS_NAME.split(' ')[0]);\n\n    if (output.metadata[EXEC_MIME_TYPE][\"id\"] !== undefined) {\n      toinsert[toinsert.length - 1].firstChild.textContent = output.data[JS_MIME_TYPE];\n      // store reference to embed id on output_area\n      output_area._bokeh_element_id = output.metadata[EXEC_MIME_TYPE][\"id\"];\n    }\n    if (output.metadata[EXEC_MIME_TYPE][\"server_id\"] !== undefined) {\n      const bk_div = document.createElement(\"div\");\n      bk_div.innerHTML = output.data[HTML_MIME_TYPE];\n      const script_attrs = bk_div.children[0].attributes;\n      for (let i = 0; i < script_attrs.length; i++) {\n        toinsert[toinsert.length - 1].firstChild.setAttribute(script_attrs[i].name, script_attrs[i].value);\n        toinsert[toinsert.length - 1].firstChild.textContent = bk_div.children[0].textContent\n      }\n      // store reference to server id on output_area\n      output_area._bokeh_server_id = output.metadata[EXEC_MIME_TYPE][\"server_id\"];\n    }\n  }\n\n  function register_renderer(events, OutputArea) {\n\n    function append_mime(data, metadata, element) {\n      // create a DOM node to render to\n      const toinsert = this.create_output_subarea(\n        metadata,\n        CLASS_NAME,\n        EXEC_MIME_TYPE\n      );\n      this.keyboard_manager.register_events(toinsert);\n      // Render to node\n      const props = {data: data, metadata: metadata[EXEC_MIME_TYPE]};\n      render(props, toinsert[toinsert.length - 1]);\n      element.append(toinsert);\n      return toinsert\n    }\n\n    /* Handle when an output is cleared or removed */\n    events.on('clear_output.CodeCell', handleClearOutput);\n    events.on('delete.Cell', handleClearOutput);\n\n    /* Handle when a new output is added */\n    events.on('output_added.OutputArea', handleAddOutput);\n\n    /**\n     * Register the mime type and append_mime function with output_area\n     */\n    OutputArea.prototype.register_mime_type(EXEC_MIME_TYPE, append_mime, {\n      /* Is output safe? */\n      safe: true,\n      /* Index of renderer in `output_area.display_order` */\n      index: 0\n    });\n  }\n\n  // register the mime type if in Jupyter Notebook environment and previously unregistered\n  if (root.Jupyter !== undefined) {\n    const events = require('base/js/events');\n    const OutputArea = require('notebook/js/outputarea').OutputArea;\n\n    if (OutputArea.prototype.mime_types().indexOf(EXEC_MIME_TYPE) == -1) {\n      register_renderer(events, OutputArea);\n    }\n  }\n  if (typeof (root._bokeh_timeout) === \"undefined\" || force === true) {\n    root._bokeh_timeout = Date.now() + 5000;\n    root._bokeh_failed_load = false;\n  }\n\n  const NB_LOAD_WARNING = {'data': {'text/html':\n     \"<div style='background-color: #fdd'>\\n\"+\n     \"<p>\\n\"+\n     \"BokehJS does not appear to have successfully loaded. If loading BokehJS from CDN, this \\n\"+\n     \"may be due to a slow or bad network connection. Possible fixes:\\n\"+\n     \"</p>\\n\"+\n     \"<ul>\\n\"+\n     \"<li>re-rerun `output_notebook()` to attempt to load from CDN again, or</li>\\n\"+\n     \"<li>use INLINE resources instead, as so:</li>\\n\"+\n     \"</ul>\\n\"+\n     \"<code>\\n\"+\n     \"from bokeh.resources import INLINE\\n\"+\n     \"output_notebook(resources=INLINE)\\n\"+\n     \"</code>\\n\"+\n     \"</div>\"}};\n\n  function display_loaded(error = null) {\n    const el = document.getElementById(\"aa4ed48f-a2f7-4f0c-9089-be7418000967\");\n    if (el != null) {\n      const html = (() => {\n        if (typeof root.Bokeh === \"undefined\") {\n          if (error == null) {\n            return \"BokehJS is loading ...\";\n          } else {\n            return \"BokehJS failed to load.\";\n          }\n        } else {\n          const prefix = `BokehJS ${root.Bokeh.version}`;\n          if (error == null) {\n            return `${prefix} successfully loaded.`;\n          } else {\n            return `${prefix} <b>encountered errors</b> while loading and may not function as expected.`;\n          }\n        }\n      })();\n      el.innerHTML = html;\n\n      if (error != null) {\n        const wrapper = document.createElement(\"div\");\n        wrapper.style.overflow = \"auto\";\n        wrapper.style.height = \"5em\";\n        wrapper.style.resize = \"vertical\";\n        const content = document.createElement(\"div\");\n        content.style.fontFamily = \"monospace\";\n        content.style.whiteSpace = \"pre-wrap\";\n        content.style.backgroundColor = \"rgb(255, 221, 221)\";\n        content.textContent = error.stack ?? error.toString();\n        wrapper.append(content);\n        el.append(wrapper);\n      }\n    } else if (Date.now() < root._bokeh_timeout) {\n      setTimeout(() => display_loaded(error), 100);\n    }\n  }\n\n  function run_callbacks() {\n    try {\n      root._bokeh_onload_callbacks.forEach(function(callback) {\n        if (callback != null)\n          callback();\n      });\n    } finally {\n      delete root._bokeh_onload_callbacks\n    }\n    console.debug(\"Bokeh: all callbacks have finished\");\n  }\n\n  function load_libs(css_urls, js_urls, callback) {\n    if (css_urls == null) css_urls = [];\n    if (js_urls == null) js_urls = [];\n\n    root._bokeh_onload_callbacks.push(callback);\n    if (root._bokeh_is_loading > 0) {\n      console.debug(\"Bokeh: BokehJS is being loaded, scheduling callback at\", now());\n      return null;\n    }\n    if (js_urls == null || js_urls.length === 0) {\n      run_callbacks();\n      return null;\n    }\n    console.debug(\"Bokeh: BokehJS not loaded, scheduling load and callback at\", now());\n    root._bokeh_is_loading = css_urls.length + js_urls.length;\n\n    function on_load() {\n      root._bokeh_is_loading--;\n      if (root._bokeh_is_loading === 0) {\n        console.debug(\"Bokeh: all BokehJS libraries/stylesheets loaded\");\n        run_callbacks()\n      }\n    }\n\n    function on_error(url) {\n      console.error(\"failed to load \" + url);\n    }\n\n    for (let i = 0; i < css_urls.length; i++) {\n      const url = css_urls[i];\n      const element = document.createElement(\"link\");\n      element.onload = on_load;\n      element.onerror = on_error.bind(null, url);\n      element.rel = \"stylesheet\";\n      element.type = \"text/css\";\n      element.href = url;\n      console.debug(\"Bokeh: injecting link tag for BokehJS stylesheet: \", url);\n      document.body.appendChild(element);\n    }\n\n    for (let i = 0; i < js_urls.length; i++) {\n      const url = js_urls[i];\n      const element = document.createElement('script');\n      element.onload = on_load;\n      element.onerror = on_error.bind(null, url);\n      element.async = false;\n      element.src = url;\n      console.debug(\"Bokeh: injecting script tag for BokehJS library: \", url);\n      document.head.appendChild(element);\n    }\n  };\n\n  function inject_raw_css(css) {\n    const element = document.createElement(\"style\");\n    element.appendChild(document.createTextNode(css));\n    document.body.appendChild(element);\n  }\n\n  const js_urls = [\"https://cdn.bokeh.org/bokeh/release/bokeh-3.7.0.min.js\", \"https://cdn.bokeh.org/bokeh/release/bokeh-gl-3.7.0.min.js\", \"https://cdn.bokeh.org/bokeh/release/bokeh-widgets-3.7.0.min.js\", \"https://cdn.bokeh.org/bokeh/release/bokeh-tables-3.7.0.min.js\", \"https://cdn.bokeh.org/bokeh/release/bokeh-mathjax-3.7.0.min.js\"];\n  const css_urls = [];\n\n  const inline_js = [    function(Bokeh) {\n      Bokeh.set_log_level(\"info\");\n    },\nfunction(Bokeh) {\n    }\n  ];\n\n  function run_inline_js() {\n    if (root.Bokeh !== undefined || force === true) {\n      try {\n            for (let i = 0; i < inline_js.length; i++) {\n      inline_js[i].call(root, root.Bokeh);\n    }\n\n      } catch (error) {display_loaded(error);throw error;\n      }if (force === true) {\n        display_loaded();\n      }} else if (Date.now() < root._bokeh_timeout) {\n      setTimeout(run_inline_js, 100);\n    } else if (!root._bokeh_failed_load) {\n      console.log(\"Bokeh: BokehJS failed to load within specified timeout.\");\n      root._bokeh_failed_load = true;\n    } else if (force !== true) {\n      const cell = $(document.getElementById(\"aa4ed48f-a2f7-4f0c-9089-be7418000967\")).parents('.cell').data().cell;\n      cell.output_area.append_execute_result(NB_LOAD_WARNING)\n    }\n  }\n\n  if (root._bokeh_is_loading === 0) {\n    console.debug(\"Bokeh: BokehJS loaded, going straight to plotting\");\n    run_inline_js();\n  } else {\n    load_libs(css_urls, js_urls, function() {\n      console.debug(\"Bokeh: BokehJS plotting callback run at\", now());\n      run_inline_js();\n    });\n  }\n}(window));",
            "application/vnd.bokehjs_load.v0+json": ""
          },
          "metadata": {},
          "output_type": "display_data"
        }
      ],
      "source": [
        "import bokeh.models as bm\n",
        "import bokeh.plotting as pl\n",
        "from bokeh.io import output_notebook\n",
        "\n",
        "output_notebook()\n",
        "\n",
        "\n",
        "def draw_vectors(\n",
        "    x,\n",
        "    y,\n",
        "    radius=10,\n",
        "    alpha=0.25,\n",
        "    color=\"blue\",\n",
        "    width=600,\n",
        "    height=400,\n",
        "    show=True,\n",
        "    **kwargs,\n",
        "):\n",
        "    \"\"\"draws an interactive plot for data points with auxilirary info on hover\"\"\"\n",
        "    if isinstance(color, str):\n",
        "        color = [color] * len(x)\n",
        "    data_source = bm.ColumnDataSource({\"x\": x, \"y\": y, \"color\": color, **kwargs})\n",
        "\n",
        "    fig = pl.figure(active_scroll=\"wheel_zoom\", width=width, height=height)\n",
        "    fig.scatter(\"x\", \"y\", size=radius, color=\"color\", alpha=alpha, source=data_source)\n",
        "\n",
        "    fig.add_tools(bm.HoverTool(tooltips=[(key, \"@\" + key) for key in kwargs.keys()]))\n",
        "    if show:\n",
        "        pl.show(fig)\n",
        "    return fig"
      ]
    },
    {
      "cell_type": "code",
      "execution_count": 34,
      "metadata": {
        "id": "EncNZux2E1gp"
      },
      "outputs": [
        {
          "name": "stderr",
          "output_type": "stream",
          "text": [
            "c:\\Users\\Anna\\Desktop\\NLP_course\\hw_1\\.venv\\Lib\\site-packages\\sklearn\\utils\\deprecation.py:151: FutureWarning: 'force_all_finite' was renamed to 'ensure_all_finite' in 1.6 and will be removed in 1.8.\n",
            "  warnings.warn(\n"
          ]
        }
      ],
      "source": [
        "embedding = umap.UMAP(n_neighbors=5).fit_transform(word_embeddings)"
      ]
    },
    {
      "cell_type": "code",
      "execution_count": 35,
      "metadata": {
        "id": "9AHPw9ArE1gp"
      },
      "outputs": [
        {
          "data": {
            "text/html": [
              "\n",
              "  <div id=\"e5f10674-f96c-4598-bd09-3958517bdccb\" data-root-id=\"p1004\" style=\"display: contents;\"></div>\n"
            ]
          },
          "metadata": {},
          "output_type": "display_data"
        },
        {
          "data": {
            "application/javascript": "(function(root) {\n  function embed_document(root) {\n  const docs_json = {\"92a93e05-040f-4da0-af77-7e642a641433\":{\"version\":\"3.7.0\",\"title\":\"Bokeh Application\",\"roots\":[{\"type\":\"object\",\"name\":\"Figure\",\"id\":\"p1004\",\"attributes\":{\"height\":400,\"x_range\":{\"type\":\"object\",\"name\":\"DataRange1d\",\"id\":\"p1005\"},\"y_range\":{\"type\":\"object\",\"name\":\"DataRange1d\",\"id\":\"p1006\"},\"x_scale\":{\"type\":\"object\",\"name\":\"LinearScale\",\"id\":\"p1013\"},\"y_scale\":{\"type\":\"object\",\"name\":\"LinearScale\",\"id\":\"p1014\"},\"title\":{\"type\":\"object\",\"name\":\"Title\",\"id\":\"p1011\"},\"renderers\":[{\"type\":\"object\",\"name\":\"GlyphRenderer\",\"id\":\"p1044\",\"attributes\":{\"data_source\":{\"type\":\"object\",\"name\":\"ColumnDataSource\",\"id\":\"p1001\",\"attributes\":{\"selected\":{\"type\":\"object\",\"name\":\"Selection\",\"id\":\"p1002\",\"attributes\":{\"indices\":[],\"line_indices\":[]}},\"selection_policy\":{\"type\":\"object\",\"name\":\"UnionRenderers\",\"id\":\"p1003\"},\"data\":{\"type\":\"map\",\"entries\":[[\"x\",{\"type\":\"ndarray\",\"array\":{\"type\":\"bytes\",\"data\":\"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\"},\"shape\":[5000],\"dtype\":\"float32\",\"order\":\"little\"}],[\"y\",{\"type\":\"ndarray\",\"array\":{\"type\":\"bytes\",\"data\":\"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\"},\"shape\":[5000],\"dtype\":\"float32\",\"order\":\"little\"}],[\"color\",[\"blue\",\"blue\",\"blue\",\"blue\",\"blue\",\"blue\",\"blue\",\"blue\",\"blue\",\"blue\",\"blue\",\"blue\",\"blue\",\"blue\",\"blue\",\"blue\",\"blue\",\"blue\",\"blue\",\"blue\",\"blue\",\"blue\",\"blue\",\"blue\",\"blue\",\"blue\",\"blue\",\"blue\",\"blue\",\"blue\",\"blue\",\"blue\",\"blue\",\"blue\",\"blue\",\"blue\",\"blue\",\"blue\",\"blue\",\"blue\",\"blue\",\"blue\",\"blue\",\"blue\",\"blue\",\"blue\",\"blue\",\"blue\",\"blue\",\"blue\",\"blue\",\"blue\",\"blue\",\"blue\",\"blue\",\"blue\",\"blue\",\"blue\",\"blue\",\"blue\",\"blue\",\"blue\",\"blue\",\"blue\",\"blue\",\"blue\",\"blue\",\"blue\",\"blue\",\"blue\",\"blue\",\"blue\",\"blue\",\"blue\",\"blue\",\"blue\",\"blue\",\"blue\",\"blue\",\"blue\",\"blue\",\"blue\",\"blue\",\"blue\",\"blue\",\"blue\",\"blue\",\"blue\",\"blue\",\"blue\",\"blue\",\"blue\",\"blue\",\"blue\",\"blue\",\"blue\",\"blue\",\"blue\",\"blue\",\"blue\",\"blue\",\"blue\",\"blue\",\"blue\",\"blue\",\"blue\",\"blue\",\"blue\",\"blue\",\"blue\",\"blue\",\"blue\",\"blue\",\"blue\",\"blue\",\"blue\",\"blue\",\"blue\",\"blue\",\"blue\",\"blue\",\"blue\",\"blue\",\"blue\",\"blue\",\"blue\",\"blue\",\"blue\",\"blue\",\"blue\",\"blue\",\"blue\",\"blue\",\"blue\",\"blue\",\"blue\",\"blue\",\"blue\",\"blue\",\"blue\",\"blue\",\"blue\",\"blue\",\"blue\",\"blue\",\"blue\",\"blue\",\"blue\",\"blue\",\"blue\",\"blue\",\"blue\",\"blue\",\"blue\",\"blue\",\"blue\",\"blue\",\"blue\",\"blue\",\"blue\",\"blue\",\"blue\",\"blue\",\"blue\",\"blue\",\"blue\",\"blue\",\"blue\",\"blue\",\"blue\",\"blue\",\"blue\",\"blue\",\"blue\",\"blue\",\"blue\",\"blue\",\"blue\",\"blue\",\"blue\",\"blue\",\"blue\",\"blue\",\"blue\",\"blue\",\"blue\",\"blue\",\"blue\",\"blue\",\"blue\",\"blue\",\"blue\",\"blue\",\"blue\",\"blue\",\"blue\",\"blue\",\"blue\",\"blue\",\"blue\",\"blue\",\"blue\",\"blue\",\"blue\",\"blue\",\"blue\",\"blue\",\"blue\",\"blue\",\"blue\",\"blue\",\"blue\",\"blue\",\"blue\",\"blue\",\"blue\",\"blue\",\"blue\",\"blue\",\"blue\",\"blue\",\"blue\",\"blue\",\"blue\",\"blue\",\"blue\",\"blue\",\"blue\",\"blue\",\"blue\",\"blue\",\"blue\",\"blue\",\"blue\",\"blue\",\"blue\",\"blue\",\"blue\",\"blue\",\"blue\",\"blue\",\"blue\",\"blue\",\"blue\",\"blue\",\"blue\",\"blue\",\"blue\",\"blue\",\"blue\",\"blue\",\"blue\",\"blue\",\"blue\",\"blue\",\"blue\",\"blue\",\"blue\",\"blue\",\"blue\",\"blue\",\"blue\",\"blue\",\"blue\",\"blue\",\"blue\",\"blue\",\"blue\",\"blue\",\"blue\",\"blue\",\"blue\",\"blue\",\"blue\",\"blue\",\"blue\",\"blue\",\"blue\",\"blue\",\"blue\",\"blue\",\"blue\",\"blue\",\"blue\",\"blue\",\"blue\",\"blue\",\"blue\",\"blue\",\"blue\",\"blue\",\"blue\",\"blue\",\"blue\",\"blue\",\"blue\",\"blue\",\"blue\",\"blue\",\"blue\",\"blue\",\"blue\",\"blue\",\"blue\",\"blue\",\"blue\",\"blue\",\"blue\",\"blue\",\"blue\",\"blue\",\"blue\",\"blue\",\"blue\",\"blue\",\"blue\",\"blue\",\"blue\",\"blue\",\"blue\",\"blue\",\"blue\",\"blue\",\"blue\",\"blue\",\"blue\",\"blue\",\"blue\",\"blue\",\"blue\",\"blue\",\"blue\",\"blue\",\"blue\",\"blue\",\"blue\",\"blue\",\"blue\",\"blue\",\"blue\",\"blue\",\"blue\",\"blue\",\"blue\",\"blue\",\"blue\",\"blue\",\"blue\",\"blue\",\"blue\",\"blue\",\"blue\",\"blue\",\"blue\",\"blue\",\"blue\",\"blue\",\"blue\",\"blue\",\"blue\",\"blue\",\"blue\",\"blue\",\"blue\",\"blue\",\"blue\",\"blue\",\"blue\",\"blue\",\"blue\",\"blue\",\"blue\",\"blue\",\"blue\",\"blue\",\"blue\",\"blue\",\"blue\",\"blue\",\"blue\",\"blue\",\"blue\",\"blue\",\"blue\",\"blue\",\"blue\",\"blue\",\"blue\",\"blue\",\"blue\",\"blue\",\"blue\",\"blue\",\"blue\",\"blue\",\"blue\",\"blue\",\"blue\",\"blue\",\"blue\",\"blue\",\"blue\",\"blue\",\"blue\",\"blue\",\"blue\",\"blue\",\"blue\",\"blue\",\"blue\",\"blue\",\"blue\",\"blue\",\"blue\",\"blue\",\"blue\",\"blue\",\"blue\",\"blue\",\"blue\",\"blue\",\"blue\",\"blue\",\"blue\",\"blue\",\"blue\",\"blue\",\"blue\",\"blue\",\"blue\",\"blue\",\"blue\",\"blue\",\"blue\",\"blue\",\"blue\",\"blue\",\"blue\",\"blue\",\"blue\",\"blue\",\"blue\",\"blue\",\"blue\",\"blue\",\"blue\",\"blue\",\"blue\",\"blue\",\"blue\",\"blue\",\"blue\",\"blue\",\"blue\",\"blue\",\"blue\",\"blue\",\"blue\",\"blue\",\"blue\",\"blue\",\"blue\",\"blue\",\"blue\",\"blue\",\"blue\",\"blue\",\"blue\",\"blue\",\"blue\",\"blue\",\"blue\",\"blue\",\"blue\",\"blue\",\"blue\",\"blue\",\"blue\",\"blue\",\"blue\",\"blue\",\"blue\",\"blue\",\"blue\",\"blue\",\"blue\",\"blue\",\"blue\",\"blue\",\"blue\",\"blue\",\"blue\",\"blue\",\"blue\",\"blue\",\"blue\",\"blue\",\"blue\",\"blue\",\"blue\",\"blue\",\"blue\",\"blue\",\"blue\",\"blue\",\"blue\",\"blue\",\"blue\",\"blue\",\"blue\",\"blue\",\"blue\",\"blue\",\"blue\",\"blue\",\"blue\",\"blue\",\"blue\",\"blue\",\"blue\",\"blue\",\"blue\",\"blue\",\"blue\",\"blue\",\"blue\",\"blue\",\"blue\",\"blue\",\"blue\",\"blue\",\"blue\",\"blue\",\"blue\",\"blue\",\"blue\",\"blue\",\"blue\",\"blue\",\"blue\",\"blue\",\"blue\",\"blue\",\"blue\",\"blue\",\"blue\",\"blue\",\"blue\",\"blue\",\"blue\",\"blue\",\"blue\",\"blue\",\"blue\",\"blue\",\"blue\",\"blue\",\"blue\",\"blue\",\"blue\",\"blue\",\"blue\",\"blue\",\"blue\",\"blue\",\"blue\",\"blue\",\"blue\",\"blue\",\"blue\",\"blue\",\"blue\",\"blue\",\"blue\",\"blue\",\"blue\",\"blue\",\"blue\",\"blue\",\"blue\",\"blue\",\"blue\",\"blue\",\"blue\",\"blue\",\"blue\",\"blue\",\"blue\",\"blue\",\"blue\",\"blue\",\"blue\",\"blue\",\"blue\",\"blue\",\"blue\",\"blue\",\"blue\",\"blue\",\"blue\",\"blue\",\"blue\",\"blue\",\"blue\",\"blue\",\"blue\",\"blue\",\"blue\",\"blue\",\"blue\",\"blue\",\"blue\",\"blue\",\"blue\",\"blue\",\"blue\",\"blue\",\"blue\",\"blue\",\"blue\",\"blue\",\"blue\",\"blue\",\"blue\",\"blue\",\"blue\",\"blue\",\"blue\",\"blue\",\"blue\",\"blue\",\"blue\",\"blue\",\"blue\",\"blue\",\"blue\",\"blue\",\"blue\",\"blue\",\"blue\",\"blue\",\"blue\",\"blue\",\"blue\",\"blue\",\"blue\",\"blue\",\"blue\",\"blue\",\"blue\",\"blue\",\"blue\",\"blue\",\"blue\",\"blue\",\"blue\",\"blue\",\"blue\",\"blue\",\"blue\",\"blue\",\"blue\",\"blue\",\"blue\",\"blue\",\"blue\",\"blue\",\"blue\",\"blue\",\"blue\",\"blue\",\"blue\",\"blue\",\"blue\",\"blue\",\"blue\",\"blue\",\"blue\",\"blue\",\"blue\",\"blue\",\"blue\",\"blue\",\"blue\",\"blue\",\"blue\",\"blue\",\"blue\",\"blue\",\"blue\",\"blue\",\"blue\",\"blue\",\"blue\",\"blue\",\"blue\",\"blue\",\"blue\",\"blue\",\"blue\",\"blue\",\"blue\",\"blue\",\"blue\",\"blue\",\"blue\",\"blue\",\"blue\",\"blue\",\"blue\",\"blue\",\"blue\",\"blue\",\"blue\",\"blue\",\"blue\",\"blue\",\"blue\",\"blue\",\"blue\",\"blue\",\"blue\",\"blue\",\"blue\",\"blue\",\"blue\",\"blue\",\"blue\",\"blue\",\"blue\",\"blue\",\"blue\",\"blue\",\"blue\",\"blue\",\"blue\",\"blue\",\"blue\",\"blue\",\"blue\",\"blue\",\"blue\",\"blue\",\"blue\",\"blue\",\"blue\",\"blue\",\"blue\",\"blue\",\"blue\",\"blue\",\"blue\",\"blue\",\"blue\",\"blue\",\"blue\",\"blue\",\"blue\",\"blue\",\"blue\",\"blue\",\"blue\",\"blue\",\"blue\",\"blue\",\"blue\",\"blue\",\"blue\",\"blue\",\"blue\",\"blue\",\"blue\",\"blue\",\"blue\",\"blue\",\"blue\",\"blue\",\"blue\",\"blue\",\"blue\",\"blue\",\"blue\",\"blue\",\"blue\",\"blue\",\"blue\",\"blue\",\"blue\",\"blue\",\"blue\",\"blue\",\"blue\",\"blue\",\"blue\",\"blue\",\"blue\",\"blue\",\"blue\",\"blue\",\"blue\",\"blue\",\"blue\",\"blue\",\"blue\",\"blue\",\"blue\",\"blue\",\"blue\",\"blue\",\"blue\",\"blue\",\"blue\",\"blue\",\"blue\",\"blue\",\"blue\",\"blue\",\"blue\",\"blue\",\"blue\",\"blue\",\"blue\",\"blue\",\"blue\",\"blue\",\"blue\",\"blue\",\"blue\",\"blue\",\"blue\",\"blue\",\"blue\",\"blue\",\"blue\",\"blue\",\"blue\",\"blue\",\"blue\",\"blue\",\"blue\",\"blue\",\"blue\",\"blue\",\"blue\",\"blue\",\"blue\",\"blue\",\"blue\",\"blue\",\"blue\",\"blue\",\"blue\",\"blue\",\"blue\",\"blue\",\"blue\",\"blue\",\"blue\",\"blue\",\"blue\",\"blue\",\"blue\",\"blue\",\"blue\",\"blue\",\"blue\",\"blue\",\"blue\",\"blue\",\"blue\",\"blue\",\"blue\",\"blue\",\"blue\",\"blue\",\"blue\",\"blue\",\"blue\",\"blue\",\"blue\",\"blue\",\"blue\",\"blue\",\"blue\",\"blue\",\"blue\",\"blue\",\"blue\",\"blue\",\"blue\",\"blue\",\"blue\",\"blue\",\"blue\",\"blue\",\"blue\",\"blue\",\"blue\",\"blue\",\"blue\",\"blue\",\"blue\",\"blue\",\"blue\",\"blue\",\"blue\",\"blue\",\"blue\",\"blue\",\"blue\",\"blue\",\"blue\",\"blue\",\"blue\",\"blue\",\"blue\",\"blue\",\"blue\",\"blue\",\"blue\",\"blue\",\"blue\",\"blue\",\"blue\",\"blue\",\"blue\",\"blue\",\"blue\",\"blue\",\"blue\",\"blue\",\"blue\",\"blue\",\"blue\",\"blue\",\"blue\",\"blue\",\"blue\",\"blue\",\"blue\",\"blue\",\"blue\",\"blue\",\"blue\",\"blue\",\"blue\",\"blue\",\"blue\",\"blue\",\"blue\",\"blue\",\"blue\",\"blue\",\"blue\",\"blue\",\"blue\",\"blue\",\"blue\",\"blue\",\"blue\",\"blue\",\"blue\",\"blue\",\"blue\",\"blue\",\"blue\",\"blue\",\"blue\",\"blue\",\"blue\",\"blue\",\"blue\",\"blue\",\"blue\",\"blue\",\"blue\",\"blue\",\"blue\",\"blue\",\"blue\",\"blue\",\"blue\",\"blue\",\"blue\",\"blue\",\"blue\",\"blue\",\"blue\",\"blue\",\"blue\",\"blue\",\"blue\",\"blue\",\"blue\",\"blue\",\"blue\",\"blue\",\"blue\",\"blue\",\"blue\",\"blue\",\"blue\",\"blue\",\"blue\",\"blue\",\"blue\",\"blue\",\"blue\",\"blue\",\"blue\",\"blue\",\"blue\",\"blue\",\"blue\",\"blue\",\"blue\",\"blue\",\"blue\",\"blue\",\"blue\",\"blue\",\"blue\",\"blue\",\"blue\",\"blue\",\"blue\",\"blue\",\"blue\",\"blue\",\"blue\",\"blue\",\"blue\",\"blue\",\"blue\",\"blue\",\"blue\",\"blue\",\"blue\",\"blue\",\"blue\",\"blue\",\"blue\",\"blue\",\"blue\",\"blue\",\"blue\",\"blue\",\"blue\",\"blue\",\"blue\",\"blue\",\"blue\",\"blue\",\"blue\",\"blue\",\"blue\",\"blue\",\"blue\",\"blue\",\"blue\",\"blue\",\"blue\",\"blue\",\"blue\",\"blue\",\"blue\",\"blue\",\"blue\",\"blue\",\"blue\",\"blue\",\"blue\",\"blue\",\"blue\",\"blue\",\"blue\",\"blue\",\"blue\",\"blue\",\"blue\",\"blue\",\"blue\",\"blue\",\"blue\",\"blue\",\"blue\",\"blue\",\"blue\",\"blue\",\"blue\",\"blue\",\"blue\",\"blue\",\"blue\",\"blue\",\"blue\",\"blue\",\"blue\",\"blue\",\"blue\",\"blue\",\"blue\",\"blue\",\"blue\",\"blue\",\"blue\",\"blue\",\"blue\",\"blue\",\"blue\",\"blue\",\"blue\",\"blue\",\"blue\",\"blue\",\"blue\",\"blue\",\"blue\",\"blue\",\"blue\",\"blue\",\"blue\",\"blue\",\"blue\",\"blue\",\"blue\",\"blue\",\"blue\",\"blue\",\"blue\",\"blue\",\"blue\",\"blue\",\"blue\",\"blue\",\"blue\",\"blue\",\"blue\",\"blue\",\"blue\",\"blue\",\"blue\",\"blue\",\"blue\",\"blue\",\"blue\",\"blue\",\"blue\",\"blue\",\"blue\",\"blue\",\"blue\",\"blue\",\"blue\",\"blue\",\"blue\",\"blue\",\"blue\",\"blue\",\"blue\",\"blue\",\"blue\",\"blue\",\"blue\",\"blue\",\"blue\",\"blue\",\"blue\",\"blue\",\"blue\",\"blue\",\"blue\",\"blue\",\"blue\",\"blue\",\"blue\",\"blue\",\"blue\",\"blue\",\"blue\",\"blue\",\"blue\",\"blue\",\"blue\",\"blue\",\"blue\",\"blue\",\"blue\",\"blue\",\"blue\",\"blue\",\"blue\",\"blue\",\"blue\",\"blue\",\"blue\",\"blue\",\"blue\",\"blue\",\"blue\",\"blue\",\"blue\",\"blue\",\"blue\",\"blue\",\"blue\",\"blue\",\"blue\",\"blue\",\"blue\",\"blue\",\"blue\",\"blue\",\"blue\",\"blue\",\"blue\",\"blue\",\"blue\",\"blue\",\"blue\",\"blue\",\"blue\",\"blue\",\"blue\",\"blue\",\"blue\",\"blue\",\"blue\",\"blue\",\"blue\",\"blue\",\"blue\",\"blue\",\"blue\",\"blue\",\"blue\",\"blue\",\"blue\",\"blue\",\"blue\",\"blue\",\"blue\",\"blue\",\"blue\",\"blue\",\"blue\",\"blue\",\"blue\",\"blue\",\"blue\",\"blue\",\"blue\",\"blue\",\"blue\",\"blue\",\"blue\",\"blue\",\"blue\",\"blue\",\"blue\",\"blue\",\"blue\",\"blue\",\"blue\",\"blue\",\"blue\",\"blue\",\"blue\",\"blue\",\"blue\",\"blue\",\"blue\",\"blue\",\"blue\",\"blue\",\"blue\",\"blue\",\"blue\",\"blue\",\"blue\",\"blue\",\"blue\",\"blue\",\"blue\",\"blue\",\"blue\",\"blue\",\"blue\",\"blue\",\"blue\",\"blue\",\"blue\",\"blue\",\"blue\",\"blue\",\"blue\",\"blue\",\"blue\",\"blue\",\"blue\",\"blue\",\"blue\",\"blue\",\"blue\",\"blue\",\"blue\",\"blue\",\"blue\",\"blue\",\"blue\",\"blue\",\"blue\",\"blue\",\"blue\",\"blue\",\"blue\",\"blue\",\"blue\",\"blue\",\"blue\",\"blue\",\"blue\",\"blue\",\"blue\",\"blue\",\"blue\",\"blue\",\"blue\",\"blue\",\"blue\",\"blue\",\"blue\",\"blue\",\"blue\",\"blue\",\"blue\",\"blue\",\"blue\",\"blue\",\"blue\",\"blue\",\"blue\",\"blue\",\"blue\",\"blue\",\"blue\",\"blue\",\"blue\",\"blue\",\"blue\",\"blue\",\"blue\",\"blue\",\"blue\",\"blue\",\"blue\",\"blue\",\"blue\",\"blue\",\"blue\",\"blue\",\"blue\",\"blue\",\"blue\",\"blue\",\"blue\",\"blue\",\"blue\",\"blue\",\"blue\",\"blue\",\"blue\",\"blue\",\"blue\",\"blue\",\"blue\",\"blue\",\"blue\",\"blue\",\"blue\",\"blue\",\"blue\",\"blue\",\"blue\",\"blue\",\"blue\",\"blue\",\"blue\",\"blue\",\"blue\",\"blue\",\"blue\",\"blue\",\"blue\",\"blue\",\"blue\",\"blue\",\"blue\",\"blue\",\"blue\",\"blue\",\"blue\",\"blue\",\"blue\",\"blue\",\"blue\",\"blue\",\"blue\",\"blue\",\"blue\",\"blue\",\"blue\",\"blue\",\"blue\",\"blue\",\"blue\",\"blue\",\"blue\",\"blue\",\"blue\",\"blue\",\"blue\",\"blue\",\"blue\",\"blue\",\"blue\",\"blue\",\"blue\",\"blue\",\"blue\",\"blue\",\"blue\",\"blue\",\"blue\",\"blue\",\"blue\",\"blue\",\"blue\",\"blue\",\"blue\",\"blue\",\"blue\",\"blue\",\"blue\",\"blue\",\"blue\",\"blue\",\"blue\",\"blue\",\"blue\",\"blue\",\"blue\",\"blue\",\"blue\",\"blue\",\"blue\",\"blue\",\"blue\",\"blue\",\"blue\",\"blue\",\"blue\",\"blue\",\"blue\",\"blue\",\"blue\",\"blue\",\"blue\",\"blue\",\"blue\",\"blue\",\"blue\",\"blue\",\"blue\",\"blue\",\"blue\",\"blue\",\"blue\",\"blue\",\"blue\",\"blue\",\"blue\",\"blue\",\"blue\",\"blue\",\"blue\",\"blue\",\"blue\",\"blue\",\"blue\",\"blue\",\"blue\",\"blue\",\"blue\",\"blue\",\"blue\",\"blue\",\"blue\",\"blue\",\"blue\",\"blue\",\"blue\",\"blue\",\"blue\",\"blue\",\"blue\",\"blue\",\"blue\",\"blue\",\"blue\",\"blue\",\"blue\",\"blue\",\"blue\",\"blue\",\"blue\",\"blue\",\"blue\",\"blue\",\"blue\",\"blue\",\"blue\",\"blue\",\"blue\",\"blue\",\"blue\",\"blue\",\"blue\",\"blue\",\"blue\",\"blue\",\"blue\",\"blue\",\"blue\",\"blue\",\"blue\",\"blue\",\"blue\",\"blue\",\"blue\",\"blue\",\"blue\",\"blue\",\"blue\",\"blue\",\"blue\",\"blue\",\"blue\",\"blue\",\"blue\",\"blue\",\"blue\",\"blue\",\"blue\",\"blue\",\"blue\",\"blue\",\"blue\",\"blue\",\"blue\",\"blue\",\"blue\",\"blue\",\"blue\",\"blue\",\"blue\",\"blue\",\"blue\",\"blue\",\"blue\",\"blue\",\"blue\",\"blue\",\"blue\",\"blue\",\"blue\",\"blue\",\"blue\",\"blue\",\"blue\",\"blue\",\"blue\",\"blue\",\"blue\",\"blue\",\"blue\",\"blue\",\"blue\",\"blue\",\"blue\",\"blue\",\"blue\",\"blue\",\"blue\",\"blue\",\"blue\",\"blue\",\"blue\",\"blue\",\"blue\",\"blue\",\"blue\",\"blue\",\"blue\",\"blue\",\"blue\",\"blue\",\"blue\",\"blue\",\"blue\",\"blue\",\"blue\",\"blue\",\"blue\",\"blue\",\"blue\",\"blue\",\"blue\",\"blue\",\"blue\",\"blue\",\"blue\",\"blue\",\"blue\",\"blue\",\"blue\",\"blue\",\"blue\",\"blue\",\"blue\",\"blue\",\"blue\",\"blue\",\"blue\",\"blue\",\"blue\",\"blue\",\"blue\",\"blue\",\"blue\",\"blue\",\"blue\",\"blue\",\"blue\",\"blue\",\"blue\",\"blue\",\"blue\",\"blue\",\"blue\",\"blue\",\"blue\",\"blue\",\"blue\",\"blue\",\"blue\",\"blue\",\"blue\",\"blue\",\"blue\",\"blue\",\"blue\",\"blue\",\"blue\",\"blue\",\"blue\",\"blue\",\"blue\",\"blue\",\"blue\",\"blue\",\"blue\",\"blue\",\"blue\",\"blue\",\"blue\",\"blue\",\"blue\",\"blue\",\"blue\",\"blue\",\"blue\",\"blue\",\"blue\",\"blue\",\"blue\",\"blue\",\"blue\",\"blue\",\"blue\",\"blue\",\"blue\",\"blue\",\"blue\",\"blue\",\"blue\",\"blue\",\"blue\",\"blue\",\"blue\",\"blue\",\"blue\",\"blue\",\"blue\",\"blue\",\"blue\",\"blue\",\"blue\",\"blue\",\"blue\",\"blue\",\"blue\",\"blue\",\"blue\",\"blue\",\"blue\",\"blue\",\"blue\",\"blue\",\"blue\",\"blue\",\"blue\",\"blue\",\"blue\",\"blue\",\"blue\",\"blue\",\"blue\",\"blue\",\"blue\",\"blue\",\"blue\",\"blue\",\"blue\",\"blue\",\"blue\",\"blue\",\"blue\",\"blue\",\"blue\",\"blue\",\"blue\",\"blue\",\"blue\",\"blue\",\"blue\",\"blue\",\"blue\",\"blue\",\"blue\",\"blue\",\"blue\",\"blue\",\"blue\",\"blue\",\"blue\",\"blue\",\"blue\",\"blue\",\"blue\",\"blue\",\"blue\",\"blue\",\"blue\",\"blue\",\"blue\",\"blue\",\"blue\",\"blue\",\"blue\",\"blue\",\"blue\",\"blue\",\"blue\",\"blue\",\"blue\",\"blue\",\"blue\",\"blue\",\"blue\",\"blue\",\"blue\",\"blue\",\"blue\",\"blue\",\"blue\",\"blue\",\"blue\",\"blue\",\"blue\",\"blue\",\"blue\",\"blue\",\"blue\",\"blue\",\"blue\",\"blue\",\"blue\",\"blue\",\"blue\",\"blue\",\"blue\",\"blue\",\"blue\",\"blue\",\"blue\",\"blue\",\"blue\",\"blue\",\"blue\",\"blue\",\"blue\",\"blue\",\"blue\",\"blue\",\"blue\",\"blue\",\"blue\",\"blue\",\"blue\",\"blue\",\"blue\",\"blue\",\"blue\",\"blue\",\"blue\",\"blue\",\"blue\",\"blue\",\"blue\",\"blue\",\"blue\",\"blue\",\"blue\",\"blue\",\"blue\",\"blue\",\"blue\",\"blue\",\"blue\",\"blue\",\"blue\",\"blue\",\"blue\",\"blue\",\"blue\",\"blue\",\"blue\",\"blue\",\"blue\",\"blue\",\"blue\",\"blue\",\"blue\",\"blue\",\"blue\",\"blue\",\"blue\",\"blue\",\"blue\",\"blue\",\"blue\",\"blue\",\"blue\",\"blue\",\"blue\",\"blue\",\"blue\",\"blue\",\"blue\",\"blue\",\"blue\",\"blue\",\"blue\",\"blue\",\"blue\",\"blue\",\"blue\",\"blue\",\"blue\",\"blue\",\"blue\",\"blue\",\"blue\",\"blue\",\"blue\",\"blue\",\"blue\",\"blue\",\"blue\",\"blue\",\"blue\",\"blue\",\"blue\",\"blue\",\"blue\",\"blue\",\"blue\",\"blue\",\"blue\",\"blue\",\"blue\",\"blue\",\"blue\",\"blue\",\"blue\",\"blue\",\"blue\",\"blue\",\"blue\",\"blue\",\"blue\",\"blue\",\"blue\",\"blue\",\"blue\",\"blue\",\"blue\",\"blue\",\"blue\",\"blue\",\"blue\",\"blue\",\"blue\",\"blue\",\"blue\",\"blue\",\"blue\",\"blue\",\"blue\",\"blue\",\"blue\",\"blue\",\"blue\",\"blue\",\"blue\",\"blue\",\"blue\",\"blue\",\"blue\",\"blue\",\"blue\",\"blue\",\"blue\",\"blue\",\"blue\",\"blue\",\"blue\",\"blue\",\"blue\",\"blue\",\"blue\",\"blue\",\"blue\",\"blue\",\"blue\",\"blue\",\"blue\",\"blue\",\"blue\",\"blue\",\"blue\",\"blue\",\"blue\",\"blue\",\"blue\",\"blue\",\"blue\",\"blue\",\"blue\",\"blue\",\"blue\",\"blue\",\"blue\",\"blue\",\"blue\",\"blue\",\"blue\",\"blue\",\"blue\",\"blue\",\"blue\",\"blue\",\"blue\",\"blue\",\"blue\",\"blue\",\"blue\",\"blue\",\"blue\",\"blue\",\"blue\",\"blue\",\"blue\",\"blue\",\"blue\",\"blue\",\"blue\",\"blue\",\"blue\",\"blue\",\"blue\",\"blue\",\"blue\",\"blue\",\"blue\",\"blue\",\"blue\",\"blue\",\"blue\",\"blue\",\"blue\",\"blue\",\"blue\",\"blue\",\"blue\",\"blue\",\"blue\",\"blue\",\"blue\",\"blue\",\"blue\",\"blue\",\"blue\",\"blue\",\"blue\",\"blue\",\"blue\",\"blue\",\"blue\",\"blue\",\"blue\",\"blue\",\"blue\",\"blue\",\"blue\",\"blue\",\"blue\",\"blue\",\"blue\",\"blue\",\"blue\",\"blue\",\"blue\",\"blue\",\"blue\",\"blue\",\"blue\",\"blue\",\"blue\",\"blue\",\"blue\",\"blue\",\"blue\",\"blue\",\"blue\",\"blue\",\"blue\",\"blue\",\"blue\",\"blue\",\"blue\",\"blue\",\"blue\",\"blue\",\"blue\",\"blue\",\"blue\",\"blue\",\"blue\",\"blue\",\"blue\",\"blue\",\"blue\",\"blue\",\"blue\",\"blue\",\"blue\",\"blue\",\"blue\",\"blue\",\"blue\",\"blue\",\"blue\",\"blue\",\"blue\",\"blue\",\"blue\",\"blue\",\"blue\",\"blue\",\"blue\",\"blue\",\"blue\",\"blue\",\"blue\",\"blue\",\"blue\",\"blue\",\"blue\",\"blue\",\"blue\",\"blue\",\"blue\",\"blue\",\"blue\",\"blue\",\"blue\",\"blue\",\"blue\",\"blue\",\"blue\",\"blue\",\"blue\",\"blue\",\"blue\",\"blue\",\"blue\",\"blue\",\"blue\",\"blue\",\"blue\",\"blue\",\"blue\",\"blue\",\"blue\",\"blue\",\"blue\",\"blue\",\"blue\",\"blue\",\"blue\",\"blue\",\"blue\",\"blue\",\"blue\",\"blue\",\"blue\",\"blue\",\"blue\",\"blue\",\"blue\",\"blue\",\"blue\",\"blue\",\"blue\",\"blue\",\"blue\",\"blue\",\"blue\",\"blue\",\"blue\",\"blue\",\"blue\",\"blue\",\"blue\",\"blue\",\"blue\",\"blue\",\"blue\",\"blue\",\"blue\",\"blue\",\"blue\",\"blue\",\"blue\",\"blue\",\"blue\",\"blue\",\"blue\",\"blue\",\"blue\",\"blue\",\"blue\",\"blue\",\"blue\",\"blue\",\"blue\",\"blue\",\"blue\",\"blue\",\"blue\",\"blue\",\"blue\",\"blue\",\"blue\",\"blue\",\"blue\",\"blue\",\"blue\",\"blue\",\"blue\",\"blue\",\"blue\",\"blue\",\"blue\",\"blue\",\"blue\",\"blue\",\"blue\",\"blue\",\"blue\",\"blue\",\"blue\",\"blue\",\"blue\",\"blue\",\"blue\",\"blue\",\"blue\",\"blue\",\"blue\",\"blue\",\"blue\",\"blue\",\"blue\",\"blue\",\"blue\",\"blue\",\"blue\",\"blue\",\"blue\",\"blue\",\"blue\",\"blue\",\"blue\",\"blue\",\"blue\",\"blue\",\"blue\",\"blue\",\"blue\",\"blue\",\"blue\",\"blue\",\"blue\",\"blue\",\"blue\",\"blue\",\"blue\",\"blue\",\"blue\",\"blue\",\"blue\",\"blue\",\"blue\",\"blue\",\"blue\",\"blue\",\"blue\",\"blue\",\"blue\",\"blue\",\"blue\",\"blue\",\"blue\",\"blue\",\"blue\",\"blue\",\"blue\",\"blue\",\"blue\",\"blue\",\"blue\",\"blue\",\"blue\",\"blue\",\"blue\",\"blue\",\"blue\",\"blue\",\"blue\",\"blue\",\"blue\",\"blue\",\"blue\",\"blue\",\"blue\",\"blue\",\"blue\",\"blue\",\"blue\",\"blue\",\"blue\",\"blue\",\"blue\",\"blue\",\"blue\",\"blue\",\"blue\",\"blue\",\"blue\",\"blue\",\"blue\",\"blue\",\"blue\",\"blue\",\"blue\",\"blue\",\"blue\",\"blue\",\"blue\",\"blue\",\"blue\",\"blue\",\"blue\",\"blue\",\"blue\",\"blue\",\"blue\",\"blue\",\"blue\",\"blue\",\"blue\",\"blue\",\"blue\",\"blue\",\"blue\",\"blue\",\"blue\",\"blue\",\"blue\",\"blue\",\"blue\",\"blue\",\"blue\",\"blue\",\"blue\",\"blue\",\"blue\",\"blue\",\"blue\",\"blue\",\"blue\",\"blue\",\"blue\",\"blue\",\"blue\",\"blue\",\"blue\",\"blue\",\"blue\",\"blue\",\"blue\",\"blue\",\"blue\",\"blue\",\"blue\",\"blue\",\"blue\",\"blue\",\"blue\",\"blue\",\"blue\",\"blue\",\"blue\",\"blue\",\"blue\",\"blue\",\"blue\",\"blue\",\"blue\",\"blue\",\"blue\",\"blue\",\"blue\",\"blue\",\"blue\",\"blue\",\"blue\",\"blue\",\"blue\",\"blue\",\"blue\",\"blue\",\"blue\",\"blue\",\"blue\",\"blue\",\"blue\",\"blue\",\"blue\",\"blue\",\"blue\",\"blue\",\"blue\",\"blue\",\"blue\",\"blue\",\"blue\",\"blue\",\"blue\",\"blue\",\"blue\",\"blue\",\"blue\",\"blue\",\"blue\",\"blue\",\"blue\",\"blue\",\"blue\",\"blue\",\"blue\",\"blue\",\"blue\",\"blue\",\"blue\",\"blue\",\"blue\",\"blue\",\"blue\",\"blue\",\"blue\",\"blue\",\"blue\",\"blue\",\"blue\",\"blue\",\"blue\",\"blue\",\"blue\",\"blue\",\"blue\",\"blue\",\"blue\",\"blue\",\"blue\",\"blue\",\"blue\",\"blue\",\"blue\",\"blue\",\"blue\",\"blue\",\"blue\",\"blue\",\"blue\",\"blue\",\"blue\",\"blue\",\"blue\",\"blue\",\"blue\",\"blue\",\"blue\",\"blue\",\"blue\",\"blue\",\"blue\",\"blue\",\"blue\",\"blue\",\"blue\",\"blue\",\"blue\",\"blue\",\"blue\",\"blue\",\"blue\",\"blue\",\"blue\",\"blue\",\"blue\",\"blue\",\"blue\",\"blue\",\"blue\",\"blue\",\"blue\",\"blue\",\"blue\",\"blue\",\"blue\",\"blue\",\"blue\",\"blue\",\"blue\",\"blue\",\"blue\",\"blue\",\"blue\",\"blue\",\"blue\",\"blue\",\"blue\",\"blue\",\"blue\",\"blue\",\"blue\",\"blue\",\"blue\",\"blue\",\"blue\",\"blue\",\"blue\",\"blue\",\"blue\",\"blue\",\"blue\",\"blue\",\"blue\",\"blue\",\"blue\",\"blue\",\"blue\",\"blue\",\"blue\",\"blue\",\"blue\",\"blue\",\"blue\",\"blue\",\"blue\",\"blue\",\"blue\",\"blue\",\"blue\",\"blue\",\"blue\",\"blue\",\"blue\",\"blue\",\"blue\",\"blue\",\"blue\",\"blue\",\"blue\",\"blue\",\"blue\",\"blue\",\"blue\",\"blue\",\"blue\",\"blue\",\"blue\",\"blue\",\"blue\",\"blue\",\"blue\",\"blue\",\"blue\",\"blue\",\"blue\",\"blue\",\"blue\",\"blue\",\"blue\",\"blue\",\"blue\",\"blue\",\"blue\",\"blue\",\"blue\",\"blue\",\"blue\",\"blue\",\"blue\",\"blue\",\"blue\",\"blue\",\"blue\",\"blue\",\"blue\",\"blue\",\"blue\",\"blue\",\"blue\",\"blue\",\"blue\",\"blue\",\"blue\",\"blue\",\"blue\",\"blue\",\"blue\",\"blue\",\"blue\",\"blue\",\"blue\",\"blue\",\"blue\",\"blue\",\"blue\",\"blue\",\"blue\",\"blue\",\"blue\",\"blue\",\"blue\",\"blue\",\"blue\",\"blue\",\"blue\",\"blue\",\"blue\",\"blue\",\"blue\",\"blue\",\"blue\",\"blue\",\"blue\",\"blue\",\"blue\",\"blue\",\"blue\",\"blue\",\"blue\",\"blue\",\"blue\",\"blue\",\"blue\",\"blue\",\"blue\",\"blue\",\"blue\",\"blue\",\"blue\",\"blue\",\"blue\",\"blue\",\"blue\",\"blue\",\"blue\",\"blue\",\"blue\",\"blue\",\"blue\",\"blue\",\"blue\",\"blue\",\"blue\",\"blue\",\"blue\",\"blue\",\"blue\",\"blue\",\"blue\",\"blue\",\"blue\",\"blue\",\"blue\",\"blue\",\"blue\",\"blue\",\"blue\",\"blue\",\"blue\",\"blue\",\"blue\",\"blue\",\"blue\",\"blue\",\"blue\",\"blue\",\"blue\",\"blue\",\"blue\",\"blue\",\"blue\",\"blue\",\"blue\",\"blue\",\"blue\",\"blue\",\"blue\",\"blue\",\"blue\",\"blue\",\"blue\",\"blue\",\"blue\",\"blue\",\"blue\",\"blue\",\"blue\",\"blue\",\"blue\",\"blue\",\"blue\",\"blue\",\"blue\",\"blue\",\"blue\",\"blue\",\"blue\",\"blue\",\"blue\",\"blue\",\"blue\",\"blue\",\"blue\",\"blue\",\"blue\",\"blue\",\"blue\",\"blue\",\"blue\",\"blue\",\"blue\",\"blue\",\"blue\",\"blue\",\"blue\",\"blue\",\"blue\",\"blue\",\"blue\",\"blue\",\"blue\",\"blue\",\"blue\",\"blue\",\"blue\",\"blue\",\"blue\",\"blue\",\"blue\",\"blue\",\"blue\",\"blue\",\"blue\",\"blue\",\"blue\",\"blue\",\"blue\",\"blue\",\"blue\",\"blue\",\"blue\",\"blue\",\"blue\",\"blue\",\"blue\",\"blue\",\"blue\",\"blue\",\"blue\",\"blue\",\"blue\",\"blue\",\"blue\",\"blue\",\"blue\",\"blue\",\"blue\",\"blue\",\"blue\",\"blue\",\"blue\",\"blue\",\"blue\",\"blue\",\"blue\",\"blue\",\"blue\",\"blue\",\"blue\",\"blue\",\"blue\",\"blue\",\"blue\",\"blue\",\"blue\",\"blue\",\"blue\",\"blue\",\"blue\",\"blue\",\"blue\",\"blue\",\"blue\",\"blue\",\"blue\",\"blue\",\"blue\",\"blue\",\"blue\",\"blue\",\"blue\",\"blue\",\"blue\",\"blue\",\"blue\",\"blue\",\"blue\",\"blue\",\"blue\",\"blue\",\"blue\",\"blue\",\"blue\",\"blue\",\"blue\",\"blue\",\"blue\",\"blue\",\"blue\",\"blue\",\"blue\",\"blue\",\"blue\",\"blue\",\"blue\",\"blue\",\"blue\",\"blue\",\"blue\",\"blue\",\"blue\",\"blue\",\"blue\",\"blue\",\"blue\",\"blue\",\"blue\",\"blue\",\"blue\",\"blue\",\"blue\",\"blue\",\"blue\",\"blue\",\"blue\",\"blue\",\"blue\",\"blue\",\"blue\",\"blue\",\"blue\",\"blue\",\"blue\",\"blue\",\"blue\",\"blue\",\"blue\",\"blue\",\"blue\",\"blue\",\"blue\",\"blue\",\"blue\",\"blue\",\"blue\",\"blue\",\"blue\",\"blue\",\"blue\",\"blue\",\"blue\",\"blue\",\"blue\",\"blue\",\"blue\",\"blue\",\"blue\",\"blue\",\"blue\",\"blue\",\"blue\",\"blue\",\"blue\",\"blue\",\"blue\",\"blue\",\"blue\",\"blue\",\"blue\",\"blue\",\"blue\",\"blue\",\"blue\",\"blue\",\"blue\",\"blue\",\"blue\",\"blue\",\"blue\",\"blue\",\"blue\",\"blue\",\"blue\",\"blue\",\"blue\",\"blue\",\"blue\",\"blue\",\"blue\",\"blue\",\"blue\",\"blue\",\"blue\",\"blue\",\"blue\",\"blue\",\"blue\",\"blue\",\"blue\",\"blue\",\"blue\",\"blue\",\"blue\",\"blue\",\"blue\",\"blue\",\"blue\",\"blue\",\"blue\",\"blue\",\"blue\",\"blue\",\"blue\",\"blue\",\"blue\",\"blue\",\"blue\",\"blue\",\"blue\",\"blue\",\"blue\",\"blue\",\"blue\",\"blue\",\"blue\",\"blue\",\"blue\",\"blue\",\"blue\",\"blue\",\"blue\",\"blue\",\"blue\",\"blue\",\"blue\",\"blue\",\"blue\",\"blue\",\"blue\",\"blue\",\"blue\",\"blue\",\"blue\",\"blue\",\"blue\",\"blue\",\"blue\",\"blue\",\"blue\",\"blue\",\"blue\",\"blue\",\"blue\",\"blue\",\"blue\",\"blue\",\"blue\",\"blue\",\"blue\",\"blue\",\"blue\",\"blue\",\"blue\",\"blue\",\"blue\",\"blue\",\"blue\",\"blue\",\"blue\",\"blue\",\"blue\",\"blue\",\"blue\",\"blue\",\"blue\",\"blue\",\"blue\",\"blue\",\"blue\",\"blue\",\"blue\",\"blue\",\"blue\",\"blue\",\"blue\",\"blue\",\"blue\",\"blue\",\"blue\",\"blue\",\"blue\",\"blue\",\"blue\",\"blue\",\"blue\",\"blue\",\"blue\",\"blue\",\"blue\",\"blue\",\"blue\",\"blue\",\"blue\",\"blue\",\"blue\",\"blue\",\"blue\",\"blue\",\"blue\",\"blue\",\"blue\",\"blue\",\"blue\",\"blue\",\"blue\",\"blue\",\"blue\",\"blue\",\"blue\",\"blue\",\"blue\",\"blue\",\"blue\",\"blue\",\"blue\",\"blue\",\"blue\",\"blue\",\"blue\",\"blue\",\"blue\",\"blue\",\"blue\",\"blue\",\"blue\",\"blue\",\"blue\",\"blue\",\"blue\",\"blue\",\"blue\",\"blue\",\"blue\",\"blue\",\"blue\",\"blue\",\"blue\",\"blue\",\"blue\",\"blue\",\"blue\",\"blue\",\"blue\",\"blue\",\"blue\",\"blue\",\"blue\",\"blue\",\"blue\",\"blue\",\"blue\",\"blue\",\"blue\",\"blue\",\"blue\",\"blue\",\"blue\",\"blue\",\"blue\",\"blue\",\"blue\",\"blue\",\"blue\",\"blue\",\"blue\",\"blue\",\"blue\",\"blue\",\"blue\",\"blue\",\"blue\",\"blue\",\"blue\",\"blue\",\"blue\",\"blue\",\"blue\",\"blue\",\"blue\",\"blue\",\"blue\",\"blue\",\"blue\",\"blue\",\"blue\",\"blue\",\"blue\",\"blue\",\"blue\",\"blue\",\"blue\",\"blue\",\"blue\",\"blue\",\"blue\",\"blue\",\"blue\",\"blue\",\"blue\",\"blue\",\"blue\",\"blue\",\"blue\",\"blue\",\"blue\",\"blue\",\"blue\",\"blue\",\"blue\",\"blue\",\"blue\",\"blue\",\"blue\",\"blue\",\"blue\",\"blue\",\"blue\",\"blue\",\"blue\",\"blue\",\"blue\",\"blue\",\"blue\",\"blue\",\"blue\",\"blue\",\"blue\",\"blue\",\"blue\",\"blue\",\"blue\",\"blue\",\"blue\",\"blue\",\"blue\",\"blue\",\"blue\",\"blue\",\"blue\",\"blue\",\"blue\",\"blue\",\"blue\",\"blue\",\"blue\",\"blue\",\"blue\",\"blue\",\"blue\",\"blue\",\"blue\",\"blue\",\"blue\",\"blue\",\"blue\",\"blue\",\"blue\",\"blue\",\"blue\",\"blue\",\"blue\",\"blue\",\"blue\",\"blue\",\"blue\",\"blue\",\"blue\",\"blue\",\"blue\",\"blue\",\"blue\",\"blue\",\"blue\",\"blue\",\"blue\",\"blue\",\"blue\",\"blue\",\"blue\",\"blue\",\"blue\",\"blue\",\"blue\",\"blue\",\"blue\",\"blue\",\"blue\",\"blue\",\"blue\",\"blue\",\"blue\",\"blue\",\"blue\",\"blue\",\"blue\",\"blue\",\"blue\",\"blue\",\"blue\",\"blue\",\"blue\",\"blue\",\"blue\",\"blue\",\"blue\",\"blue\",\"blue\",\"blue\",\"blue\",\"blue\",\"blue\",\"blue\",\"blue\",\"blue\",\"blue\",\"blue\",\"blue\",\"blue\",\"blue\",\"blue\",\"blue\",\"blue\",\"blue\",\"blue\",\"blue\",\"blue\",\"blue\",\"blue\",\"blue\",\"blue\",\"blue\",\"blue\",\"blue\",\"blue\",\"blue\",\"blue\",\"blue\",\"blue\",\"blue\",\"blue\",\"blue\",\"blue\",\"blue\",\"blue\",\"blue\",\"blue\",\"blue\",\"blue\",\"blue\",\"blue\",\"blue\",\"blue\",\"blue\",\"blue\",\"blue\",\"blue\",\"blue\",\"blue\",\"blue\",\"blue\",\"blue\",\"blue\",\"blue\",\"blue\",\"blue\",\"blue\",\"blue\",\"blue\",\"blue\",\"blue\",\"blue\",\"blue\",\"blue\",\"blue\",\"blue\",\"blue\",\"blue\",\"blue\",\"blue\",\"blue\",\"blue\",\"blue\",\"blue\",\"blue\",\"blue\",\"blue\",\"blue\",\"blue\",\"blue\",\"blue\",\"blue\",\"blue\",\"blue\",\"blue\",\"blue\",\"blue\",\"blue\",\"blue\",\"blue\",\"blue\",\"blue\",\"blue\",\"blue\",\"blue\",\"blue\",\"blue\",\"blue\",\"blue\",\"blue\",\"blue\",\"blue\",\"blue\",\"blue\",\"blue\",\"blue\",\"blue\",\"blue\",\"blue\",\"blue\",\"blue\",\"blue\",\"blue\",\"blue\",\"blue\",\"blue\",\"blue\",\"blue\",\"blue\",\"blue\",\"blue\",\"blue\",\"blue\",\"blue\",\"blue\",\"blue\",\"blue\",\"blue\",\"blue\",\"blue\",\"blue\",\"blue\",\"blue\",\"blue\",\"blue\",\"blue\",\"blue\",\"blue\",\"blue\",\"blue\",\"blue\",\"blue\",\"blue\",\"blue\",\"blue\",\"blue\",\"blue\",\"blue\",\"blue\",\"blue\",\"blue\",\"blue\",\"blue\",\"blue\",\"blue\",\"blue\",\"blue\",\"blue\",\"blue\",\"blue\",\"blue\",\"blue\",\"blue\",\"blue\",\"blue\",\"blue\",\"blue\",\"blue\",\"blue\",\"blue\",\"blue\",\"blue\",\"blue\",\"blue\",\"blue\",\"blue\",\"blue\",\"blue\",\"blue\",\"blue\",\"blue\",\"blue\",\"blue\",\"blue\",\"blue\",\"blue\",\"blue\",\"blue\",\"blue\",\"blue\",\"blue\",\"blue\",\"blue\",\"blue\",\"blue\",\"blue\",\"blue\",\"blue\",\"blue\",\"blue\",\"blue\",\"blue\",\"blue\",\"blue\",\"blue\",\"blue\",\"blue\",\"blue\",\"blue\",\"blue\",\"blue\",\"blue\",\"blue\",\"blue\",\"blue\",\"blue\",\"blue\",\"blue\",\"blue\",\"blue\",\"blue\",\"blue\",\"blue\",\"blue\",\"blue\",\"blue\",\"blue\",\"blue\",\"blue\",\"blue\",\"blue\",\"blue\",\"blue\",\"blue\",\"blue\",\"blue\",\"blue\",\"blue\",\"blue\",\"blue\",\"blue\",\"blue\",\"blue\",\"blue\",\"blue\",\"blue\",\"blue\",\"blue\",\"blue\",\"blue\",\"blue\",\"blue\",\"blue\",\"blue\",\"blue\",\"blue\",\"blue\",\"blue\",\"blue\",\"blue\",\"blue\",\"blue\",\"blue\",\"blue\",\"blue\",\"blue\",\"blue\",\"blue\",\"blue\",\"blue\",\"blue\",\"blue\",\"blue\",\"blue\",\"blue\",\"blue\",\"blue\",\"blue\",\"blue\",\"blue\",\"blue\",\"blue\",\"blue\",\"blue\",\"blue\",\"blue\",\"blue\",\"blue\",\"blue\",\"blue\",\"blue\",\"blue\",\"blue\",\"blue\",\"blue\",\"blue\",\"blue\",\"blue\",\"blue\",\"blue\",\"blue\",\"blue\",\"blue\",\"blue\",\"blue\",\"blue\",\"blue\",\"blue\",\"blue\",\"blue\",\"blue\",\"blue\",\"blue\",\"blue\",\"blue\",\"blue\",\"blue\",\"blue\",\"blue\",\"blue\",\"blue\",\"blue\",\"blue\",\"blue\",\"blue\",\"blue\",\"blue\",\"blue\",\"blue\",\"blue\",\"blue\",\"blue\",\"blue\",\"blue\",\"blue\",\"blue\",\"blue\",\"blue\",\"blue\",\"blue\",\"blue\",\"blue\",\"blue\",\"blue\",\"blue\",\"blue\",\"blue\",\"blue\",\"blue\",\"blue\",\"blue\",\"blue\",\"blue\",\"blue\",\"blue\",\"blue\",\"blue\",\"blue\",\"blue\",\"blue\",\"blue\",\"blue\",\"blue\",\"blue\",\"blue\",\"blue\",\"blue\",\"blue\",\"blue\",\"blue\",\"blue\",\"blue\",\"blue\",\"blue\",\"blue\",\"blue\",\"blue\",\"blue\",\"blue\",\"blue\",\"blue\",\"blue\",\"blue\",\"blue\",\"blue\",\"blue\",\"blue\",\"blue\",\"blue\",\"blue\",\"blue\",\"blue\",\"blue\",\"blue\",\"blue\",\"blue\",\"blue\",\"blue\",\"blue\",\"blue\",\"blue\",\"blue\",\"blue\",\"blue\",\"blue\",\"blue\",\"blue\",\"blue\",\"blue\",\"blue\",\"blue\",\"blue\",\"blue\",\"blue\",\"blue\",\"blue\",\"blue\",\"blue\",\"blue\",\"blue\",\"blue\",\"blue\",\"blue\",\"blue\",\"blue\",\"blue\",\"blue\",\"blue\",\"blue\",\"blue\",\"blue\",\"blue\",\"blue\",\"blue\",\"blue\",\"blue\",\"blue\",\"blue\",\"blue\",\"blue\",\"blue\",\"blue\",\"blue\",\"blue\",\"blue\",\"blue\",\"blue\",\"blue\",\"blue\",\"blue\",\"blue\",\"blue\",\"blue\",\"blue\",\"blue\",\"blue\",\"blue\",\"blue\",\"blue\",\"blue\",\"blue\",\"blue\",\"blue\",\"blue\",\"blue\",\"blue\",\"blue\",\"blue\",\"blue\",\"blue\",\"blue\",\"blue\",\"blue\",\"blue\",\"blue\",\"blue\",\"blue\",\"blue\",\"blue\",\"blue\",\"blue\",\"blue\",\"blue\",\"blue\",\"blue\",\"blue\",\"blue\",\"blue\",\"blue\",\"blue\",\"blue\",\"blue\",\"blue\",\"blue\",\"blue\",\"blue\",\"blue\",\"blue\",\"blue\",\"blue\",\"blue\",\"blue\",\"blue\",\"blue\",\"blue\",\"blue\",\"blue\",\"blue\",\"blue\",\"blue\",\"blue\",\"blue\",\"blue\",\"blue\",\"blue\",\"blue\",\"blue\",\"blue\",\"blue\",\"blue\",\"blue\",\"blue\",\"blue\",\"blue\",\"blue\",\"blue\",\"blue\",\"blue\",\"blue\",\"blue\",\"blue\",\"blue\",\"blue\",\"blue\",\"blue\",\"blue\",\"blue\",\"blue\",\"blue\",\"blue\",\"blue\",\"blue\",\"blue\",\"blue\",\"blue\",\"blue\",\"blue\",\"blue\",\"blue\",\"blue\",\"blue\",\"blue\",\"blue\",\"blue\",\"blue\",\"blue\",\"blue\",\"blue\",\"blue\",\"blue\",\"blue\",\"blue\",\"blue\",\"blue\",\"blue\",\"blue\",\"blue\",\"blue\",\"blue\",\"blue\",\"blue\",\"blue\",\"blue\",\"blue\",\"blue\",\"blue\",\"blue\",\"blue\",\"blue\",\"blue\",\"blue\",\"blue\",\"blue\",\"blue\",\"blue\",\"blue\",\"blue\",\"blue\",\"blue\",\"blue\",\"blue\",\"blue\",\"blue\",\"blue\",\"blue\",\"blue\",\"blue\",\"blue\",\"blue\",\"blue\",\"blue\",\"blue\",\"blue\",\"blue\",\"blue\",\"blue\",\"blue\",\"blue\",\"blue\",\"blue\",\"blue\",\"blue\",\"blue\",\"blue\",\"blue\",\"blue\",\"blue\",\"blue\",\"blue\",\"blue\",\"blue\",\"blue\",\"blue\",\"blue\",\"blue\",\"blue\",\"blue\",\"blue\",\"blue\",\"blue\",\"blue\",\"blue\",\"blue\",\"blue\",\"blue\",\"blue\",\"blue\",\"blue\",\"blue\",\"blue\",\"blue\",\"blue\",\"blue\",\"blue\",\"blue\",\"blue\",\"blue\",\"blue\",\"blue\",\"blue\",\"blue\",\"blue\",\"blue\",\"blue\",\"blue\",\"blue\",\"blue\",\"blue\",\"blue\",\"blue\",\"blue\",\"blue\",\"blue\",\"blue\",\"blue\",\"blue\",\"blue\",\"blue\",\"blue\",\"blue\",\"blue\",\"blue\",\"blue\",\"blue\",\"blue\",\"blue\",\"blue\",\"blue\",\"blue\",\"blue\",\"blue\",\"blue\",\"blue\",\"blue\",\"blue\",\"blue\",\"blue\",\"blue\",\"blue\",\"blue\",\"blue\",\"blue\",\"blue\",\"blue\",\"blue\",\"blue\",\"blue\",\"blue\",\"blue\",\"blue\",\"blue\",\"blue\",\"blue\",\"blue\",\"blue\",\"blue\",\"blue\",\"blue\",\"blue\",\"blue\",\"blue\",\"blue\",\"blue\",\"blue\",\"blue\",\"blue\",\"blue\",\"blue\",\"blue\",\"blue\",\"blue\",\"blue\",\"blue\",\"blue\",\"blue\",\"blue\",\"blue\",\"blue\",\"blue\",\"blue\",\"blue\",\"blue\",\"blue\",\"blue\",\"blue\",\"blue\",\"blue\",\"blue\",\"blue\",\"blue\",\"blue\",\"blue\",\"blue\",\"blue\",\"blue\",\"blue\",\"blue\",\"blue\",\"blue\",\"blue\",\"blue\",\"blue\",\"blue\",\"blue\",\"blue\",\"blue\",\"blue\",\"blue\",\"blue\",\"blue\",\"blue\",\"blue\",\"blue\",\"blue\",\"blue\",\"blue\",\"blue\",\"blue\",\"blue\",\"blue\",\"blue\",\"blue\",\"blue\",\"blue\",\"blue\",\"blue\",\"blue\",\"blue\",\"blue\",\"blue\",\"blue\",\"blue\",\"blue\",\"blue\",\"blue\",\"blue\",\"blue\",\"blue\",\"blue\",\"blue\",\"blue\",\"blue\",\"blue\",\"blue\",\"blue\",\"blue\",\"blue\",\"blue\",\"blue\",\"blue\",\"blue\",\"blue\",\"blue\",\"blue\",\"blue\",\"blue\",\"blue\",\"blue\",\"blue\",\"blue\",\"blue\",\"blue\",\"blue\",\"blue\",\"blue\",\"blue\",\"blue\",\"blue\",\"blue\",\"blue\",\"blue\",\"blue\",\"blue\",\"blue\",\"blue\",\"blue\",\"blue\",\"blue\",\"blue\",\"blue\",\"blue\",\"blue\",\"blue\",\"blue\",\"blue\",\"blue\",\"blue\",\"blue\",\"blue\",\"blue\",\"blue\",\"blue\",\"blue\",\"blue\",\"blue\",\"blue\",\"blue\",\"blue\",\"blue\",\"blue\",\"blue\",\"blue\",\"blue\",\"blue\",\"blue\",\"blue\",\"blue\",\"blue\",\"blue\",\"blue\",\"blue\",\"blue\",\"blue\",\"blue\",\"blue\",\"blue\",\"blue\",\"blue\",\"blue\",\"blue\",\"blue\",\"blue\",\"blue\",\"blue\",\"blue\",\"blue\",\"blue\",\"blue\",\"blue\",\"blue\",\"blue\",\"blue\",\"blue\",\"blue\",\"blue\",\"blue\",\"blue\",\"blue\",\"blue\",\"blue\",\"blue\",\"blue\",\"blue\",\"blue\",\"blue\",\"blue\",\"blue\",\"blue\",\"blue\",\"blue\",\"blue\",\"blue\",\"blue\",\"blue\",\"blue\",\"blue\",\"blue\",\"blue\",\"blue\",\"blue\",\"blue\",\"blue\",\"blue\",\"blue\",\"blue\",\"blue\",\"blue\",\"blue\",\"blue\",\"blue\",\"blue\",\"blue\",\"blue\",\"blue\",\"blue\",\"blue\",\"blue\",\"blue\",\"blue\",\"blue\",\"blue\",\"blue\",\"blue\",\"blue\",\"blue\",\"blue\",\"blue\",\"blue\",\"blue\",\"blue\",\"blue\",\"blue\",\"blue\",\"blue\",\"blue\",\"blue\",\"blue\",\"blue\",\"blue\",\"blue\",\"blue\",\"blue\",\"blue\",\"blue\",\"blue\",\"blue\",\"blue\",\"blue\",\"blue\",\"blue\",\"blue\",\"blue\",\"blue\",\"blue\",\"blue\",\"blue\",\"blue\",\"blue\",\"blue\",\"blue\",\"blue\",\"blue\",\"blue\",\"blue\",\"blue\",\"blue\",\"blue\",\"blue\",\"blue\",\"blue\",\"blue\",\"blue\",\"blue\",\"blue\",\"blue\",\"blue\",\"blue\",\"blue\",\"blue\",\"blue\",\"blue\",\"blue\",\"blue\",\"blue\",\"blue\",\"blue\",\"blue\",\"blue\",\"blue\",\"blue\",\"blue\",\"blue\",\"blue\",\"blue\",\"blue\",\"blue\",\"blue\",\"blue\",\"blue\",\"blue\",\"blue\",\"blue\",\"blue\",\"blue\",\"blue\",\"blue\",\"blue\",\"blue\",\"blue\",\"blue\",\"blue\",\"blue\",\"blue\",\"blue\",\"blue\",\"blue\",\"blue\",\"blue\",\"blue\",\"blue\",\"blue\",\"blue\",\"blue\",\"blue\",\"blue\",\"blue\",\"blue\",\"blue\",\"blue\",\"blue\",\"blue\",\"blue\",\"blue\",\"blue\",\"blue\",\"blue\",\"blue\",\"blue\",\"blue\",\"blue\",\"blue\",\"blue\",\"blue\",\"blue\",\"blue\",\"blue\",\"blue\",\"blue\",\"blue\",\"blue\",\"blue\",\"blue\",\"blue\",\"blue\",\"blue\",\"blue\",\"blue\",\"blue\",\"blue\",\"blue\",\"blue\",\"blue\",\"blue\",\"blue\",\"blue\",\"blue\",\"blue\",\"blue\",\"blue\",\"blue\",\"blue\",\"blue\",\"blue\",\"blue\",\"blue\",\"blue\",\"blue\",\"blue\",\"blue\",\"blue\",\"blue\",\"blue\",\"blue\",\"blue\",\"blue\",\"blue\",\"blue\",\"blue\",\"blue\",\"blue\",\"blue\",\"blue\",\"blue\",\"blue\",\"blue\",\"blue\",\"blue\",\"blue\",\"blue\",\"blue\",\"blue\",\"blue\",\"blue\",\"blue\",\"blue\",\"blue\",\"blue\",\"blue\",\"blue\",\"blue\",\"blue\",\"blue\",\"blue\",\"blue\",\"blue\",\"blue\",\"blue\",\"blue\",\"blue\",\"blue\",\"blue\",\"blue\",\"blue\",\"blue\",\"blue\",\"blue\",\"blue\",\"blue\",\"blue\",\"blue\",\"blue\",\"blue\",\"blue\",\"blue\",\"blue\",\"blue\",\"blue\",\"blue\",\"blue\",\"blue\",\"blue\",\"blue\",\"blue\",\"blue\",\"blue\",\"blue\",\"blue\",\"blue\",\"blue\",\"blue\",\"blue\",\"blue\",\"blue\",\"blue\",\"blue\",\"blue\",\"blue\",\"blue\",\"blue\",\"blue\",\"blue\",\"blue\",\"blue\",\"blue\",\"blue\",\"blue\",\"blue\",\"blue\",\"blue\",\"blue\",\"blue\",\"blue\",\"blue\",\"blue\",\"blue\",\"blue\",\"blue\",\"blue\",\"blue\",\"blue\",\"blue\",\"blue\",\"blue\",\"blue\",\"blue\",\"blue\",\"blue\",\"blue\",\"blue\",\"blue\",\"blue\",\"blue\",\"blue\",\"blue\",\"blue\",\"blue\",\"blue\",\"blue\",\"blue\",\"blue\",\"blue\",\"blue\",\"blue\",\"blue\",\"blue\",\"blue\",\"blue\",\"blue\",\"blue\",\"blue\",\"blue\",\"blue\",\"blue\",\"blue\",\"blue\",\"blue\",\"blue\",\"blue\",\"blue\",\"blue\",\"blue\",\"blue\",\"blue\",\"blue\",\"blue\",\"blue\",\"blue\",\"blue\",\"blue\",\"blue\",\"blue\",\"blue\",\"blue\",\"blue\",\"blue\",\"blue\",\"blue\",\"blue\",\"blue\",\"blue\",\"blue\",\"blue\",\"blue\",\"blue\",\"blue\",\"blue\",\"blue\",\"blue\",\"blue\",\"blue\",\"blue\",\"blue\",\"blue\",\"blue\",\"blue\",\"blue\",\"blue\",\"blue\",\"blue\",\"blue\",\"blue\",\"blue\",\"blue\",\"blue\",\"blue\",\"blue\",\"blue\",\"blue\",\"blue\",\"blue\",\"blue\",\"blue\",\"blue\",\"blue\",\"blue\",\"blue\",\"blue\",\"blue\",\"blue\",\"blue\",\"blue\",\"blue\",\"blue\",\"blue\",\"blue\",\"blue\",\"blue\",\"blue\",\"blue\",\"blue\",\"blue\",\"blue\",\"blue\",\"blue\",\"blue\",\"blue\",\"blue\",\"blue\",\"blue\",\"blue\",\"blue\",\"blue\",\"blue\",\"blue\",\"blue\",\"blue\",\"blue\",\"blue\",\"blue\",\"blue\",\"blue\",\"blue\",\"blue\",\"blue\",\"blue\",\"blue\",\"blue\",\"blue\",\"blue\",\"blue\",\"blue\",\"blue\",\"blue\",\"blue\",\"blue\",\"blue\",\"blue\",\"blue\",\"blue\",\"blue\",\"blue\",\"blue\",\"blue\",\"blue\",\"blue\",\"blue\",\"blue\",\"blue\",\"blue\",\"blue\",\"blue\",\"blue\",\"blue\",\"blue\",\"blue\",\"blue\",\"blue\",\"blue\",\"blue\",\"blue\",\"blue\",\"blue\",\"blue\",\"blue\",\"blue\",\"blue\",\"blue\",\"blue\",\"blue\",\"blue\",\"blue\",\"blue\",\"blue\",\"blue\",\"blue\",\"blue\",\"blue\",\"blue\",\"blue\",\"blue\",\"blue\",\"blue\",\"blue\",\"blue\",\"blue\",\"blue\",\"blue\",\"blue\",\"blue\",\"blue\",\"blue\",\"blue\",\"blue\",\"blue\",\"blue\",\"blue\",\"blue\",\"blue\",\"blue\",\"blue\",\"blue\",\"blue\",\"blue\",\"blue\",\"blue\",\"blue\",\"blue\",\"blue\",\"blue\",\"blue\",\"blue\",\"blue\",\"blue\",\"blue\",\"blue\",\"blue\",\"blue\",\"blue\",\"blue\",\"blue\",\"blue\",\"blue\",\"blue\",\"blue\",\"blue\",\"blue\",\"blue\",\"blue\",\"blue\",\"blue\",\"blue\",\"blue\",\"blue\",\"blue\",\"blue\",\"blue\",\"blue\",\"blue\",\"blue\",\"blue\",\"blue\",\"blue\",\"blue\",\"blue\",\"blue\",\"blue\",\"blue\",\"blue\",\"blue\",\"blue\",\"blue\",\"blue\",\"blue\",\"blue\",\"blue\",\"blue\",\"blue\",\"blue\",\"blue\",\"blue\",\"blue\",\"blue\",\"blue\",\"blue\",\"blue\",\"blue\",\"blue\",\"blue\",\"blue\",\"blue\",\"blue\",\"blue\",\"blue\",\"blue\",\"blue\",\"blue\",\"blue\",\"blue\",\"blue\",\"blue\",\"blue\",\"blue\",\"blue\",\"blue\",\"blue\",\"blue\",\"blue\",\"blue\",\"blue\",\"blue\",\"blue\",\"blue\",\"blue\",\"blue\",\"blue\",\"blue\",\"blue\",\"blue\",\"blue\",\"blue\",\"blue\",\"blue\",\"blue\",\"blue\",\"blue\",\"blue\",\"blue\",\"blue\",\"blue\",\"blue\",\"blue\",\"blue\",\"blue\",\"blue\",\"blue\",\"blue\",\"blue\",\"blue\",\"blue\",\"blue\",\"blue\",\"blue\",\"blue\",\"blue\",\"blue\",\"blue\",\"blue\",\"blue\",\"blue\",\"blue\",\"blue\",\"blue\",\"blue\",\"blue\",\"blue\",\"blue\",\"blue\",\"blue\",\"blue\",\"blue\",\"blue\",\"blue\",\"blue\",\"blue\",\"blue\",\"blue\",\"blue\",\"blue\",\"blue\",\"blue\",\"blue\",\"blue\",\"blue\",\"blue\",\"blue\",\"blue\",\"blue\",\"blue\",\"blue\",\"blue\",\"blue\",\"blue\",\"blue\",\"blue\",\"blue\",\"blue\",\"blue\",\"blue\",\"blue\",\"blue\",\"blue\",\"blue\",\"blue\",\"blue\",\"blue\",\"blue\",\"blue\",\"blue\",\"blue\",\"blue\",\"blue\",\"blue\",\"blue\",\"blue\",\"blue\",\"blue\",\"blue\",\"blue\",\"blue\",\"blue\",\"blue\",\"blue\",\"blue\",\"blue\",\"blue\",\"blue\",\"blue\",\"blue\",\"blue\",\"blue\",\"blue\",\"blue\",\"blue\",\"blue\",\"blue\",\"blue\",\"blue\",\"blue\",\"blue\",\"blue\",\"blue\",\"blue\",\"blue\",\"blue\",\"blue\",\"blue\",\"blue\",\"blue\",\"blue\",\"blue\",\"blue\",\"blue\",\"blue\",\"blue\",\"blue\",\"blue\",\"blue\",\"blue\",\"blue\",\"blue\",\"blue\",\"blue\",\"blue\",\"blue\",\"blue\",\"blue\",\"blue\",\"blue\",\"blue\",\"blue\",\"blue\",\"blue\",\"blue\",\"blue\",\"blue\",\"blue\",\"blue\",\"blue\",\"blue\",\"blue\",\"blue\",\"blue\",\"blue\",\"blue\",\"blue\",\"blue\",\"blue\",\"blue\",\"blue\",\"blue\",\"blue\",\"blue\",\"blue\",\"blue\",\"blue\",\"blue\",\"blue\",\"blue\",\"blue\",\"blue\",\"blue\",\"blue\",\"blue\",\"blue\",\"blue\",\"blue\",\"blue\",\"blue\",\"blue\",\"blue\",\"blue\",\"blue\",\"blue\",\"blue\",\"blue\",\"blue\",\"blue\",\"blue\",\"blue\",\"blue\",\"blue\",\"blue\",\"blue\",\"blue\",\"blue\",\"blue\",\"blue\",\"blue\",\"blue\",\"blue\",\"blue\",\"blue\",\"blue\",\"blue\",\"blue\",\"blue\",\"blue\",\"blue\",\"blue\",\"blue\",\"blue\",\"blue\",\"blue\",\"blue\",\"blue\",\"blue\",\"blue\",\"blue\",\"blue\",\"blue\",\"blue\",\"blue\",\"blue\",\"blue\",\"blue\",\"blue\",\"blue\",\"blue\",\"blue\",\"blue\",\"blue\",\"blue\",\"blue\",\"blue\",\"blue\",\"blue\",\"blue\",\"blue\",\"blue\",\"blue\",\"blue\",\"blue\",\"blue\",\"blue\",\"blue\",\"blue\",\"blue\",\"blue\",\"blue\",\"blue\",\"blue\",\"blue\",\"blue\",\"blue\",\"blue\",\"blue\",\"blue\",\"blue\",\"blue\",\"blue\",\"blue\",\"blue\",\"blue\",\"blue\",\"blue\",\"blue\",\"blue\",\"blue\",\"blue\",\"blue\",\"blue\",\"blue\",\"blue\",\"blue\",\"blue\",\"blue\",\"blue\",\"blue\",\"blue\",\"blue\",\"blue\",\"blue\"]],[\"token\",[\"verified\",\"2gb\",\"illinois\",\"jazz\",\"checking\",\"telescope\",\"seasons\",\"astrologer\",\"contribution\",\"homemade\",\"heroes\",\"warcraft\",\"kumar\",\"tester\",\"politically\",\"conquer\",\"columbia\",\"quiet\",\"repeat\",\"kapil\",\"involve\",\"mckinsey\",\"switched\",\"att\",\"instance\",\"innocent\",\"portuguese\",\"subscribers\",\"cabinet\",\"terror\",\"85\",\"rotation\",\"shirts\",\"drawn\",\"bi\",\"aspergers\",\"inspiration\",\"beats\",\"\\u00a3\",\"approximately\",\"asset\",\"empathy\",\"rooting\",\"ia\",\"dandruff\",\"slab\",\"operator\",\"horrible\",\"dominant\",\"ocd\",\"spacetime\",\"blow\",\"installing\",\"learnt\",\"separation\",\"institution\",\"temples\",\"hons\",\"pound\",\"removing\",\"unemployment\",\"greenlit\",\"audit\",\"supplement\",\"roller\",\"dota\",\"tiny\",\"equally\",\"braces\",\"aggressive\",\"corn\",\"camps\",\"additional\",\"consent\",\"granted\",\"welfare\",\"myths\",\"stations\",\"timeline\",\"psychologist\",\"nagpur\",\"herself\",\"cooper\",\"exgirlfriend\",\"intercourse\",\"flip\",\"hurts\",\"lpa\",\"nerve\",\"tvs\",\"halloween\",\"screenshot\",\"biomedical\",\"covered\",\"milky\",\"onsite\",\"aside\",\"meaningful\",\"stretch\",\"joker\",\"encounter\",\"tone\",\"founders\",\"talked\",\"respectively\",\"downloads\",\"cocaine\",\"toxic\",\"sword\",\"fuck\",\"trainer\",\"partition\",\"boxing\",\"grid\",\"practicing\",\"menu\",\"cms\",\"indore\",\"ate\",\"volunteer\",\"misconceptions\",\"pics\",\"flies\",\"instantly\",\"trans\",\"friday\",\"sociopaths\",\"ctc\",\"hoax\",\"detailed\",\"sizes\",\"rejection\",\"limitations\",\"bharat\",\"kissing\",\"renewable\",\"oriented\",\"countrys\",\"dumps\",\"spiders\",\"technological\",\"advertisement\",\"headache\",\"zodiac\",\"accommodation\",\"venus\",\"calcium\",\"passenger\",\"falls\",\"overnight\",\"pickup\",\"gary\",\"transportation\",\"odds\",\"jupiter\",\"purchasing\",\"fluently\",\"flu\",\"photons\",\"conductor\",\"ohio\",\"balaji\",\"mcdonalds\",\"betting\",\"irrational\",\"sachin\",\"deactivate\",\"estimate\",\"hairs\",\"fluent\",\"errors\",\"remaining\",\"marriages\",\"medieval\",\"charles\",\"spider\",\"oxford\",\"gita\",\"races\",\"liquor\",\"poland\",\"lease\",\"co2\",\"selenium\",\"attempts\",\"crystal\",\"manaphy\",\"knight\",\"collapsed\",\"wheels\",\"behaviour\",\"bitcoins\",\"parliament\",\"himher\",\"handsome\",\"thousands\",\"caring\",\"kings\",\"lucky\",\"workplace\",\"condom\",\"intuitive\",\"chronic\",\"eyesight\",\"simulation\",\"prank\",\"quickest\",\"concert\",\"popularity\",\"connections\",\"disorders\",\"scripting\",\"appearance\",\"js\",\"depth\",\"cheque\",\"longterm\",\"documentaries\",\"dioxide\",\"bright\",\"info\",\"diseases\",\"appeal\",\"snap\",\"smoked\",\"singers\",\"boil\",\"probably\",\"temperatures\",\"appearing\",\"olive\",\"ntse\",\"telecom\",\"brief\",\"discrimination\",\"ethnic\",\"cache\",\"passionate\",\"shoulder\",\"assault\",\"marshmallow\",\"momentum\",\"yr\",\"migrate\",\"retire\",\"cet\",\"canvas\",\"vietnamese\",\"institutions\",\"meter\",\"roots\",\"integer\",\"imported\",\"ants\",\"lyft\",\"piercing\",\"il\",\"poop\",\"organisms\",\"ve\",\"entropy\",\"calm\",\"saddest\",\"toward\",\"myth\",\"sight\",\"filling\",\"hdmi\",\"satisfied\",\"transactions\",\"pharmacy\",\"nursing\",\"correlation\",\"regression\",\"awake\",\"md\",\"nri\",\"recommendations\",\"bin\",\"finland\",\"multi\",\"voted\",\"discovery\",\"edward\",\"touching\",\"immigrant\",\"geometry\",\"indicate\",\"ourselves\",\"texting\",\"seek\",\"expecting\",\"dj\",\"brake\",\"helicopter\",\"blonde\",\"triple\",\"ladies\",\"vivekananda\",\"switching\",\"prostitution\",\"banana\",\"magazines\",\"shippuden\",\"lucknow\",\"2019\",\"failing\",\"elizabeth\",\"irish\",\"ebook\",\"temporary\",\"governor\",\"wasting\",\"weekends\",\"cpt\",\"wax\",\"labor\",\"instruments\",\"instrumentation\",\"hates\",\"hip\",\"arnab\",\"bubble\",\"employers\",\"aadhaar\",\"boyfriends\",\"jake\",\"explained\",\"yesterday\",\"beta\",\"extrovert\",\"andhra\",\"micromax\",\"vertical\",\"lay\",\"nonprofit\",\"dubbed\",\"typing\",\"automotive\",\"thomas\",\"procedures\",\"priority\",\"funded\",\"arabs\",\"siblings\",\"guinea\",\"missile\",\"luck\",\"strategic\",\"defend\",\"module\",\"tuition\",\"acids\",\"controller\",\"committee\",\"housing\",\"integral\",\"peaceful\",\"refugees\",\"prescription\",\"interns\",\"supported\",\"womans\",\"dentist\",\"wives\",\"village\",\"affecting\",\"lte\",\"beaches\",\"austin\",\"substance\",\"engagement\",\"trainee\",\"measures\",\"trailer\",\"purchased\",\"15000\",\"uttar\",\"glue\",\"dtu\",\"medal\",\"photon\",\"engg\",\"violin\",\"column\",\"somehow\",\"rotate\",\"3000\",\"virat\",\"forgotten\",\"fingers\",\"slim\",\"arrest\",\"covalent\",\"ncert\",\"kernel\",\"da\",\"alarm\",\"ngo\",\"4gb\",\"productivity\",\"planned\",\"district\",\"berlin\",\"lists\",\"leads\",\"slang\",\"defence\",\"aspiring\",\"56\",\"enemy\",\"farming\",\"muller\",\"pays\",\"liver\",\"membrane\",\"secretly\",\"plug\",\"gum\",\"eclipse\",\"chewing\",\"labs\",\"zombie\",\"authority\",\"males\",\"argentina\",\"tasks\",\"fell\",\"nails\",\"palestine\",\"tanks\",\"identical\",\"deck\",\"qualification\",\"leadership\",\"kohli\",\"pronunciation\",\"hello\",\"violent\",\"sabha\",\"respiration\",\"transform\",\"warranty\",\"faculty\",\"adolf\",\"expenses\",\"jersey\",\"mercury\",\"whiskey\",\"tackle\",\"tweet\",\"blame\",\"cruise\",\"mahindra\",\"discharge\",\"reduced\",\"vodka\",\"mahatma\",\"bass\",\"compete\",\"stains\",\"pill\",\"swim\",\"ali\",\"gf\",\"ford\",\"prince\",\"sweat\",\"performing\",\"limits\",\"leonardo\",\"cow\",\"resolve\",\"matters\",\"pharmaceutical\",\"ray\",\"remotely\",\"pf\",\"clinical\",\"bpo\",\"homeless\",\"husbands\",\"rising\",\"newtons\",\"outcome\",\"derivative\",\"alpha\",\"grown\",\"capitalism\",\"astronaut\",\"hybrid\",\"palm\",\"teens\",\"hits\",\"airplanes\",\"none\",\"admin\",\"applicable\",\"amcat\",\"spam\",\"neutrality\",\"pixel\",\"festival\",\"faces\",\"molar\",\"snakes\",\"sip\",\"kik\",\"farm\",\"ltd\",\"votes\",\"publishing\",\"comfort\",\"frontend\",\"spin\",\"diagnosed\",\"buildings\",\"\\u00b0\",\"cashless\",\"addictive\",\"extinct\",\"ugc\",\"coke\",\"llb\",\"phrases\",\"struggle\",\"drives\",\"fiber\",\"grocery\",\"achieved\",\"penny\",\"bath\",\"allies\",\"uninstall\",\"ny\",\"appears\",\"effort\",\"satellites\",\"confirmed\",\"loneliness\",\"illuminati\",\"uri\",\"lucid\",\"preferably\",\"neither\",\"\\u221a\",\"pacific\",\"americas\",\"bs\",\"graduated\",\"bills\",\"tube\",\"germans\",\"assume\",\"cleared\",\"mate\",\"divide\",\"versions\",\"fallen\",\"journey\",\"anthem\",\"certificates\",\"looked\",\"sponsor\",\"useless\",\"dependent\",\"invite\",\"guru\",\"keyword\",\"aipmt\",\"clone\",\"kgs\",\"chip\",\"origins\",\"wide\",\"motivational\",\"elite\",\"wanna\",\"unity\",\"cough\",\"connecting\",\"mystery\",\"kim\",\"syrian\",\"voldemort\",\"responsibilities\",\"molecules\",\"boobs\",\"holidays\",\"tutorial\",\"circumstances\",\"fiitjee\",\"islands\",\"bypass\",\"slowly\",\"mixture\",\"aluminum\",\"salesforce\",\"twin\",\"iot\",\"remedy\",\"sheets\",\"pole\",\"hated\",\"females\",\"protected\",\"irs\",\"insecure\",\"entering\",\"neuroscience\",\"offices\",\"delta\",\"suggestion\",\"snapdeal\",\"backstory\",\"periodic\",\"cancelled\",\"mans\",\"complicated\",\"bitsat\",\"pleasure\",\"loop\",\"dropbox\",\"selfish\",\"nude\",\"20000\",\"voter\",\"variables\",\"victory\",\"closest\",\"compensation\",\"extended\",\"locations\",\"cracked\",\"perks\",\"ended\",\"exit\",\"awareness\",\"pakistanis\",\"ebooks\",\"bull\",\"unblock\",\"100000\",\"entrepreneurship\",\"infrastructure\",\"scotland\",\"guest\",\"attacked\",\"hurting\",\"lion\",\"reject\",\"purposes\",\"knife\",\"thai\",\"ipl\",\"knee\",\"accepting\",\"spent\",\"punjabi\",\"tab\",\"quoras\",\"caffeine\",\"athletes\",\"ink\",\"cooked\",\"improving\",\"invaded\",\"allah\",\"thermodynamics\",\"mortgage\",\"firsttime\",\"achievements\",\"issued\",\"breath\",\"award\",\"llc\",\"legends\",\"mood\",\"influenced\",\"proteins\",\"holy\",\"performed\",\"pee\",\"blocks\",\"molecule\",\"interests\",\"imei\",\"requires\",\"cisco\",\"moves\",\"marrying\",\"mca\",\"perfectly\",\"iisc\",\"corporation\",\"shiva\",\"viruses\",\"difficulty\",\"50000\",\"volte\",\"shampoo\",\"secular\",\"transplant\",\"ghz\",\"ahead\",\"crew\",\"interact\",\"depend\",\"hawaii\",\"hiv\",\"evening\",\"vegetable\",\"revenge\",\"suppose\",\"busy\",\"label\",\"rogue\",\"rational\",\"hillstation\",\"brains\",\"urdu\",\"imagine\",\"salaries\",\"survey\",\"g4\",\"butt\",\"manufacturers\",\"saas\",\"residency\",\"recommendation\",\"purple\",\"fault\",\"aadhar\",\"aging\",\"bhopal\",\"conducted\",\"loses\",\"infection\",\"forest\",\"impacts\",\"collection\",\"fridge\",\"diamond\",\"mis\",\"recorded\",\"march\",\"conditioner\",\"signature\",\"listed\",\"branches\",\"manchester\",\"wanting\",\"perception\",\"absolutely\",\"servers\",\"soluble\",\"swami\",\"lumia\",\"directors\",\"52\",\"2008\",\"gaining\",\"stereotypes\",\"homes\",\"vegas\",\"jam\",\"behave\",\"relatively\",\"forum\",\"ib\",\"earphones\",\"facilities\",\"april\",\"finally\",\"tail\",\"capacitor\",\"tiger\",\"deaf\",\"deliver\",\"django\",\"expand\",\"skip\",\"nearly\",\"maybe\",\"task\",\"gateway\",\"strangest\",\"abstract\",\"adding\",\"suck\",\"tim\",\"printed\",\"sigma\",\"immigrate\",\"decline\",\"arrested\",\"95\",\"narcissistic\",\"freelancing\",\"patterns\",\"expired\",\"casual\",\"tablets\",\"patients\",\"lean\",\"pieces\",\"laymans\",\"whatever\",\"polish\",\"lemon\",\"abortion\",\"i3\",\"theorem\",\"h\",\"compulsory\",\"helped\",\"sons\",\"feminism\",\"compiler\",\"tested\",\"enhance\",\"adhd\",\"manhattan\",\"iii\",\"nail\",\"eee\",\"deals\",\"excellent\",\"ipo\",\"folder\",\"sand\",\"continuous\",\"capable\",\"libraries\",\"aggregate\",\"64\",\"bsnl\",\"profiles\",\"spirit\",\"pulled\",\"owns\",\"deloitte\",\"therapist\",\"acts\",\"millions\",\"authors\",\"marathi\",\"dvd\",\"coconut\",\"swiss\",\"interaction\",\"ncr\",\"kannada\",\"smallest\",\"advisable\",\"smartest\",\"sorry\",\"normally\",\"ends\",\"rome\",\"spectrum\",\"cousin\",\"75\",\"suzuki\",\"nights\",\"cap\",\"enable\",\"counselling\",\"proxy\",\"margin\",\"shops\",\"hackers\",\"tatkal\",\"opened\",\"cinema\",\"consumption\",\"coal\",\"silent\",\"choosing\",\"introduction\",\"electromagnetic\",\"hcl\",\"complaint\",\"puppies\",\"vc\",\"symbols\",\"lenses\",\"username\",\"arrow\",\"adopted\",\"affects\",\"sudden\",\"pcm\",\"gel\",\"affair\",\"pinterest\",\"statements\",\"supplements\",\"justified\",\"turns\",\"santa\",\"shoe\",\"trek\",\"headphone\",\"girlfriends\",\"verizon\",\"rocket\",\"conference\",\"ego\",\"srm\",\"afghanistan\",\"nucleus\",\"generated\",\"chinas\",\"ww1\",\"consultancy\",\"socially\",\"allen\",\"berkeley\",\"missed\",\"crying\",\"introduced\",\"ps3\",\"flour\",\"brought\",\"elder\",\"minecraft\",\"9th\",\"freelancer\",\"circles\",\"scars\",\"entertainment\",\"turbine\",\"deeply\",\"rom\",\"evolved\",\"nato\",\"strengths\",\"ide\",\"tweets\",\"scholarships\",\"mentor\",\"collect\",\"hdfc\",\"mandarin\",\"solo\",\"terrible\",\"influential\",\"professionals\",\"65\",\"recognition\",\"nvidia\",\"cia\",\"designs\",\"10k\",\"creation\",\"tom\",\"rated\",\"introverts\",\"boiling\",\"communism\",\"treaty\",\"whereas\",\"thanks\",\"cigarette\",\"bengaluru\",\"oneplus\",\"reserve\",\"advertise\",\"nits\",\"helping\",\"bruce\",\"mp3\",\"severe\",\"proposal\",\"cultures\",\"tap\",\"animated\",\"planes\",\"hall\",\"cognitive\",\"supports\",\"keys\",\"gotten\",\"feedback\",\"recording\",\"proceed\",\"membership\",\"console\",\"overseas\",\"hows\",\"william\",\"billionaires\",\"updated\",\"pre\",\"organizations\",\"messi\",\"unexpected\",\"nitrogen\",\"hungry\",\"nigeria\",\"sync\",\"arduino\",\"gross\",\"outer\",\"searching\",\"workers\",\"outlook\",\"europeans\",\"founder\",\"lectures\",\"legitimate\",\"camp\",\"ordinary\",\"investments\",\"bone\",\"raising\",\"quite\",\"ages\",\"joint\",\"johnson\",\"destination\",\"concerned\",\"belief\",\"refrigerator\",\"implications\",\"manga\",\"mandatory\",\"obamas\",\"lawyers\",\"bedroom\",\"icon\",\"qualifications\",\"qa\",\"bikes\",\"boston\",\"holding\",\"session\",\"appointment\",\"weaknesses\",\"iphones\",\"motorcycle\",\"schizophrenia\",\"5th\",\"intellectual\",\"eaten\",\"attending\",\"medals\",\"adsense\",\"nda\",\"6th\",\"kali\",\"georgia\",\"wechat\",\"earlier\",\"drone\",\"truck\",\"horse\",\"merchant\",\"torque\",\"seed\",\"backend\",\"holmes\",\"graduating\",\"400\",\"bones\",\"sufficient\",\"participate\",\"rifle\",\"shock\",\"downloaded\",\"earthquake\",\"breasts\",\"secretary\",\"insert\",\"damaged\",\"massive\",\"standing\",\"remainder\",\"programme\",\"holocaust\",\"totally\",\"belt\",\"affairs\",\"nokia\",\"mechanism\",\"pin\",\"scan\",\"fought\",\"superpower\",\"poetry\",\"signals\",\"educated\",\"scariest\",\"trains\",\"closer\",\"weapon\",\"icici\",\"serial\",\"bicycle\",\"terminal\",\"finished\",\"stolen\",\"inspiring\",\"cuisine\",\"spark\",\"sounds\",\"pricing\",\"click\",\"underwear\",\"kidney\",\"bengal\",\"invention\",\"discount\",\"chase\",\"evaluate\",\"distributed\",\"themes\",\"amd\",\"stem\",\"st\",\"genre\",\"vegetables\",\"council\",\"bihar\",\"thick\",\"mouse\",\"worry\",\"newly\",\"updates\",\"candy\",\"prepaid\",\"wet\",\"rap\",\"motors\",\"implemented\",\"theoretical\",\"fabric\",\"mexican\",\"portfolio\",\"technique\",\"icse\",\"expansion\",\"evolutionary\",\"justify\",\"trick\",\"attached\",\"lightning\",\"pitch\",\"armed\",\"einstein\",\"conversion\",\"iitjee\",\"declared\",\"admit\",\"acquisition\",\"innovation\",\"runs\",\"wwe\",\"trial\",\"memories\",\"refuse\",\"netherlands\",\"committed\",\"fraud\",\"jailbreak\",\"settle\",\"badly\",\"approved\",\"eligibility\",\"trend\",\"increases\",\"comic\",\"quorans\",\"cellular\",\"matches\",\"receiving\",\"bmw\",\"vlsi\",\"signed\",\"lakes\",\"350\",\"communications\",\"pork\",\"joined\",\"anyway\",\"differentiate\",\"actresses\",\"29\",\"ethics\",\"premier\",\"hearing\",\"vehicles\",\"drama\",\"instant\",\"lips\",\"dates\",\"july\",\"holiday\",\"coach\",\"malayalam\",\"superior\",\"soviet\",\"plate\",\"throw\",\"worship\",\"bars\",\"sharma\",\"mothers\",\"integrated\",\"clubs\",\"bug\",\"melbourne\",\"co\",\"bisexual\",\"regions\",\"lesson\",\"heads\",\"reader\",\"snake\",\"qualify\",\"paul\",\"causing\",\"disappear\",\"era\",\"lets\",\"qualified\",\"spiritual\",\"wolf\",\"requirement\",\"journalism\",\"studied\",\"lowest\",\"vader\",\"coursera\",\"stark\",\"configuration\",\"verbal\",\"undergrad\",\"dimensions\",\"transition\",\"efficiently\",\"interstellar\",\"locked\",\"summary\",\"chandigarh\",\"ghosts\",\"included\",\"operate\",\"dimension\",\"mount\",\"noticed\",\"rating\",\"somewhere\",\"martin\",\"bra\",\"bird\",\"zuckerberg\",\"sensor\",\"audience\",\"dirty\",\"starbucks\",\"permission\",\"residential\",\"wholesale\",\"assets\",\"clearly\",\"km\",\"invade\",\"ipcc\",\"fb\",\"shell\",\"shave\",\"loud\",\"tip\",\"seeds\",\"sets\",\"polar\",\"although\",\"june\",\"judaism\",\"anti\",\"instrument\",\"seven\",\"shooting\",\"j\",\"portal\",\"tower\",\"github\",\"linked\",\"admitted\",\"punishment\",\"mid\",\"micro\",\"cured\",\"lifestyle\",\"nor\",\"upset\",\"challenge\",\"soap\",\"standards\",\"integration\",\"lottery\",\"lab\",\"williams\",\"odd\",\"soil\",\"sensitive\",\"route\",\"tattoos\",\"coin\",\"declare\",\"frame\",\"differential\",\"bowl\",\"softwares\",\"notifications\",\"maintenance\",\"inner\",\"apples\",\"converted\",\"recruiter\",\"bombay\",\"command\",\"posting\",\"controlled\",\"balls\",\"personally\",\"poker\",\"extract\",\"hired\",\"bugs\",\"providers\",\"loans\",\"calculator\",\"attractions\",\"torrents\",\"keywords\",\"profession\",\"blogging\",\"transport\",\"sue\",\"anonymously\",\"compounds\",\"robot\",\"buddhism\",\"sweet\",\"defense\",\"nobody\",\"uc\",\"defined\",\"division\",\"bags\",\"epic\",\"unhealthy\",\"craziest\",\"urban\",\"combination\",\"pair\",\"laugh\",\"cv\",\"usd\",\"launched\",\"usps\",\"visited\",\"nexus\",\"regularly\",\"brothers\",\"broker\",\"concentrate\",\"agreement\",\"nervous\",\"frozen\",\"detail\",\"sir\",\"situations\",\"borderline\",\"angularjs\",\"abusive\",\"tourism\",\"relate\",\"august\",\"communist\",\"accountant\",\"dumb\",\"arab\",\"b2b\",\"du\",\"thermal\",\"asians\",\"threat\",\"karma\",\"passive\",\"homosexuality\",\"putting\",\"quantitative\",\"relativity\",\"sanskrit\",\"opinions\",\"verify\",\"bear\",\"roll\",\"expanding\",\"teenage\",\"jeans\",\"providing\",\"shared\",\"extreme\",\"mi\",\"vr\",\"progress\",\"greece\",\"cpu\",\"ips\",\"merge\",\"reputation\",\"loving\",\"salman\",\"iss\",\"warm\",\"dental\",\"extension\",\"attraction\",\"fictional\",\"journal\",\"login\",\"secondary\",\"recognize\",\"southern\",\"ph\",\"lunch\",\"wallet\",\"ronaldo\",\"larger\",\"actions\",\"fathers\",\"adopt\",\"claims\",\"bottom\",\"therapy\",\"patient\",\"described\",\"virginity\",\"functional\",\"ionic\",\"chartered\",\"discover\",\"55\",\"21st\",\"biased\",\"mad\",\"northern\",\"onto\",\"liberals\",\"premium\",\"neutral\",\"detect\",\"diagram\",\"sperm\",\"ga\",\"bleach\",\"spread\",\"contributions\",\"activate\",\"prior\",\"safest\",\"holder\",\"360\",\"aim\",\"rental\",\"families\",\"everybody\",\"shut\",\"payments\",\"150\",\"cube\",\"vegan\",\"newspaper\",\"beef\",\"houses\",\"preferred\",\"simultaneously\",\"marked\",\"reactions\",\"emergency\",\"protection\",\"cab\",\"forex\",\"norway\",\"immigrants\",\"googles\",\"ssb\",\"wing\",\"yrs\",\"ensure\",\"spy\",\"reasoning\",\"strange\",\"forgive\",\"turkish\",\"tag\",\"ranking\",\"platforms\",\"fox\",\"existed\",\"walmart\",\"lazy\",\"ears\",\"clock\",\"beam\",\"rare\",\"bush\",\"2011\",\"stops\",\"batteries\",\"certified\",\"naked\",\"worldwide\",\"staying\",\"lifetime\",\"ted\",\"lake\",\"wealthy\",\"transit\",\"stephen\",\"rural\",\"versa\",\"pets\",\"commonly\",\"adults\",\"ultimate\",\"genius\",\"vinegar\",\"allows\",\"aid\",\"retirement\",\"airtel\",\"sciences\",\"mountain\",\"drinks\",\"tour\",\"wind\",\"seattle\",\"disabled\",\"bodies\",\"lesbian\",\"governments\",\"kinetic\",\"tumblr\",\"absolute\",\"author\",\"toilet\",\"whey\",\"sleepy\",\"molecular\",\"watches\",\"inventions\",\"rain\",\"34\",\"angular\",\"o\",\"dish\",\"however\",\"agents\",\"abs\",\"switzerland\",\"transformer\",\"clearing\",\"consciousness\",\"broadband\",\"uae\",\"automatic\",\"opposed\",\"geography\",\"astronauts\",\"decisions\",\"cement\",\"induction\",\"luxury\",\"upvotes\",\"politicians\",\"posted\",\"toefl\",\"kitchen\",\"noise\",\"radius\",\"dye\",\"miles\",\"risks\",\"scientifically\",\"mnc\",\"propose\",\"prepared\",\"iiit\",\"mention\",\"equipment\",\"darth\",\"january\",\"surname\",\"raised\",\"attitude\",\"gta\",\"david\",\"hike\",\"awkward\",\"proven\",\"productive\",\"lg\",\"filled\",\"atmosphere\",\"lee\",\"irctc\",\"addicted\",\"dynamic\",\"employment\",\"weekend\",\"replacement\",\"singing\",\"owners\",\"bipolar\",\"tomorrow\",\"poems\",\"default\",\"kvpy\",\"sauce\",\"competitors\",\"russians\",\"sample\",\"crimes\",\"hang\",\"inspired\",\"furniture\",\"throughout\",\"presence\",\"efficiency\",\"leg\",\"biological\",\"pilani\",\"conversations\",\"inspirational\",\"bachelor\",\"centers\",\"withdraw\",\"fundamental\",\"comparison\",\"november\",\"fifa\",\"penalty\",\"algebra\",\"joke\",\"htc\",\"pilots\",\"collapse\",\"texts\",\"vocabulary\",\"moved\",\"sc\",\"smile\",\"october\",\"dot\",\"genetic\",\"architect\",\"url\",\"51\",\"sore\",\"uniform\",\"re\",\"rails\",\"smaller\",\"marine\",\"terrorists\",\"nazi\",\"breast\",\"politician\",\"subtitles\",\"chosen\",\"egypt\",\"thin\",\"packages\",\"editor\",\"bands\",\"mythology\",\"reasonable\",\"permit\",\"acceptable\",\"seriously\",\"iraq\",\"fever\",\"visitor\",\"honest\",\"friction\",\"offering\",\"smarter\",\"ahmedabad\",\"replaced\",\"resolution\",\"burning\",\"bridge\",\"catholic\",\"calendar\",\"resident\",\"policies\",\"forced\",\"leading\",\"arm\",\"deserve\",\"context\",\"coolest\",\"arranged\",\"arizona\",\"comics\",\"harm\",\"democrats\",\"jail\",\"breed\",\"anywhere\",\"psu\",\"christ\",\"violence\",\"agriculture\",\"objective\",\"moments\",\"infinity\",\"supporting\",\"critical\",\"trees\",\"beyond\",\"bag\",\"vitamin\",\"assembly\",\"solved\",\"array\",\"perspective\",\"pas\",\"wwii\",\"skinny\",\"contains\",\"lift\",\"cleaning\",\"peter\",\"aap\",\"pimples\",\"initial\",\"lesserknown\",\"sights\",\"principles\",\"realize\",\"millionaire\",\"faux\",\"orbit\",\"desire\",\"hi\",\"prophet\",\"suits\",\"careers\",\"thinks\",\"quantity\",\"spots\",\"wage\",\"asleep\",\"sociology\",\"guard\",\"units\",\"structural\",\"operation\",\"pants\",\"w\",\"bulk\",\"possibly\",\"drunk\",\"fired\",\"accident\",\"inch\",\"bottle\",\"aerospace\",\"narcissist\",\"ux\",\"angeles\",\"wood\",\"index\",\"safely\",\"robotics\",\"edition\",\"metals\",\"practices\",\"scheme\",\"interior\",\"diabetes\",\"nobel\",\"youth\",\"lived\",\"september\",\"chief\",\"proposed\",\"assuming\",\"sin\",\"counter\",\"disable\",\"introduce\",\"restore\",\"swimming\",\"intern\",\"answering\",\"mentioned\",\"crash\",\"laser\",\"teenagers\",\"presentation\",\"quran\",\"classified\",\"demonetisation\",\"communicate\",\"cotton\",\"autism\",\"anger\",\"environmental\",\"stable\",\"7th\",\"bread\",\"invited\",\"wisdom\",\"wrote\",\"widely\",\"minor\",\"formal\",\"dreaming\",\"managers\",\"escape\",\"pollution\",\"taiwan\",\"verification\",\"los\",\"figures\",\"26\",\"illness\",\"sides\",\"compatible\",\"pack\",\"conspiracy\",\"hedge\",\"flights\",\"dropped\",\"former\",\"suffer\",\"aware\",\"designers\",\"mahabharata\",\"evolve\",\"weigh\",\"dies\",\"fruits\",\"cc\",\"butter\",\"sharing\",\"atoms\",\"tongue\",\"transaction\",\"poverty\",\"suffering\",\"presidents\",\"resistance\",\"adam\",\"civilization\",\"mining\",\"toronto\",\"stick\",\"increased\",\"wild\",\"freelance\",\"removal\",\"aws\",\"rio\",\"principle\",\"asus\",\"cute\",\"consumer\",\"pool\",\"variable\",\"tutorials\",\"advance\",\"keeping\",\"visible\",\"cognizant\",\"equations\",\"rooms\",\"krishna\",\"printer\",\"tooth\",\"mentally\",\"realistic\",\"automobile\",\"cake\",\"tie\",\"beach\",\"ghost\",\"comfortable\",\"mysql\",\"oral\",\"closed\",\"helps\",\"maharashtra\",\"admissions\",\"i5\",\"partners\",\"axis\",\"beliefs\",\"neck\",\"clans\",\"hidden\",\"cyber\",\"voting\",\"bacteria\",\"layer\",\"chhattisgarh\",\"5000\",\"sitting\",\"murder\",\"argument\",\"f\",\"privacy\",\"syndrome\",\"2010\",\"bite\",\"vacation\",\"isro\",\"trouble\",\"records\",\"answered\",\"digit\",\"defeat\",\"childhood\",\"5s\",\"gates\",\"f1\",\"town\",\"anal\",\"copper\",\"talks\",\"affiliate\",\"sociopath\",\"installed\",\"static\",\"copyright\",\"animation\",\"donate\",\"stranger\",\"bcom\",\"destroyed\",\"gujarat\",\"foundation\",\"prize\",\"components\",\"foreigner\",\"arms\",\"unlimited\",\"needing\",\"settings\",\"item\",\"eve\",\"competition\",\"landing\",\"beard\",\"patent\",\"ending\",\"2020\",\"incident\",\"petroleum\",\"florida\",\"particularly\",\"ups\",\"generator\",\"leather\",\"heal\",\"experiment\",\"28\",\"passing\",\"talent\",\"remote\",\"300\",\"published\",\"impossible\",\"steam\",\"80\",\"washing\",\"guilty\",\"punjab\",\"70\",\"album\",\"bullet\",\"paris\",\"interface\",\"agencies\",\"mission\",\"digits\",\"modis\",\"recruitment\",\"manipal\",\"telling\",\"meal\",\"orange\",\"stone\",\"links\",\"ab\",\"upper\",\"cameras\",\"p\",\"combat\",\"passion\",\"shower\",\"thailand\",\"beings\",\"grad\",\"27\",\"finger\",\"jump\",\"lights\",\"ui\",\"bba\",\"sweden\",\"arrive\",\"4th\",\"amendment\",\"window\",\"satellite\",\"al\",\"matlab\",\"jokes\",\"muhammad\",\"expression\",\"booking\",\"dinner\",\"skype\",\"lots\",\"2018\",\"teen\",\"finish\",\"dslr\",\"mens\",\"proud\",\"entrepreneurs\",\"ukraine\",\"coins\",\"scenario\",\"transmission\",\"ignore\",\"pride\",\"contribute\",\"grand\",\"curve\",\"false\",\"operations\",\"breakup\",\"eventually\",\"acquire\",\"commission\",\"lies\",\"spoken\",\"pills\",\"masturbating\",\"jackson\",\"airbnb\",\"delivered\",\"disk\",\"radiation\",\"plays\",\"marvel\",\"particle\",\"breakfast\",\"smartphones\",\"relevant\",\"quota\",\"refund\",\"inches\",\"telugu\",\"angel\",\"eastern\",\"inflation\",\"predict\",\"annoying\",\"obc\",\"tough\",\"conduct\",\"originate\",\"notification\",\"backup\",\"harder\",\"richest\",\"pronounce\",\"sri\",\"wheel\",\"wasnt\",\"oldest\",\"sheet\",\"soda\",\"20s\",\"wipro\",\"awesome\",\"facial\",\"z\",\"noida\",\"confident\",\"fbi\",\"corrupt\",\"succeed\",\"reddit\",\"associate\",\"input\",\"guns\",\"rahul\",\"baking\",\"description\",\"musical\",\"apache\",\"nowadays\",\"fluid\",\"capacity\",\"loose\",\"freshman\",\"cfa\",\"optional\",\"theres\",\"ps4\",\"trends\",\"jon\",\"richard\",\"legit\",\"nodejs\",\"document\",\"sexually\",\"particles\",\"singer\",\"printing\",\"captain\",\"valuable\",\"several\",\"aiims\",\"boot\",\"sit\",\"zone\",\"billionaire\",\"floor\",\"gravitational\",\"export\",\"motivation\",\"golden\",\"transgender\",\"healthcare\",\"heaven\",\"81\",\"leaves\",\"listening\",\"overall\",\"press\",\"dishes\",\"railways\",\"warming\",\"enfield\",\"extent\",\"acceleration\",\"afford\",\"bonds\",\"border\",\"registration\",\"cast\",\"hope\",\"shipping\",\"karnataka\",\"specifically\",\"opportunity\",\"arabia\",\"pump\",\"pg\",\"carrier\",\"plot\",\"kingdom\",\"contract\",\"painful\",\"kindle\",\"boring\",\"essential\",\"disney\",\"charger\",\"seconds\",\"measured\",\"honda\",\"ba\",\"makeup\",\"\\u2013\",\"mini\",\"annual\",\"traits\",\"retrieve\",\"willing\",\"swift\",\"consume\",\"hindus\",\"psychopath\",\"tells\",\"solving\",\"conditions\",\"artists\",\"spotify\",\"bomb\",\"integrate\",\"stuck\",\"nikon\",\"gadgets\",\"womens\",\"judge\",\"republicans\",\"vacuum\",\"felt\",\"putin\",\"tennis\",\"concentration\",\"fans\",\"constantly\",\"matrix\",\"secrets\",\"spot\",\"soft\",\"stored\",\"neural\",\"submit\",\"scores\",\"ola\",\"wire\",\"gdp\",\"jaipur\",\"typically\",\"airline\",\"roles\",\"cheaper\",\"machines\",\"shift\",\"impress\",\"basics\",\"32\",\"conservative\",\"birds\",\"tend\",\"duty\",\"setup\",\"rude\",\"pink\",\"church\",\"mine\",\"jack\",\"sending\",\"cooking\",\"versus\",\"expert\",\"olympic\",\"biotechnology\",\"gurgaon\",\"worked\",\"codes\",\"successfully\",\"hardware\",\"faith\",\"pr\",\"television\",\"compound\",\"vit\",\"universal\",\"thank\",\"grammatically\",\"chicago\",\"ivy\",\"worried\",\"enterprise\",\"sodium\",\"railway\",\"remedies\",\"racism\",\"tracking\",\"psychological\",\"apartment\",\"magazine\",\"martial\",\"beauty\",\"waiting\",\"attacks\",\"horror\",\"fantasy\",\"ma\",\"select\",\"increasing\",\"metro\",\"opt\",\"map\",\"watched\",\"gear\",\"icloud\",\"james\",\"comedy\",\"lollipop\",\"ireland\",\"upcoming\",\"italian\",\"oven\",\"emotionally\",\"decided\",\"lakh\",\"grey\",\"kept\",\"produced\",\"mouth\",\"manual\",\"dhoni\",\"fill\",\"throat\",\"shoot\",\"liked\",\"innovative\",\"immediately\",\"lonely\",\"fighting\",\"max\",\"accidentally\",\"schedule\",\"orgasm\",\"rape\",\"ride\",\"muscles\",\"graduates\",\"taller\",\"boost\",\"lakhs\",\"microwave\",\"electrons\",\"upon\",\"attract\",\"ap\",\"abuse\",\"earths\",\"forever\",\"underrated\",\"facing\",\"terrorist\",\"alien\",\"celebrity\",\"frequently\",\"vpn\",\"wales\",\"powder\",\"superman\",\"mixed\",\"caught\",\"goods\",\"beginning\",\"starts\",\"atomic\",\"associated\",\"triangle\",\"parties\",\"banning\",\"k\",\"honey\",\"monitor\",\"graph\",\"leaders\",\"embedded\",\"juice\",\"split\",\"lady\",\"sequence\",\"911\",\"harassment\",\"nepal\",\"pop\",\"habit\",\"setting\",\"edge\",\"ww2\",\"gps\",\"federal\",\"charged\",\"lying\",\"empty\",\"whenever\",\"airplane\",\"jet\",\"destroy\",\"ies\",\"wouldnt\",\"quick\",\"decrease\",\"robert\",\"pradesh\",\"professors\",\"massage\",\"held\",\"spending\",\"markets\",\"objects\",\"chart\",\"mechanics\",\"silver\",\"usage\",\"basketball\",\"gen\",\"periods\",\"identity\",\"individuals\",\"css\",\"soul\",\"ipod\",\"chest\",\"understanding\",\"coast\",\"classic\",\"spain\",\"babies\",\"sd\",\"hostel\",\"shirt\",\"further\",\"logical\",\"franchise\",\"obtain\",\"foreigners\",\"fully\",\"region\",\"designed\",\"cheated\",\"beneficial\",\"shes\",\"accent\",\"couldnt\",\"queen\",\"sick\",\"blowing\",\"properly\",\"stronger\",\"returns\",\"condition\",\"musk\",\"ugly\",\"teams\",\"filter\",\"snow\",\"glasses\",\"employer\",\"solid\",\"followed\",\"embarrassing\",\"auto\",\"meeting\",\"belong\",\"strike\",\"internships\",\"bachelors\",\"administration\",\"temple\",\"wealth\",\"retail\",\"speakers\",\"electoral\",\"headphones\",\"streaming\",\"mirror\",\"diesel\",\"republic\",\"antivirus\",\"customers\",\"atm\",\"vagina\",\"cigarettes\",\"aptitude\",\"lewis\",\"saudi\",\"puppy\",\"recovery\",\"jimmy\",\"obsessed\",\"domestic\",\"pen\",\"batch\",\"de\",\"drawing\",\"ai\",\"medium\",\"simply\",\"photoshop\",\"sms\",\"turning\",\"nadu\",\"appropriate\",\"adobe\",\"substitute\",\"fruit\",\"recipes\",\"fighter\",\"saving\",\"greater\",\"cheat\",\"routine\",\"push\",\"sherlock\",\"arguments\",\"sony\",\"import\",\"soldiers\",\"charges\",\"emotions\",\"ibm\",\"un\",\"innovations\",\"itunes\",\"consultant\",\"iims\",\"relations\",\"psychopaths\",\"existing\",\"angle\",\"clash\",\"bus\",\"australian\",\"crazy\",\"pull\",\"theories\",\"savings\",\"suit\",\"contrast\",\"calculus\",\"pi\",\"credits\",\"bluetooth\",\"himself\",\"traveling\",\"criminal\",\"xiaomi\",\"zealand\",\"seats\",\"electron\",\"script\",\"11th\",\"lessons\",\"programmers\",\"december\",\"flag\",\"singh\",\"arabic\",\"sale\",\"nfl\",\"grammar\",\"killing\",\"virgin\",\"differently\",\"poem\",\"provided\",\"automation\",\"shy\",\"translation\",\"mathematical\",\"45\",\"celebrities\",\"spring\",\"downloading\",\"dr\",\"organization\",\"majority\",\"clients\",\"hd\",\"motivate\",\"thats\",\"thesis\",\"door\",\"weakest\",\"saw\",\"canon\",\"younger\",\"costs\",\"river\",\"rings\",\"factory\",\"decent\",\"clintons\",\"holes\",\"desert\",\"divorce\",\"sold\",\"cheese\",\"atom\",\"taught\",\"minute\",\"ocean\",\"crisis\",\"represent\",\"surgical\",\"parent\",\"brexit\",\"possibility\",\"longest\",\"edit\",\"scholarship\",\"motivated\",\"chocolate\",\"faced\",\"90\",\"parallel\",\"foot\",\"examination\",\"friendly\",\"kinds\",\"wins\",\"islamic\",\"degrees\",\"registered\",\"distribution\",\"junior\",\"gave\",\"sing\",\"articles\",\"hadoop\",\"saved\",\"hero\",\"ear\",\"asks\",\"improved\",\"teenager\",\"forms\",\"wash\",\"provides\",\"washington\",\"strikes\",\"binary\",\"syria\",\"indonesia\",\"powers\",\"highly\",\"heshe\",\"happiness\",\"director\",\"citizenship\",\"knew\",\"humanity\",\"translate\",\"nba\",\"permanently\",\"soccer\",\"todays\",\"challenges\",\"barack\",\"title\",\"latin\",\"fitness\",\"genuine\",\"investor\",\"dislike\",\"scenes\",\"hacker\",\"bangladesh\",\"ebay\",\"earning\",\"dell\",\"paytm\",\"spouse\",\"bored\",\"roman\",\"official\",\"dragon\",\"park\",\"except\",\"habits\",\"quote\",\"astrology\",\"congress\",\"automatically\",\"island\",\"religions\",\"christianity\",\"supreme\",\"owner\",\"hell\",\"wikipedia\",\"cancel\",\"industries\",\"actress\",\"client\",\"visual\",\"michael\",\"remain\",\"ability\",\"concrete\",\"conflict\",\"string\",\"linear\",\"supposed\",\"engines\",\"2012\",\"\\u2018\",\"lesser\",\"traditional\",\"episodes\",\"goals\",\"tata\",\"opening\",\"target\",\"weak\",\"anonymous\",\"bjp\",\"resource\",\"concepts\",\"ruby\",\"friendship\",\"nyc\",\"pretty\",\"implement\",\"painting\",\"ill\",\"agency\",\"reverse\",\"confused\",\"italy\",\"response\",\"yellow\",\"dance\",\"contain\",\"vice\",\"editing\",\"acting\",\"weirdest\",\"feels\",\"govt\",\"accounting\",\"rise\",\"wise\",\"leaving\",\"lens\",\"artist\",\"arvind\",\"pattern\",\"scared\",\"attention\",\"airlines\",\"sky\",\"malaysia\",\"port\",\"attempt\",\"element\",\"classical\",\"shown\",\"safety\",\"including\",\"tablet\",\"la\",\"terrorism\",\"commit\",\"maps\",\"african\",\"viewed\",\"calling\",\"6s\",\"agent\",\"output\",\"justice\",\"don\",\"addiction\",\"lock\",\"vegetarian\",\"britain\",\"percent\",\"meditation\",\"ibps\",\"monthly\",\"writers\",\"forward\",\"stuff\",\"mr\",\"ready\",\"forgot\",\"flying\",\"recommended\",\"fields\",\"blind\",\"l\",\"hinduism\",\"desktop\",\"host\",\"tattoo\",\"maintain\",\"boards\",\"helpful\",\"semester\",\"load\",\"tier\",\"agree\",\"factor\",\"elon\",\"freshers\",\"sql\",\"cases\",\"exact\",\"confidence\",\"behavior\",\"hacked\",\"quotes\",\"hydrogen\",\"pakistani\",\"masturbate\",\"divided\",\"skill\",\"fine\",\"falling\",\"chess\",\"charging\",\"pages\",\"vector\",\"supporters\",\"waste\",\"sanders\",\"affordable\",\"unlock\",\"techniques\",\"wine\",\"keyboard\",\"cm\",\"wireless\",\"lawyer\",\"egg\",\"cope\",\"mindblowing\",\"recipe\",\"corruption\",\"scored\",\"secure\",\"teaching\",\"opposite\",\"educational\",\"bernie\",\"y\",\"library\",\"models\",\"kid\",\"stack\",\"separate\",\"19\",\"extremely\",\"properties\",\"cable\",\"magic\",\"removed\",\"computing\",\"hospital\",\"beer\",\"christians\",\"twice\",\"kg\",\"consulting\",\"whose\",\"serious\",\"petrol\",\"travelling\",\"revolution\",\"custom\",\"structures\",\"guide\",\"celebrate\",\"lenovo\",\"turned\",\"ielts\",\"grades\",\"fuel\",\"relative\",\"oracle\",\"academy\",\"lack\",\"passed\",\"relation\",\"values\",\"movement\",\"strategies\",\"eu\",\"emotional\",\"legs\",\"pokemon\",\"3g\",\"iran\",\"mostly\",\"jewish\",\"offered\",\"log\",\"hasnt\",\"explanation\",\"signal\",\"stores\",\"syllabus\",\"bits\",\"yoga\",\"weapons\",\"gods\",\"10000\",\"delivery\",\"gb\",\"sum\",\"letters\",\"venture\",\"selection\",\"winning\",\"35\",\"comment\",\"consequences\",\"sport\",\"items\",\"seems\",\"ring\",\"jealous\",\"laptops\",\"criteria\",\"fresh\",\"reference\",\"bitcoin\",\"infinite\",\"perform\",\"brazil\",\"density\",\"plans\",\"hosting\",\"clothing\",\"hong\",\"dying\",\"heavy\",\"steve\",\"gone\",\"damage\",\"missing\",\"ethical\",\"republican\",\"contacts\",\"activity\",\"electronic\",\"qualities\",\"piano\",\"hisher\",\"repair\",\"posts\",\"disease\",\"winter\",\"ten\",\"publish\",\"paint\",\"physically\",\"executive\",\"deposit\",\"elements\",\"xbox\",\"ceo\",\"visitors\",\"discovered\",\"tickets\",\"literature\",\"primary\",\"naturally\",\"senior\",\"u\",\"hardest\",\"debate\",\"frequency\",\"vietnam\",\"cry\",\"assistant\",\"gifts\",\"practical\",\"funny\",\"valid\",\"liberal\",\"refer\",\"beat\",\"shape\",\"institutes\",\"msc\",\"internal\",\"located\",\"significant\",\"scientists\",\"g\",\"ship\",\"proper\",\"independence\",\"added\",\"hes\",\"catch\",\"urine\",\"effectively\",\"named\",\"responsible\",\"strength\",\"whos\",\"immigration\",\"vehicle\",\"tesla\",\"kong\",\"meth\",\"england\",\"huge\",\"pizza\",\"rejected\",\"george\",\"fan\",\"salt\",\"browser\",\"sat\",\"loved\",\"fees\",\"walking\",\"symbol\",\"equity\",\"ubuntu\",\"alternatives\",\"theme\",\"virus\",\"manufacturing\",\"cutoff\",\"pure\",\"22\",\"introvert\",\"unable\",\"greek\",\"rice\",\"gst\",\"happening\",\"centre\",\"kiss\",\"prison\",\"bigger\",\"font\",\"construction\",\"exercises\",\"keeps\",\"gmat\",\"offers\",\"cross\",\"nasa\",\"unit\",\"advertising\",\"cup\",\"fixed\",\"limited\",\"billion\",\"subjects\",\"arts\",\"worlds\",\"stupid\",\"breaking\",\"funding\",\"tank\",\"generate\",\"efficient\",\"exists\",\"atheist\",\"entrepreneur\",\"direction\",\"broken\",\"offline\",\"firms\",\"station\",\"magnetic\",\"include\",\"aliens\",\"tinder\",\"logo\",\"photography\",\"worse\",\"besides\",\"path\",\"somebody\",\"interviews\",\"persons\",\"figure\",\"placed\",\"nation\",\"knows\",\"unmarried\",\"hp\",\"profitable\",\"tricks\",\"boss\",\"reply\",\"scam\",\"circle\",\"processor\",\"debt\",\"growing\",\"royal\",\"fiction\",\"department\",\"mistake\",\"weird\",\"graphics\",\"external\",\"article\",\"volume\",\"scratch\",\"chain\",\"protect\",\"storage\",\"texas\",\"liquid\",\"circuit\",\"graphic\",\"tired\",\"weather\",\"oxygen\",\"velocity\",\"dad\",\"band\",\"teachers\",\"drugs\",\"complex\",\"studio\",\"accenture\",\"leader\",\"levels\",\"goal\",\"logic\",\"acne\",\"plastic\",\"motion\",\"button\",\"peoples\",\"vision\",\"gap\",\"dollar\",\"computers\",\"stomach\",\"sources\",\"constant\",\"draw\",\"dress\",\"calculated\",\"sort\",\"3rd\",\"club\",\"channels\",\"creating\",\"candidates\",\"kejriwal\",\"broke\",\"sentences\",\"format\",\"emails\",\"raw\",\"stanford\",\"completed\",\"documents\",\"pan\",\"showing\",\"enter\",\"unknown\",\"bought\",\"router\",\"claim\",\"six\",\"technologies\",\"\\u20b9\",\"flipkart\",\"infosys\",\"mutual\",\"angry\",\"iits\",\"affected\",\"prices\",\"shares\",\"naruto\",\"processing\",\"finding\",\"democratic\",\"evolution\",\"harmful\",\"dual\",\"virtual\",\"member\",\"wave\",\"actual\",\"extra\",\"radio\",\"citizens\",\"e\",\"hr\",\"previous\",\"stopped\",\"walk\",\"redmi\",\"speaker\",\"torrent\",\"smoke\",\"mistakes\",\"flash\",\"iron\",\"entire\",\"individual\",\"express\",\"flow\",\"mode\",\"aircraft\",\"section\",\"planets\",\"10th\",\"respond\",\"easier\",\"evil\",\"percentile\",\"seeing\",\"calories\",\"upgrade\",\"professor\",\"v\",\"launch\",\"staff\",\"till\",\"silicon\",\"entry\",\"constitution\",\"century\",\"notice\",\"ie\",\"atheists\",\"tests\",\"21\",\"became\",\"kerala\",\"truly\",\"count\",\"essay\",\"papers\",\"accurate\",\"colors\",\"respect\",\"ideal\",\"rock\",\"reliance\",\"peace\",\"masturbation\",\"audio\",\"random\",\"independent\",\"colour\",\"hotels\",\"presidency\",\"generation\",\"paypal\",\"shot\",\"central\",\"released\",\"occur\",\"display\",\"industrial\",\"particular\",\"risk\",\"eg\",\"belly\",\"pet\",\"similarities\",\"organic\",\"marijuana\",\"networks\",\"aspects\",\"flat\",\"d\",\"comments\",\"nose\",\"identify\",\"rbi\",\"improvement\",\"directly\",\"framework\",\"suggestions\",\"designing\",\"brands\",\"religious\",\"influence\",\"novels\",\"statistics\",\"historical\",\"ground\",\"commerce\",\"pregnancy\",\"romantic\",\"failure\",\"wearing\",\"john\",\"apart\",\"bay\",\"symptoms\",\"200\",\"couple\",\"60\",\"canadian\",\"lie\",\"print\",\"carry\",\"gender\",\"experienced\",\"pounds\",\"reservation\",\"either\",\"stage\",\"artificial\",\"fit\",\"blogs\",\"developing\",\"environment\",\"learned\",\"copy\",\"phase\",\"bond\",\"democracy\",\"cgpa\",\"operating\",\"surface\",\"officers\",\"h1b\",\"ip\",\"workout\",\"fee\",\"elected\",\"hands\",\"largest\",\"sad\",\"shouldnt\",\"seat\",\"sister\",\"developers\",\"despite\",\"scene\",\"po\",\"diploma\",\"request\",\"empire\",\"ratio\",\"considering\",\"academic\",\"tree\",\"register\",\"advantage\",\"eligible\",\"nit\",\"shop\",\"intel\",\"funniest\",\"alternative\",\"fail\",\"ads\",\"nature\",\"miss\",\"involved\",\"overrated\",\"attend\",\"freedom\",\"dna\",\"beginners\",\"raise\",\"dry\",\"failed\",\"legally\",\"batman\",\"upload\",\"carbon\",\"regret\",\"applied\",\"points\",\"investors\",\"pick\",\"equivalent\",\"connected\",\"christmas\",\"lyrics\",\"nations\",\"caused\",\"bsc\",\"1st\",\"action\",\"activities\",\"biology\",\"hide\",\"asia\",\"takes\",\"require\",\"alive\",\"mom\",\"cycle\",\"generally\",\"campaign\",\"fair\",\"wake\",\"bit\",\"rules\",\"olympics\",\"racist\",\"areas\",\"eggs\",\"feature\",\"sap\",\"taxes\",\"ad\",\"shall\",\"theyre\",\"species\",\"pilot\",\"firm\",\"fish\",\"define\",\"doctors\",\"piece\",\"itself\",\"bang\",\"solutions\",\"iim\",\"2013\",\"wanted\",\"length\",\"burn\",\"waves\",\"bar\",\"gives\",\"forces\",\"christian\",\"anybody\",\"relationships\",\"nice\",\"wedding\",\"various\",\"brother\",\"films\",\"cream\",\"suddenly\",\"philippines\",\"fashion\",\"truth\",\"gpa\",\"cgl\",\"tall\",\"goa\",\"hacking\",\"statement\",\"reset\",\"materials\",\"played\",\"match\",\"usb\",\"novel\",\"unusual\",\"knowing\",\"selected\",\"valley\",\"chrome\",\"couples\",\"becomes\",\"died\",\"cheating\",\"community\",\"groups\",\"category\",\"pursuing\",\"writer\",\"mexico\",\"anymore\",\"sugar\",\"climate\",\"brown\",\"players\",\"ii\",\"reviews\",\"took\",\"led\",\"connection\",\"begin\",\"html\",\"changing\",\"received\",\"plants\",\"debit\",\"record\",\"revenue\",\"mars\",\"strongest\",\"members\",\"formed\",\"union\",\"thought\",\"existence\",\"kashmir\",\"gandhi\",\"pdf\",\"banned\",\"0\",\"plane\",\"treated\",\"electricity\",\"scale\",\"basis\",\"moral\",\"images\",\"methods\",\"certification\",\"voltage\",\"style\",\"base\",\"excel\",\"amazing\",\"regarding\",\"result\",\"rates\",\"hold\",\"indias\",\"airport\",\"businesses\",\"feet\",\"built\",\"linkedin\",\"signs\",\"above\",\"networking\",\"r\",\"shopping\",\"looks\",\"went\",\"placements\",\"bed\",\"experiences\",\"daughter\",\"tourist\",\"employee\",\"caste\",\"wait\",\"direct\",\"especially\",\"feed\",\"continue\",\"expected\",\"algorithm\",\"depressed\",\"shoes\",\"soon\",\"supply\",\"stress\",\"24\",\"inr\",\"foods\",\"rent\",\"architecture\",\"ban\",\"entrance\",\"actors\",\"messenger\",\"unique\",\"kolkata\",\"funds\",\"rupee\",\"promote\",\"rupees\",\"jews\",\"23\",\"cook\",\"cultural\",\"accepted\",\"hear\",\"glass\",\"road\",\"joining\",\"measure\",\"havent\",\"metal\",\"resume\",\"afraid\",\"turkey\",\"meat\",\"goes\",\"installation\",\"netflix\",\"benefit\",\"demand\",\"release\",\"produce\",\"report\",\"cover\",\"changes\",\"double\",\"2nd\",\"reaction\",\"killed\",\"steel\",\"requirements\",\"france\",\"exchange\",\"ac\",\"quantum\",\"reliable\",\"box\",\"results\",\"lives\",\"treatment\",\"4g\",\"ece\",\"probability\",\"sleeping\",\"philosophy\",\"handle\",\"forget\",\"driver\",\"demonetization\",\"algorithms\",\"trade\",\"rule\",\"muscle\",\"calls\",\"tried\",\"mental\",\"sure\",\"quit\",\"navy\",\"achieve\",\"francisco\",\"location\",\"until\",\"sense\",\"anxiety\",\"wordpress\",\"focus\",\"fact\",\"production\",\"conversation\",\"motor\",\"five\",\"attracted\",\"hit\",\"analyst\",\"moto\",\"isis\",\"chicken\",\"sector\",\"permanent\",\"along\",\"king\",\"slow\",\"candidate\",\"minutes\",\"purchase\",\"gun\",\"selling\",\"usually\",\"\\u2026\",\"fly\",\"round\",\"panel\",\"error\",\"stocks\",\"api\",\"remember\",\"africa\",\"paying\",\"hitler\",\"3d\",\"regular\",\"losing\",\"mail\",\"yahoo\",\"cheapest\",\"older\",\"concept\",\"characters\",\"definition\",\"lines\",\"pm\",\"cloud\",\"cats\",\"russian\",\"ipad\",\"korean\",\"proof\",\"battle\",\"stars\",\"stream\",\"recent\",\"typical\",\"performance\",\"harvard\",\"restaurant\",\"origin\",\"listen\",\"smell\",\"decide\",\"serve\",\"undergraduate\",\"profit\",\"situation\",\"surgery\",\"asking\",\"plant\",\"link\",\"square\",\"completing\",\"four\",\"trust\",\"payment\",\"gym\",\"andor\",\"worklife\",\"guitar\",\"elections\",\"half\",\"investing\",\"scientist\",\"street\",\"needs\",\"native\",\"thoughts\",\"reality\",\"40\",\"medicine\",\"race\",\"choice\",\"longer\",\"came\",\"applying\",\"hiring\",\"west\",\"weed\",\"hacks\",\"step\",\"sea\",\"crime\",\"devices\",\"event\",\"citizen\",\"14\",\"17\",\"ticket\",\"fund\",\"equation\",\"suicide\",\"whom\",\"met\",\"almost\",\"designer\",\"local\",\"departments\",\"khan\",\"customer\",\"banking\",\"javascript\",\"trip\",\"issue\",\"react\",\"cannot\",\"dubai\",\"wall\",\"touch\",\"parts\",\"loves\",\"clothes\",\"straight\",\"sexual\",\"active\",\"inpatient\",\"dreams\",\"protein\",\"table\",\"exercise\",\"lord\",\"mtech\",\"creative\",\"ball\",\"speaking\",\"son\",\"receive\",\"dollars\",\"domain\",\"prospects\",\"hour\",\"graduation\",\"commercial\",\"themselves\",\"factors\",\"jesus\",\"programmer\",\"recommend\",\"replace\",\"chat\",\"placement\",\"episode\",\"fastest\",\"restaurants\",\"object\",\"drivers\",\"gaming\",\"mark\",\"taste\",\"seem\",\"perfect\",\"potential\",\"trumps\",\"appear\",\"rights\",\"equal\",\"rest\",\"package\",\"meant\",\"drop\",\"cool\",\"material\",\"potter\",\"events\",\"convince\",\"completely\",\"n\",\"zero\",\"significance\",\"lower\",\"feelings\",\"followers\",\"evidence\",\"certain\",\"later\",\"original\",\"bible\",\"disorder\",\"testing\",\"via\",\"stand\",\"actor\",\"characteristics\",\"cities\",\"reach\",\"ago\",\"mbbs\",\"speech\",\"electric\",\"approach\",\"scientific\",\"root\",\"analytics\",\"below\",\"grade\",\"mains\",\"topic\",\"fun\",\"ancient\",\"adult\",\"standard\",\"ice\",\"everyday\",\"population\",\"invented\",\"european\",\"intelligent\",\"11\",\"subject\",\"rehab\",\"background\",\"giving\",\"platform\",\"flight\",\"thrones\",\"maths\",\"dc\",\"teeth\",\"mit\",\"weeks\",\"east\",\"means\",\"programs\",\"beginner\",\"heat\",\"third\",\"tea\",\"range\",\"london\",\"maximum\",\"enjoy\",\"2000\",\"cells\",\"quickly\",\"here\",\"expensive\",\"phrase\",\"partner\",\"league\",\"anime\",\"latest\",\"specific\",\"whether\",\"functions\",\"os\",\"fire\",\"saying\",\"secret\",\"13\",\"planet\",\"hole\",\"super\",\"teacher\",\"strong\",\"accounts\",\"minister\",\"database\",\"economic\",\"channel\",\"estate\",\"ram\",\"switch\",\"asian\",\"smoking\",\"branch\",\"israel\",\"18\",\"features\",\"success\",\"lead\",\"total\",\"key\",\"master\",\"ok\",\"favourite\",\"psychology\",\"pok\\u00e9mon\",\"nothing\",\"clean\",\"25\",\"politics\",\"drinking\",\"sometimes\",\"recently\",\"korea\",\"sent\",\"poor\",\"hindu\",\"hollywood\",\"survive\",\"cure\",\"property\",\"return\",\"narendra\",\"budget\",\"sports\",\"limit\",\"arent\",\"boys\",\"driving\",\"whole\",\"cash\",\"smartphone\",\"php\",\"developed\",\"ssc\",\"hot\",\"attractive\",\"tool\",\"physical\",\"ecommerce\",\"sbi\",\"morning\",\"animal\",\"multiple\",\"loan\",\"acid\",\"fresher\",\"spanish\",\"moving\",\"decision\",\"county\",\"determined\",\"becoming\",\"seo\",\"summer\",\"manage\",\"server\",\"competitive\",\"milk\",\"importance\",\"banks\",\"cheap\",\"powerful\",\"issues\",\"penis\",\"according\",\"analysis\",\"bike\",\"position\",\"western\",\"advanced\",\"campus\",\"highest\",\"front\",\"court\",\"status\",\"gravity\",\"positions\",\"comes\",\"steps\",\"complete\",\"electronics\",\"won\",\"hurt\",\"certificate\",\"temperature\",\"player\",\"someones\",\"communication\",\"million\",\"talking\",\"preparing\",\"finance\",\"cancer\",\"9\",\"harry\",\"accept\",\"2014\",\"plus\",\"born\",\"tcs\",\"license\",\"bring\",\"teach\",\"practice\",\"trading\",\"m\",\"might\",\"opportunities\",\"global\",\"wish\",\"outside\",\"attack\",\"procedure\",\"needed\",\"update\",\"coffee\",\"provider\",\"rather\",\"16\",\"allow\",\"tamil\",\"mix\",\"connect\",\"room\",\"watching\",\"deep\",\"york\",\"image\",\"birth\",\"sign\",\"birthday\",\"playing\",\"wars\",\"grads\",\"hire\",\"phones\",\"cbse\",\"details\",\"clear\",\"cricket\",\"dangerous\",\"track\",\"corporate\",\"voice\",\"upsc\",\"content\",\"okay\",\"san\",\"heart\",\"far\",\"heard\",\"prove\",\"positive\",\"moment\",\"sales\",\"opinion\",\"engineers\",\"block\",\"diet\",\"coding\",\"core\",\"baby\",\"father\",\"little\",\"large\",\"blocked\",\"distance\",\"land\",\"simple\",\"husband\",\"told\",\"traffic\",\"prevent\",\"pictures\",\"planning\",\"fear\",\"classes\",\"towards\",\"technical\",\"building\",\"trying\",\"photo\",\"early\",\"uses\",\"sydney\",\"startups\",\"act\",\"id\",\"describe\",\"12th\",\"may\",\"formula\",\"gets\",\"present\",\"wont\",\"cut\",\"treat\",\"mathematics\",\"visiting\",\"eye\",\"policy\",\"close\",\"cse\",\"suitable\",\"version\",\"tools\",\"head\",\"minimum\",\"chennai\",\"easily\",\"method\",\"intelligence\",\"gre\",\"mother\",\"doctor\",\"macbook\",\"deleted\",\"gas\",\"suggest\",\"cards\",\"files\",\"loss\",\"art\",\"easiest\",\"late\",\"among\",\"together\",\"depression\",\"higher\",\"alone\",\"economics\",\"dead\",\"growth\",\"insurance\",\"gold\",\"necessary\",\"neet\",\"blog\",\"example\",\"memory\",\"crack\",\"consider\",\"works\",\"currency\",\"recruit\",\"pursue\",\"strategy\",\"young\",\"cs\",\"projects\",\"50\",\"manager\",\"abroad\",\"schools\",\"illegal\",\"inside\",\"stories\",\"hand\",\"t\",\"greatest\",\"personality\",\"galaxy\",\"device\",\"views\",\"user\",\"chemistry\",\"cars\",\"iq\",\"prefer\",\"picture\",\"nuclear\",\"middle\",\"applications\",\"gmail\",\"laws\",\"final\",\"capital\",\"kids\",\"society\",\"fake\",\"bill\",\"save\",\"though\",\"likely\",\"determine\",\"shows\",\"character\",\"snapchat\",\"youre\",\"eyes\",\"islam\",\"marry\",\"brand\",\"yet\",\"impact\",\"speak\",\"within\",\"rich\",\"resources\",\"net\",\"non\",\"pressure\",\"changed\",\"allowed\",\"obama\",\"cold\",\"running\",\"feeling\",\"jio\",\"football\",\"gift\",\"written\",\"buying\",\"mac\",\"spend\",\"prime\",\"blue\",\"train\",\"studies\",\"negative\",\"thinking\",\"solution\",\"sun\",\"least\",\"following\",\"install\",\"else\",\"muslims\",\"camera\",\"vote\",\"linux\",\"expect\",\"german\",\"recover\",\"starting\",\"crush\",\"coming\",\"muslim\",\"modern\",\"battery\",\"provide\",\"access\",\"presidential\",\"interest\",\"dating\",\"pro\",\"likes\",\"french\",\"singapore\",\"useful\",\"already\",\"professional\",\"percentage\",\"drink\",\"created\",\"board\",\"passport\",\"structure\",\"case\",\"height\",\"microsoft\",\"break\",\"screen\",\"names\",\"chance\",\"special\",\"30\",\"skin\",\"natural\",\"color\",\"interested\",\"amount\",\"pain\",\"healthy\",\"hack\",\"messages\",\"ias\",\"gay\",\"disadvantages\",\"pass\",\"moon\",\"systems\",\"hindi\",\"financial\",\"taken\",\"yes\",\"sim\",\"pregnant\",\"faster\",\"animals\",\"internship\",\"let\",\"photos\",\"balance\",\"sound\",\"due\",\"knowledge\",\"charge\",\"message\",\"officer\",\"solar\",\"military\",\"meet\",\"option\",\"reading\",\"across\",\"overcome\",\"everyone\",\"everything\",\"wife\",\"reduce\",\"chances\",\"samsung\",\"income\",\"bollywood\",\"season\",\"europe\",\"boy\",\"currently\",\"ex\",\"smart\",\"california\",\"engine\",\"paid\",\"army\",\"contact\",\"address\",\"wants\",\"ones\",\"gain\",\"reasons\",\"avoid\",\"please\",\"note\",\"known\",\"pune\",\"film\",\"national\",\"once\",\"users\",\"porn\",\"scope\",\"twitter\",\"drug\",\"rank\",\"japan\",\"fight\",\"transfer\",\"political\",\"green\",\"news\",\"self\",\"uber\",\"basic\",\"british\",\"religion\",\"hyderabad\",\"topics\",\"explain\",\"phd\",\"eating\",\"letter\",\"calculate\",\"ive\",\"tech\",\"personal\",\"japanese\",\"check\",\"hotel\",\"wifi\",\"beautiful\",\"difficult\",\"paper\",\"languages\",\"investment\",\"develop\",\"north\",\"electrical\",\"ios\",\"alcohol\",\"exactly\",\"profile\",\"past\",\"exams\",\"ca\",\"convert\",\"vs\",\"understand\",\"care\",\"dream\",\"try\",\"americans\",\"lost\",\"chemical\",\"source\",\"b\",\"admission\",\"easy\",\"must\",\"three\",\"effect\",\"view\",\"options\",\"page\",\"away\",\"red\",\"said\",\"line\",\"short\",\"happy\",\"security\",\"dark\",\"preparation\",\"second\",\"fat\",\"matter\",\"few\",\"since\",\"role\",\"pc\",\"office\",\"team\",\"delete\",\"cell\",\"election\",\"economy\",\"term\",\"dogs\",\"text\",\"female\",\"effective\",\"brain\",\"share\",\"digital\",\"btech\",\"russia\",\"\\u201c\",\"party\",\"numbers\",\"20\",\"store\",\"male\",\"mass\",\"turn\",\"left\",\"married\",\"rs\",\"taking\",\"those\",\"password\",\"follow\",\"advice\",\"isnt\",\"15\",\"types\",\"network\",\"\\u201d\",\"week\",\"purpose\",\"related\",\"fix\",\"started\",\"courses\",\"masters\",\"grow\",\"8\",\"fast\",\"leave\",\"100\",\"often\",\"found\",\"pros\",\"marriage\",\"cons\",\"quality\",\"words\",\"kill\",\"price\",\"near\",\"modi\",\"enough\",\"search\",\"python\",\"x\",\"blood\",\"math\",\"yourself\",\"drive\",\"size\",\"star\",\"graduate\",\"majors\",\"500\",\"model\",\"studying\",\"general\",\"oil\",\"colleges\",\"area\",\"developer\",\"germany\",\"industry\",\"full\",\"training\",\"says\",\"period\",\"videos\",\"universe\",\"fall\",\"daily\",\"information\",\"foreign\",\"credit\",\"force\",\"12\",\"youve\",\"south\",\"offer\",\"set\",\"add\",\"send\",\"australia\",\"center\",\"1000\",\"famous\",\"2015\",\"lot\",\"function\",\"tax\",\"correct\",\"solve\",\"advantages\",\"coaching\",\"institute\",\"effects\",\"guys\",\"again\",\"group\",\"hours\",\"side\",\"sentence\",\"low\",\"similar\",\"plan\",\"children\",\"answers\",\"talk\",\"marks\",\"ideas\",\"theory\",\"death\",\"compared\",\"night\",\"remove\",\"dog\",\"anything\",\"single\",\"successful\",\"gate\",\"indians\",\"put\",\"problems\",\"move\",\"writing\",\"point\",\"invest\",\"asked\",\"biggest\",\"others\",\"stock\",\"notes\",\"story\",\"machine\",\"private\",\"sell\",\"seen\",\"required\",\"field\",\"file\",\"rate\",\"humans\",\"application\",\"face\",\"sites\",\"mind\",\"facts\",\"mumbai\",\"post\",\"stay\",\"child\",\"terms\",\"products\",\"control\",\"legal\",\"police\",\"didnt\",\"level\",\"worst\",\"hate\",\"visit\",\"called\",\"amazon\",\"causes\",\"health\",\"form\",\"physics\",\"iit\",\"skills\",\"times\",\"medical\",\"based\",\"list\",\"websites\",\"die\",\"part\",\"less\",\"benefits\",\"apple\",\"instead\",\"these\",\"boyfriend\",\"sleep\",\"canada\",\"reason\",\"education\",\"cause\",\"jee\",\"value\",\"today\",\"media\",\"public\",\"happened\",\"product\",\"research\",\"main\",\"behind\",\"international\",\"project\",\"uk\",\"differ\",\"7\",\"places\",\"wear\",\"order\",\"date\",\"etc\",\"small\",\"songs\",\"apps\",\"email\",\"given\",\"wrong\",\"site\",\"normal\",\"culture\",\"also\",\"civil\",\"city\",\"available\",\"house\",\"exist\",\"startup\",\"services\",\"ms\",\"both\",\"down\",\"2017\",\"run\",\"cat\",\"well\",\"space\",\"join\",\"deal\",\"games\",\"visa\",\"rid\",\"air\",\"speed\",\"popular\",\"problem\",\"support\",\"current\",\"pakistan\",\"choose\",\"build\",\"idea\",\"america\",\"whatsapp\",\"affect\",\"law\",\"technology\",\"call\",\"6\",\"universities\",\"family\",\"marketing\",\"major\",\"actually\",\"favorite\",\"light\",\"bangalore\",\"woman\",\"because\",\"type\",\"program\",\"looking\",\"living\",\"open\",\"believe\",\"month\",\"able\",\"management\",\"travel\",\"degree\",\"show\",\"interesting\",\"score\",\"months\",\"series\",\"chinese\",\"development\",\"end\",\"code\",\"design\",\"per\",\"employees\",\"review\",\"clinton\",\"common\",\"kind\",\"internet\",\"song\",\"download\",\"course\",\"parents\",\"jobs\",\"such\",\"increase\",\"java\",\"god\",\"another\",\"united\",\"girlfriend\",\"mechanical\",\"always\",\"next\",\"never\",\"around\",\"tips\",\"mba\",\"myself\",\"hillary\",\"apply\",\"answer\",\"something\",\"considered\",\"making\",\"differences\",\"market\",\"compare\",\"great\",\"keep\",\"test\",\"s\",\"win\",\"against\",\"states\",\"earn\",\"youtube\",\"worth\",\"delhi\",\"energy\",\"laptop\",\"american\",\"lose\",\"each\",\"hard\",\"makes\",\"age\",\"ask\",\"safe\",\"body\",\"power\",\"salary\",\"4\",\"watch\",\"white\",\"windows\",\"instagram\",\"history\",\"pay\",\"every\",\"last\",\"create\",\"relationship\",\"music\",\"too\",\"meaning\",\"state\",\"average\",\"earth\",\"got\",\"process\",\"class\",\"tv\",\"eat\",\"done\",\"happens\",\"days\",\"big\",\"off\",\"improve\",\"future\",\"place\",\"man\",\"human\",\"government\",\"play\",\"countries\",\"food\",\"service\",\"students\",\"weight\",\"game\",\"engineer\",\"write\",\"very\",\"interview\",\"web\",\"tell\",\"social\",\"girls\",\"video\",\"look\",\"having\",\"guy\",\"home\",\"hair\",\"usa\",\"doesnt\",\"word\",\"bank\",\"friend\",\"true\",\"experience\",\"career\",\"president\",\"question\",\"own\",\"china\",\"come\",\"under\",\"working\",\"him\",\"doing\",\"donald\",\"friends\",\"right\",\"5\",\"cost\",\"mobile\",\"even\",\"movies\",\"then\",\"c\",\"\\u2019\",\"exam\",\"men\",\"learning\",\"card\",\"war\",\"read\",\"programming\",\"black\",\"anyone\",\"high\",\"10\",\"companies\",\"car\",\"getting\",\"give\",\"important\",\"questions\",\"cant\",\"iphone\",\"website\",\"top\",\"water\",\"prepare\",\"during\",\"real\",\"say\",\"system\",\"name\",\"through\",\"two\",\"1\",\"our\",\"study\",\"3\",\"university\",\"made\",\"back\",\"happen\",\"stop\",\"student\",\"sex\",\"bad\",\"language\",\"going\",\"same\",\"before\",\"software\",\"school\",\"live\",\"country\",\"android\",\"science\",\"help\",\"she\",\"see\",\"thing\",\"women\",\"over\",\"data\",\"examples\",\"computer\",\"had\",\"ways\",\"change\",\"while\",\"book\",\"english\",\"account\",\"still\",\"movie\",\"books\",\"2016\",\"facebook\",\"free\",\"number\",\"college\",\"app\",\"2\",\"just\",\"now\",\"no\",\"trump\",\"company\",\"only\",\"old\",\"been\",\"google\",\"phone\",\"long\",\"different\",\"girl\",\"his\",\"her\",\"years\",\"really\",\"them\",\"using\",\"business\",\"need\",\"being\",\"buy\",\"day\",\"person\",\"things\",\"possible\",\"could\",\"were\",\"its\",\"love\",\"engineering\",\"im\",\"used\",\"online\",\"go\",\"year\",\"he\",\"into\",\"feel\",\"dont\",\"first\",\"up\"]]]}}},\"view\":{\"type\":\"object\",\"name\":\"CDSView\",\"id\":\"p1045\",\"attributes\":{\"filter\":{\"type\":\"object\",\"name\":\"AllIndices\",\"id\":\"p1046\"}}},\"glyph\":{\"type\":\"object\",\"name\":\"Scatter\",\"id\":\"p1041\",\"attributes\":{\"x\":{\"type\":\"field\",\"field\":\"x\"},\"y\":{\"type\":\"field\",\"field\":\"y\"},\"size\":{\"type\":\"value\",\"value\":10},\"line_color\":{\"type\":\"field\",\"field\":\"color\"},\"line_alpha\":{\"type\":\"value\",\"value\":0.25},\"fill_color\":{\"type\":\"field\",\"field\":\"color\"},\"fill_alpha\":{\"type\":\"value\",\"value\":0.25},\"hatch_color\":{\"type\":\"field\",\"field\":\"color\"},\"hatch_alpha\":{\"type\":\"value\",\"value\":0.25}}},\"nonselection_glyph\":{\"type\":\"object\",\"name\":\"Scatter\",\"id\":\"p1042\",\"attributes\":{\"x\":{\"type\":\"field\",\"field\":\"x\"},\"y\":{\"type\":\"field\",\"field\":\"y\"},\"size\":{\"type\":\"value\",\"value\":10},\"line_color\":{\"type\":\"field\",\"field\":\"color\"},\"line_alpha\":{\"type\":\"value\",\"value\":0.1},\"fill_color\":{\"type\":\"field\",\"field\":\"color\"},\"fill_alpha\":{\"type\":\"value\",\"value\":0.1},\"hatch_color\":{\"type\":\"field\",\"field\":\"color\"},\"hatch_alpha\":{\"type\":\"value\",\"value\":0.1}}},\"muted_glyph\":{\"type\":\"object\",\"name\":\"Scatter\",\"id\":\"p1043\",\"attributes\":{\"x\":{\"type\":\"field\",\"field\":\"x\"},\"y\":{\"type\":\"field\",\"field\":\"y\"},\"size\":{\"type\":\"value\",\"value\":10},\"line_color\":{\"type\":\"field\",\"field\":\"color\"},\"line_alpha\":{\"type\":\"value\",\"value\":0.2},\"fill_color\":{\"type\":\"field\",\"field\":\"color\"},\"fill_alpha\":{\"type\":\"value\",\"value\":0.2},\"hatch_color\":{\"type\":\"field\",\"field\":\"color\"},\"hatch_alpha\":{\"type\":\"value\",\"value\":0.2}}}}}],\"toolbar\":{\"type\":\"object\",\"name\":\"Toolbar\",\"id\":\"p1012\",\"attributes\":{\"tools\":[{\"type\":\"object\",\"name\":\"PanTool\",\"id\":\"p1025\"},{\"type\":\"object\",\"name\":\"WheelZoomTool\",\"id\":\"p1026\",\"attributes\":{\"renderers\":\"auto\"}},{\"type\":\"object\",\"name\":\"BoxZoomTool\",\"id\":\"p1027\",\"attributes\":{\"dimensions\":\"both\",\"overlay\":{\"type\":\"object\",\"name\":\"BoxAnnotation\",\"id\":\"p1028\",\"attributes\":{\"syncable\":false,\"line_color\":\"black\",\"line_alpha\":1.0,\"line_width\":2,\"line_dash\":[4,4],\"fill_color\":\"lightgrey\",\"fill_alpha\":0.5,\"level\":\"overlay\",\"visible\":false,\"left\":{\"type\":\"number\",\"value\":\"nan\"},\"right\":{\"type\":\"number\",\"value\":\"nan\"},\"top\":{\"type\":\"number\",\"value\":\"nan\"},\"bottom\":{\"type\":\"number\",\"value\":\"nan\"},\"left_units\":\"canvas\",\"right_units\":\"canvas\",\"top_units\":\"canvas\",\"bottom_units\":\"canvas\",\"handles\":{\"type\":\"object\",\"name\":\"BoxInteractionHandles\",\"id\":\"p1034\",\"attributes\":{\"all\":{\"type\":\"object\",\"name\":\"AreaVisuals\",\"id\":\"p1033\",\"attributes\":{\"fill_color\":\"white\",\"hover_fill_color\":\"lightgray\"}}}}}}}},{\"type\":\"object\",\"name\":\"SaveTool\",\"id\":\"p1035\"},{\"type\":\"object\",\"name\":\"ResetTool\",\"id\":\"p1036\"},{\"type\":\"object\",\"name\":\"HelpTool\",\"id\":\"p1037\"},{\"type\":\"object\",\"name\":\"HoverTool\",\"id\":\"p1047\",\"attributes\":{\"renderers\":\"auto\",\"tooltips\":[[\"token\",\"@token\"]]}}],\"active_scroll\":{\"id\":\"p1026\"}}},\"left\":[{\"type\":\"object\",\"name\":\"LinearAxis\",\"id\":\"p1020\",\"attributes\":{\"ticker\":{\"type\":\"object\",\"name\":\"BasicTicker\",\"id\":\"p1021\",\"attributes\":{\"mantissas\":[1,2,5]}},\"formatter\":{\"type\":\"object\",\"name\":\"BasicTickFormatter\",\"id\":\"p1022\"},\"major_label_policy\":{\"type\":\"object\",\"name\":\"AllLabels\",\"id\":\"p1023\"}}}],\"below\":[{\"type\":\"object\",\"name\":\"LinearAxis\",\"id\":\"p1015\",\"attributes\":{\"ticker\":{\"type\":\"object\",\"name\":\"BasicTicker\",\"id\":\"p1016\",\"attributes\":{\"mantissas\":[1,2,5]}},\"formatter\":{\"type\":\"object\",\"name\":\"BasicTickFormatter\",\"id\":\"p1017\"},\"major_label_policy\":{\"type\":\"object\",\"name\":\"AllLabels\",\"id\":\"p1018\"}}}],\"center\":[{\"type\":\"object\",\"name\":\"Grid\",\"id\":\"p1019\",\"attributes\":{\"axis\":{\"id\":\"p1015\"}}},{\"type\":\"object\",\"name\":\"Grid\",\"id\":\"p1024\",\"attributes\":{\"dimension\":1,\"axis\":{\"id\":\"p1020\"}}}]}}]}};\n  const render_items = [{\"docid\":\"92a93e05-040f-4da0-af77-7e642a641433\",\"roots\":{\"p1004\":\"e5f10674-f96c-4598-bd09-3958517bdccb\"},\"root_ids\":[\"p1004\"]}];\n  void root.Bokeh.embed.embed_items_notebook(docs_json, render_items);\n  }\n  if (root.Bokeh !== undefined) {\n    embed_document(root);\n  } else {\n    let attempts = 0;\n    const timer = setInterval(function(root) {\n      if (root.Bokeh !== undefined) {\n        clearInterval(timer);\n        embed_document(root);\n      } else {\n        attempts++;\n        if (attempts > 100) {\n          clearInterval(timer);\n          console.log(\"Bokeh: ERROR: Unable to run BokehJS code because BokehJS library is missing\");\n        }\n      }\n    }, 10, root)\n  }\n})(window);",
            "application/vnd.bokehjs_exec.v0+json": ""
          },
          "metadata": {
            "application/vnd.bokehjs_exec.v0+json": {
              "id": "p1004"
            }
          },
          "output_type": "display_data"
        },
        {
          "data": {
            "text/html": [
              "<div style=\"display: table;\"><div style=\"display: table-row;\"><div style=\"display: table-cell;\"><b title=\"bokeh.plotting._figure.figure\">figure</b>(</div><div style=\"display: table-cell;\">id&nbsp;=&nbsp;'p1004', <span id=\"p1051\" style=\"cursor: pointer;\">&hellip;)</span></div></div><div class=\"p1050\" style=\"display: none;\"><div style=\"display: table-cell;\"></div><div style=\"display: table-cell;\">above&nbsp;=&nbsp;[],</div></div><div class=\"p1050\" style=\"display: none;\"><div style=\"display: table-cell;\"></div><div style=\"display: table-cell;\">align&nbsp;=&nbsp;'auto',</div></div><div class=\"p1050\" style=\"display: none;\"><div style=\"display: table-cell;\"></div><div style=\"display: table-cell;\">aspect_ratio&nbsp;=&nbsp;None,</div></div><div class=\"p1050\" style=\"display: none;\"><div style=\"display: table-cell;\"></div><div style=\"display: table-cell;\">aspect_scale&nbsp;=&nbsp;1,</div></div><div class=\"p1050\" style=\"display: none;\"><div style=\"display: table-cell;\"></div><div style=\"display: table-cell;\">attribution&nbsp;=&nbsp;[],</div></div><div class=\"p1050\" style=\"display: none;\"><div style=\"display: table-cell;\"></div><div style=\"display: table-cell;\">background_fill_alpha&nbsp;=&nbsp;1.0,</div></div><div class=\"p1050\" style=\"display: none;\"><div style=\"display: table-cell;\"></div><div style=\"display: table-cell;\">background_fill_color&nbsp;=&nbsp;'#ffffff',</div></div><div class=\"p1050\" style=\"display: none;\"><div style=\"display: table-cell;\"></div><div style=\"display: table-cell;\">background_hatch_alpha&nbsp;=&nbsp;1.0,</div></div><div class=\"p1050\" style=\"display: none;\"><div style=\"display: table-cell;\"></div><div style=\"display: table-cell;\">background_hatch_color&nbsp;=&nbsp;'black',</div></div><div class=\"p1050\" style=\"display: none;\"><div style=\"display: table-cell;\"></div><div style=\"display: table-cell;\">background_hatch_extra&nbsp;=&nbsp;{},</div></div><div class=\"p1050\" style=\"display: none;\"><div style=\"display: table-cell;\"></div><div style=\"display: table-cell;\">background_hatch_pattern&nbsp;=&nbsp;None,</div></div><div class=\"p1050\" style=\"display: none;\"><div style=\"display: table-cell;\"></div><div style=\"display: table-cell;\">background_hatch_scale&nbsp;=&nbsp;12.0,</div></div><div class=\"p1050\" style=\"display: none;\"><div style=\"display: table-cell;\"></div><div style=\"display: table-cell;\">background_hatch_weight&nbsp;=&nbsp;1.0,</div></div><div class=\"p1050\" style=\"display: none;\"><div style=\"display: table-cell;\"></div><div style=\"display: table-cell;\">below&nbsp;=&nbsp;[LinearAxis(id='p1015', ...)],</div></div><div class=\"p1050\" style=\"display: none;\"><div style=\"display: table-cell;\"></div><div style=\"display: table-cell;\">border_fill_alpha&nbsp;=&nbsp;1.0,</div></div><div class=\"p1050\" style=\"display: none;\"><div style=\"display: table-cell;\"></div><div style=\"display: table-cell;\">border_fill_color&nbsp;=&nbsp;'#ffffff',</div></div><div class=\"p1050\" style=\"display: none;\"><div style=\"display: table-cell;\"></div><div style=\"display: table-cell;\">border_hatch_alpha&nbsp;=&nbsp;1.0,</div></div><div class=\"p1050\" style=\"display: none;\"><div style=\"display: table-cell;\"></div><div style=\"display: table-cell;\">border_hatch_color&nbsp;=&nbsp;'black',</div></div><div class=\"p1050\" style=\"display: none;\"><div style=\"display: table-cell;\"></div><div style=\"display: table-cell;\">border_hatch_extra&nbsp;=&nbsp;{},</div></div><div class=\"p1050\" style=\"display: none;\"><div style=\"display: table-cell;\"></div><div style=\"display: table-cell;\">border_hatch_pattern&nbsp;=&nbsp;None,</div></div><div class=\"p1050\" style=\"display: none;\"><div style=\"display: table-cell;\"></div><div style=\"display: table-cell;\">border_hatch_scale&nbsp;=&nbsp;12.0,</div></div><div class=\"p1050\" style=\"display: none;\"><div style=\"display: table-cell;\"></div><div style=\"display: table-cell;\">border_hatch_weight&nbsp;=&nbsp;1.0,</div></div><div class=\"p1050\" style=\"display: none;\"><div style=\"display: table-cell;\"></div><div style=\"display: table-cell;\">center&nbsp;=&nbsp;[Grid(id='p1019', ...), Grid(id='p1024', ...)],</div></div><div class=\"p1050\" style=\"display: none;\"><div style=\"display: table-cell;\"></div><div style=\"display: table-cell;\">context_menu&nbsp;=&nbsp;'auto',</div></div><div class=\"p1050\" style=\"display: none;\"><div style=\"display: table-cell;\"></div><div style=\"display: table-cell;\">css_classes&nbsp;=&nbsp;[],</div></div><div class=\"p1050\" style=\"display: none;\"><div style=\"display: table-cell;\"></div><div style=\"display: table-cell;\">css_variables&nbsp;=&nbsp;{},</div></div><div class=\"p1050\" style=\"display: none;\"><div style=\"display: table-cell;\"></div><div style=\"display: table-cell;\">disabled&nbsp;=&nbsp;False,</div></div><div class=\"p1050\" style=\"display: none;\"><div style=\"display: table-cell;\"></div><div style=\"display: table-cell;\">elements&nbsp;=&nbsp;[],</div></div><div class=\"p1050\" style=\"display: none;\"><div style=\"display: table-cell;\"></div><div style=\"display: table-cell;\">extra_x_ranges&nbsp;=&nbsp;{},</div></div><div class=\"p1050\" style=\"display: none;\"><div style=\"display: table-cell;\"></div><div style=\"display: table-cell;\">extra_x_scales&nbsp;=&nbsp;{},</div></div><div class=\"p1050\" style=\"display: none;\"><div style=\"display: table-cell;\"></div><div style=\"display: table-cell;\">extra_y_ranges&nbsp;=&nbsp;{},</div></div><div class=\"p1050\" style=\"display: none;\"><div style=\"display: table-cell;\"></div><div style=\"display: table-cell;\">extra_y_scales&nbsp;=&nbsp;{},</div></div><div class=\"p1050\" style=\"display: none;\"><div style=\"display: table-cell;\"></div><div style=\"display: table-cell;\">flow_mode&nbsp;=&nbsp;'block',</div></div><div class=\"p1050\" style=\"display: none;\"><div style=\"display: table-cell;\"></div><div style=\"display: table-cell;\">frame_align&nbsp;=&nbsp;True,</div></div><div class=\"p1050\" style=\"display: none;\"><div style=\"display: table-cell;\"></div><div style=\"display: table-cell;\">frame_height&nbsp;=&nbsp;None,</div></div><div class=\"p1050\" style=\"display: none;\"><div style=\"display: table-cell;\"></div><div style=\"display: table-cell;\">frame_width&nbsp;=&nbsp;None,</div></div><div class=\"p1050\" style=\"display: none;\"><div style=\"display: table-cell;\"></div><div style=\"display: table-cell;\">height&nbsp;=&nbsp;400,</div></div><div class=\"p1050\" style=\"display: none;\"><div style=\"display: table-cell;\"></div><div style=\"display: table-cell;\">height_policy&nbsp;=&nbsp;'auto',</div></div><div class=\"p1050\" style=\"display: none;\"><div style=\"display: table-cell;\"></div><div style=\"display: table-cell;\">hidpi&nbsp;=&nbsp;True,</div></div><div class=\"p1050\" style=\"display: none;\"><div style=\"display: table-cell;\"></div><div style=\"display: table-cell;\">hold_render&nbsp;=&nbsp;False,</div></div><div class=\"p1050\" style=\"display: none;\"><div style=\"display: table-cell;\"></div><div style=\"display: table-cell;\">html_attributes&nbsp;=&nbsp;{},</div></div><div class=\"p1050\" style=\"display: none;\"><div style=\"display: table-cell;\"></div><div style=\"display: table-cell;\">html_id&nbsp;=&nbsp;None,</div></div><div class=\"p1050\" style=\"display: none;\"><div style=\"display: table-cell;\"></div><div style=\"display: table-cell;\">js_event_callbacks&nbsp;=&nbsp;{},</div></div><div class=\"p1050\" style=\"display: none;\"><div style=\"display: table-cell;\"></div><div style=\"display: table-cell;\">js_property_callbacks&nbsp;=&nbsp;{},</div></div><div class=\"p1050\" style=\"display: none;\"><div style=\"display: table-cell;\"></div><div style=\"display: table-cell;\">left&nbsp;=&nbsp;[LinearAxis(id='p1020', ...)],</div></div><div class=\"p1050\" style=\"display: none;\"><div style=\"display: table-cell;\"></div><div style=\"display: table-cell;\">lod_factor&nbsp;=&nbsp;10,</div></div><div class=\"p1050\" style=\"display: none;\"><div style=\"display: table-cell;\"></div><div style=\"display: table-cell;\">lod_interval&nbsp;=&nbsp;300,</div></div><div class=\"p1050\" style=\"display: none;\"><div style=\"display: table-cell;\"></div><div style=\"display: table-cell;\">lod_threshold&nbsp;=&nbsp;2000,</div></div><div class=\"p1050\" style=\"display: none;\"><div style=\"display: table-cell;\"></div><div style=\"display: table-cell;\">lod_timeout&nbsp;=&nbsp;500,</div></div><div class=\"p1050\" style=\"display: none;\"><div style=\"display: table-cell;\"></div><div style=\"display: table-cell;\">margin&nbsp;=&nbsp;None,</div></div><div class=\"p1050\" style=\"display: none;\"><div style=\"display: table-cell;\"></div><div style=\"display: table-cell;\">match_aspect&nbsp;=&nbsp;False,</div></div><div class=\"p1050\" style=\"display: none;\"><div style=\"display: table-cell;\"></div><div style=\"display: table-cell;\">max_height&nbsp;=&nbsp;None,</div></div><div class=\"p1050\" style=\"display: none;\"><div style=\"display: table-cell;\"></div><div style=\"display: table-cell;\">max_width&nbsp;=&nbsp;None,</div></div><div class=\"p1050\" style=\"display: none;\"><div style=\"display: table-cell;\"></div><div style=\"display: table-cell;\">min_border&nbsp;=&nbsp;5,</div></div><div class=\"p1050\" style=\"display: none;\"><div style=\"display: table-cell;\"></div><div style=\"display: table-cell;\">min_border_bottom&nbsp;=&nbsp;None,</div></div><div class=\"p1050\" style=\"display: none;\"><div style=\"display: table-cell;\"></div><div style=\"display: table-cell;\">min_border_left&nbsp;=&nbsp;None,</div></div><div class=\"p1050\" style=\"display: none;\"><div style=\"display: table-cell;\"></div><div style=\"display: table-cell;\">min_border_right&nbsp;=&nbsp;None,</div></div><div class=\"p1050\" style=\"display: none;\"><div style=\"display: table-cell;\"></div><div style=\"display: table-cell;\">min_border_top&nbsp;=&nbsp;None,</div></div><div class=\"p1050\" style=\"display: none;\"><div style=\"display: table-cell;\"></div><div style=\"display: table-cell;\">min_height&nbsp;=&nbsp;None,</div></div><div class=\"p1050\" style=\"display: none;\"><div style=\"display: table-cell;\"></div><div style=\"display: table-cell;\">min_width&nbsp;=&nbsp;None,</div></div><div class=\"p1050\" style=\"display: none;\"><div style=\"display: table-cell;\"></div><div style=\"display: table-cell;\">name&nbsp;=&nbsp;None,</div></div><div class=\"p1050\" style=\"display: none;\"><div style=\"display: table-cell;\"></div><div style=\"display: table-cell;\">outline_line_alpha&nbsp;=&nbsp;1.0,</div></div><div class=\"p1050\" style=\"display: none;\"><div style=\"display: table-cell;\"></div><div style=\"display: table-cell;\">outline_line_cap&nbsp;=&nbsp;'butt',</div></div><div class=\"p1050\" style=\"display: none;\"><div style=\"display: table-cell;\"></div><div style=\"display: table-cell;\">outline_line_color&nbsp;=&nbsp;'#e5e5e5',</div></div><div class=\"p1050\" style=\"display: none;\"><div style=\"display: table-cell;\"></div><div style=\"display: table-cell;\">outline_line_dash&nbsp;=&nbsp;[],</div></div><div class=\"p1050\" style=\"display: none;\"><div style=\"display: table-cell;\"></div><div style=\"display: table-cell;\">outline_line_dash_offset&nbsp;=&nbsp;0,</div></div><div class=\"p1050\" style=\"display: none;\"><div style=\"display: table-cell;\"></div><div style=\"display: table-cell;\">outline_line_join&nbsp;=&nbsp;'bevel',</div></div><div class=\"p1050\" style=\"display: none;\"><div style=\"display: table-cell;\"></div><div style=\"display: table-cell;\">outline_line_width&nbsp;=&nbsp;1,</div></div><div class=\"p1050\" style=\"display: none;\"><div style=\"display: table-cell;\"></div><div style=\"display: table-cell;\">output_backend&nbsp;=&nbsp;'canvas',</div></div><div class=\"p1050\" style=\"display: none;\"><div style=\"display: table-cell;\"></div><div style=\"display: table-cell;\">renderers&nbsp;=&nbsp;[GlyphRenderer(id='p1044', ...)],</div></div><div class=\"p1050\" style=\"display: none;\"><div style=\"display: table-cell;\"></div><div style=\"display: table-cell;\">reset_policy&nbsp;=&nbsp;'standard',</div></div><div class=\"p1050\" style=\"display: none;\"><div style=\"display: table-cell;\"></div><div style=\"display: table-cell;\">resizable&nbsp;=&nbsp;False,</div></div><div class=\"p1050\" style=\"display: none;\"><div style=\"display: table-cell;\"></div><div style=\"display: table-cell;\">right&nbsp;=&nbsp;[],</div></div><div class=\"p1050\" style=\"display: none;\"><div style=\"display: table-cell;\"></div><div style=\"display: table-cell;\">sizing_mode&nbsp;=&nbsp;None,</div></div><div class=\"p1050\" style=\"display: none;\"><div style=\"display: table-cell;\"></div><div style=\"display: table-cell;\">styles&nbsp;=&nbsp;{},</div></div><div class=\"p1050\" style=\"display: none;\"><div style=\"display: table-cell;\"></div><div style=\"display: table-cell;\">stylesheets&nbsp;=&nbsp;[],</div></div><div class=\"p1050\" style=\"display: none;\"><div style=\"display: table-cell;\"></div><div style=\"display: table-cell;\">subscribed_events&nbsp;=&nbsp;PropertyValueSet(),</div></div><div class=\"p1050\" style=\"display: none;\"><div style=\"display: table-cell;\"></div><div style=\"display: table-cell;\">syncable&nbsp;=&nbsp;True,</div></div><div class=\"p1050\" style=\"display: none;\"><div style=\"display: table-cell;\"></div><div style=\"display: table-cell;\">tags&nbsp;=&nbsp;[],</div></div><div class=\"p1050\" style=\"display: none;\"><div style=\"display: table-cell;\"></div><div style=\"display: table-cell;\">title&nbsp;=&nbsp;Title(id='p1011', ...),</div></div><div class=\"p1050\" style=\"display: none;\"><div style=\"display: table-cell;\"></div><div style=\"display: table-cell;\">title_location&nbsp;=&nbsp;'above',</div></div><div class=\"p1050\" style=\"display: none;\"><div style=\"display: table-cell;\"></div><div style=\"display: table-cell;\">toolbar&nbsp;=&nbsp;Toolbar(id='p1012', ...),</div></div><div class=\"p1050\" style=\"display: none;\"><div style=\"display: table-cell;\"></div><div style=\"display: table-cell;\">toolbar_inner&nbsp;=&nbsp;False,</div></div><div class=\"p1050\" style=\"display: none;\"><div style=\"display: table-cell;\"></div><div style=\"display: table-cell;\">toolbar_location&nbsp;=&nbsp;'right',</div></div><div class=\"p1050\" style=\"display: none;\"><div style=\"display: table-cell;\"></div><div style=\"display: table-cell;\">toolbar_sticky&nbsp;=&nbsp;True,</div></div><div class=\"p1050\" style=\"display: none;\"><div style=\"display: table-cell;\"></div><div style=\"display: table-cell;\">visible&nbsp;=&nbsp;True,</div></div><div class=\"p1050\" style=\"display: none;\"><div style=\"display: table-cell;\"></div><div style=\"display: table-cell;\">width&nbsp;=&nbsp;600,</div></div><div class=\"p1050\" style=\"display: none;\"><div style=\"display: table-cell;\"></div><div style=\"display: table-cell;\">width_policy&nbsp;=&nbsp;'auto',</div></div><div class=\"p1050\" style=\"display: none;\"><div style=\"display: table-cell;\"></div><div style=\"display: table-cell;\">window_axis&nbsp;=&nbsp;'none',</div></div><div class=\"p1050\" style=\"display: none;\"><div style=\"display: table-cell;\"></div><div style=\"display: table-cell;\">x_range&nbsp;=&nbsp;DataRange1d(id='p1005', ...),</div></div><div class=\"p1050\" style=\"display: none;\"><div style=\"display: table-cell;\"></div><div style=\"display: table-cell;\">x_scale&nbsp;=&nbsp;LinearScale(id='p1013', ...),</div></div><div class=\"p1050\" style=\"display: none;\"><div style=\"display: table-cell;\"></div><div style=\"display: table-cell;\">y_range&nbsp;=&nbsp;DataRange1d(id='p1006', ...),</div></div><div class=\"p1050\" style=\"display: none;\"><div style=\"display: table-cell;\"></div><div style=\"display: table-cell;\">y_scale&nbsp;=&nbsp;LinearScale(id='p1014', ...))</div></div></div>\n",
              "<script>\n",
              "(function() {\n",
              "  let expanded = false;\n",
              "  const ellipsis = document.getElementById(\"p1051\");\n",
              "  ellipsis.addEventListener(\"click\", function() {\n",
              "    const rows = document.getElementsByClassName(\"p1050\");\n",
              "    for (let i = 0; i < rows.length; i++) {\n",
              "      const el = rows[i];\n",
              "      el.style.display = expanded ? \"none\" : \"table-row\";\n",
              "    }\n",
              "    ellipsis.innerHTML = expanded ? \"&hellip;)\" : \"&lsaquo;&lsaquo;&lsaquo;\";\n",
              "    expanded = !expanded;\n",
              "  });\n",
              "})();\n",
              "</script>\n"
            ],
            "text/plain": [
              "figure(id='p1004', ...)"
            ]
          },
          "execution_count": 35,
          "metadata": {},
          "output_type": "execute_result"
        }
      ],
      "source": [
        "draw_vectors(embedding[:, 0], embedding[:, 1], token=top_words)"
      ]
    },
    {
      "cell_type": "markdown",
      "metadata": {
        "id": "Lb6voiDcE1gp"
      },
      "source": [
        "Для сдачи задания необходимо загрузить функции `subsample_frequent_words` и `get_negative_sampling_prob`, а также сгенерировать файл для посылки ниже и приложить в соответствующую задачу. Успехов!"
      ]
    },
    {
      "cell_type": "code",
      "execution_count": 36,
      "metadata": {
        "id": "GVvDYvzzE1gp"
      },
      "outputs": [
        {
          "name": "stdout",
          "output_type": "stream",
          "text": [
            "File saved to `submission_dict.json`\n"
          ]
        }
      ],
      "source": [
        "# do not change the code in the block below\n",
        "# __________start of block__________\n",
        "import os\n",
        "import json\n",
        "\n",
        "assert os.path.exists(\n",
        "    \"words_subset.txt\"\n",
        "), \"Please, download `words_subset.txt` and place it in the working directory\"\n",
        "\n",
        "with open(\"words_subset.txt\") as iofile:\n",
        "    selected_words = iofile.read().split(\"\\n\")\n",
        "\n",
        "\n",
        "def get_matrix_for_selected_words(selected_words, embedding_matrix, word_to_index):\n",
        "    word_vectors = []\n",
        "    for word in selected_words:\n",
        "        index = word_to_index.get(word, None)\n",
        "        vector = [0.0] * embedding_matrix.shape[1]\n",
        "        if index is not None:\n",
        "            vector = embedding_matrix[index].numpy().tolist()\n",
        "        word_vectors.append(vector)\n",
        "    return word_vectors\n",
        "\n",
        "\n",
        "word_vectors = get_matrix_for_selected_words(\n",
        "    selected_words, embedding_matrix_context, word_to_index\n",
        ")\n",
        "\n",
        "with open(\"submission_dict.json\", \"w\") as iofile:\n",
        "    json.dump(word_vectors, iofile)\n",
        "print(\"File saved to `submission_dict.json`\")\n",
        "# __________end of block__________"
      ]
    }
  ],
  "metadata": {
    "colab": {
      "provenance": []
    },
    "kernelspec": {
      "display_name": ".venv",
      "language": "python",
      "name": "python3"
    },
    "language_info": {
      "codemirror_mode": {
        "name": "ipython",
        "version": 3
      },
      "file_extension": ".py",
      "mimetype": "text/x-python",
      "name": "python",
      "nbconvert_exporter": "python",
      "pygments_lexer": "ipython3",
      "version": "3.13.2"
    }
  },
  "nbformat": 4,
  "nbformat_minor": 0
}
